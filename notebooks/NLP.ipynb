{
  "nbformat": 4,
  "nbformat_minor": 0,
  "metadata": {
    "colab": {
      "name": "NLP.ipynb",
      "provenance": []
    },
    "kernelspec": {
      "name": "python3",
      "display_name": "Python 3"
    }
  },
  "cells": [
    {
      "cell_type": "code",
      "metadata": {
        "id": "NJRAJGoXJUNZ",
        "colab_type": "code",
        "colab": {}
      },
      "source": [
        ""
      ],
      "execution_count": null,
      "outputs": []
    },
    {
      "cell_type": "code",
      "metadata": {
        "id": "jtJAFs8vJasz",
        "colab_type": "code",
        "colab": {
          "base_uri": "https://localhost:8080/",
          "height": 221
        },
        "outputId": "b3b9ac64-5c1c-46ee-c93a-f989567751a9"
      },
      "source": [
        "# Install Java, Spark, and Findspark\n",
        "!apt-get update\n",
        "!apt-get install openjdk-8-jdk-headless -qq > /dev/null\n",
        "!wget -q http://www-us.apache.org/dist/spark/spark-2.4.6/spark-2.4.6-bin-hadoop2.7.tgz\n",
        "!tar xf spark-2.4.6-bin-hadoop2.7.tgz\n",
        "!pip install -q findspark\n",
        "\n",
        "# Set Environment Variables\n",
        "import os\n",
        "os.environ[\"JAVA_HOME\"] = \"/usr/lib/jvm/java-8-openjdk-amd64\"\n",
        "os.environ[\"SPARK_HOME\"] = \"/content/spark-2.4.6-bin-hadoop2.7\"\n",
        "\n",
        "# Start a SparkSession\n",
        "import findspark\n",
        "findspark.init()"
      ],
      "execution_count": 1,
      "outputs": [
        {
          "output_type": "stream",
          "text": [
            "\r0% [Working]\r            \rHit:1 https://cloud.r-project.org/bin/linux/ubuntu bionic-cran35/ InRelease\n",
            "\r0% [Connecting to archive.ubuntu.com] [Connecting to security.ubuntu.com] [Wait\r0% [1 InRelease gpgv 3,626 B] [Connecting to archive.ubuntu.com] [Connecting to\r                                                                               \rIgn:2 https://developer.download.nvidia.com/compute/cuda/repos/ubuntu1804/x86_64  InRelease\n",
            "\r0% [1 InRelease gpgv 3,626 B] [Connecting to archive.ubuntu.com (91.189.88.142)\r0% [Connecting to archive.ubuntu.com (91.189.88.142)] [Connecting to security.u\r                                                                               \rIgn:3 https://developer.download.nvidia.com/compute/machine-learning/repos/ubuntu1804/x86_64  InRelease\n",
            "\r0% [Connecting to archive.ubuntu.com (91.189.88.142)] [Connecting to security.u\r                                                                               \rHit:4 https://developer.download.nvidia.com/compute/cuda/repos/ubuntu1804/x86_64  Release\n",
            "\r0% [Connecting to archive.ubuntu.com (91.189.88.142)] [Connecting to security.u\r0% [Release.gpg gpgv 697 B] [Connecting to archive.ubuntu.com (91.189.88.142)] \r                                                                               \rHit:5 https://developer.download.nvidia.com/compute/machine-learning/repos/ubuntu1804/x86_64  Release\n",
            "Hit:6 http://ppa.launchpad.net/graphics-drivers/ppa/ubuntu bionic InRelease\n",
            "Hit:8 http://security.ubuntu.com/ubuntu bionic-security InRelease\n",
            "Hit:9 http://archive.ubuntu.com/ubuntu bionic InRelease\n",
            "Hit:11 http://archive.ubuntu.com/ubuntu bionic-updates InRelease\n",
            "Hit:12 http://ppa.launchpad.net/marutter/c2d4u3.5/ubuntu bionic InRelease\n",
            "Hit:13 http://archive.ubuntu.com/ubuntu bionic-backports InRelease\n",
            "Reading package lists... Done\n"
          ],
          "name": "stdout"
        }
      ]
    },
    {
      "cell_type": "code",
      "metadata": {
        "id": "P3M0T4JJLKbv",
        "colab_type": "code",
        "colab": {}
      },
      "source": [
        "# Start Spark session\n",
        "from pyspark.sql import SparkSession\n",
        "spark = SparkSession.builder.appName(\"Hashing\").getOrCreate()"
      ],
      "execution_count": 2,
      "outputs": []
    },
    {
      "cell_type": "code",
      "metadata": {
        "id": "BOgZUzFpLUpN",
        "colab_type": "code",
        "colab": {}
      },
      "source": [
        "from pyspark.ml.feature import HashingTF, IDF, Tokenizer, StopWordsRemover"
      ],
      "execution_count": 3,
      "outputs": []
    },
    {
      "cell_type": "code",
      "metadata": {
        "id": "__EUtHIyLcSP",
        "colab_type": "code",
        "colab": {
          "base_uri": "https://localhost:8080/",
          "height": 459
        },
        "outputId": "e6432e50-d431-44be-b978-c457363414cc"
      },
      "source": [
        "from pyspark import SparkFiles\n",
        "\n",
        "df = spark.read.csv(SparkFiles.get(\"/content/indeed_data_processed.csv\"), sep=\",\", header=True)\n",
        "\n",
        "df = df.na.drop()\n",
        "\n",
        "df = df[[\"jobclass\", \"jobdescription\"]]\n",
        "\n",
        "# Show DataFrame\n",
        "df.show()"
      ],
      "execution_count": 4,
      "outputs": [
        {
          "output_type": "stream",
          "text": [
            "+--------------+--------------------+\n",
            "|      jobclass|      jobdescription|\n",
            "+--------------+--------------------+\n",
            "|data scientist|Job Overview The ...|\n",
            "|data scientist|Why choose betwee...|\n",
            "|data scientist|B S in operations...|\n",
            "|data scientist|Please make sure ...|\n",
            "|data scientist|Join a team recog...|\n",
            "|data scientist|BS in STEM Scienc...|\n",
            "|data scientist|\"About the Team A...|\n",
            "|data scientist|SUMMARY The CMC D...|\n",
            "|data scientist|Formation provide...|\n",
            "|data scientist|MS in STEM Scienc...|\n",
            "|data scientist|At Varen our perf...|\n",
            "|data scientist|We are looking fo...|\n",
            "|data scientist|Overview As an in...|\n",
            "|data scientist|Degree in a quant...|\n",
            "|data scientist|About Pinterest M...|\n",
            "|data scientist|Join us and make ...|\n",
            "|data scientist|Requisition ID # ...|\n",
            "|data scientist|Purpose of Job Th...|\n",
            "|data scientist|By joining the Bi...|\n",
            "|data scientist|Minimum qualifica...|\n",
            "+--------------+--------------------+\n",
            "only showing top 20 rows\n",
            "\n"
          ],
          "name": "stdout"
        }
      ]
    },
    {
      "cell_type": "code",
      "metadata": {
        "id": "R0iXIAUOeyNw",
        "colab_type": "code",
        "colab": {
          "base_uri": "https://localhost:8080/",
          "height": 459
        },
        "outputId": "393397ba-b81f-4426-a67a-57f4b78cb10e"
      },
      "source": [
        "\n",
        "from pyspark.sql.functions import length\n",
        "# Create a length column to be used as a future feature \n",
        "data_df = df.withColumn('length', length(df['jobdescription']))\n",
        "data_df.show()"
      ],
      "execution_count": 5,
      "outputs": [
        {
          "output_type": "stream",
          "text": [
            "+--------------+--------------------+------+\n",
            "|      jobclass|      jobdescription|length|\n",
            "+--------------+--------------------+------+\n",
            "|data scientist|Job Overview The ...|  1927|\n",
            "|data scientist|Why choose betwee...|  2471|\n",
            "|data scientist|B S in operations...|  1836|\n",
            "|data scientist|Please make sure ...|  6640|\n",
            "|data scientist|Join a team recog...|  4478|\n",
            "|data scientist|BS in STEM Scienc...|  2709|\n",
            "|data scientist|\"About the Team A...|  4435|\n",
            "|data scientist|SUMMARY The CMC D...|  2196|\n",
            "|data scientist|Formation provide...|  3969|\n",
            "|data scientist|MS in STEM Scienc...|  2864|\n",
            "|data scientist|At Varen our perf...|  1357|\n",
            "|data scientist|We are looking fo...|  2265|\n",
            "|data scientist|Overview As an in...|  2968|\n",
            "|data scientist|Degree in a quant...|  4209|\n",
            "|data scientist|About Pinterest M...|  3678|\n",
            "|data scientist|Join us and make ...|  4440|\n",
            "|data scientist|Requisition ID # ...|  3066|\n",
            "|data scientist|Purpose of Job Th...|  4128|\n",
            "|data scientist|By joining the Bi...|  4268|\n",
            "|data scientist|Minimum qualifica...|  3157|\n",
            "+--------------+--------------------+------+\n",
            "only showing top 20 rows\n",
            "\n"
          ],
          "name": "stdout"
        }
      ]
    },
    {
      "cell_type": "code",
      "metadata": {
        "id": "UrDnotRCh-1z",
        "colab_type": "code",
        "colab": {}
      },
      "source": [
        "\n",
        "from pyspark.ml.feature import Tokenizer, StopWordsRemover, HashingTF, IDF, StringIndexer\n",
        "# Create all the features to the data set\n",
        "pos_neg_to_num = StringIndexer(inputCol='jobclass',outputCol='label')\n",
        "tokenizer = Tokenizer(inputCol=\"jobdescription\", outputCol=\"token_text\")\n",
        "stopremove = StopWordsRemover(inputCol='token_text',outputCol='stop_tokens')\n",
        "hashingTF = HashingTF(inputCol=\"stop_tokens\", outputCol='hash_token')\n",
        "idf = IDF(inputCol='hash_token', outputCol='idf_token')"
      ],
      "execution_count": 6,
      "outputs": []
    },
    {
      "cell_type": "code",
      "metadata": {
        "id": "eeANQFQyThsk",
        "colab_type": "code",
        "colab": {}
      },
      "source": [
        "from pyspark.ml.feature import VectorAssembler\n",
        "from pyspark.ml.linalg import Vector\n",
        "\n",
        "# Create feature vectors\n",
        "clean_up = VectorAssembler(inputCols=['idf_token', 'length'], outputCol='features')"
      ],
      "execution_count": 7,
      "outputs": []
    },
    {
      "cell_type": "code",
      "metadata": {
        "id": "44UL7D6zfpAL",
        "colab_type": "code",
        "colab": {}
      },
      "source": [
        "\n",
        "# Create a and run a data processing Pipeline\n",
        "from pyspark.ml import Pipeline\n",
        "data_prep_pipeline = Pipeline(stages=[pos_neg_to_num, tokenizer, stopremove, hashingTF, idf, clean_up])"
      ],
      "execution_count": 8,
      "outputs": []
    },
    {
      "cell_type": "code",
      "metadata": {
        "id": "g3uuxCl0fqVF",
        "colab_type": "code",
        "colab": {}
      },
      "source": [
        "\n",
        "# Fit and transform the pipeline\n",
        "cleaner = data_prep_pipeline.fit(data_df)\n",
        "cleaned = cleaner.transform(data_df)"
      ],
      "execution_count": 9,
      "outputs": []
    },
    {
      "cell_type": "code",
      "metadata": {
        "id": "Zp2gjcRifuck",
        "colab_type": "code",
        "colab": {
          "base_uri": "https://localhost:8080/",
          "height": 459
        },
        "outputId": "8ec588bb-9c0c-45b6-b457-e65931afd9d9"
      },
      "source": [
        "\n",
        "# Show label and resulting features\n",
        "cleaned.select(['label', 'features']).show()"
      ],
      "execution_count": 10,
      "outputs": [
        {
          "output_type": "stream",
          "text": [
            "+-----+--------------------+\n",
            "|label|            features|\n",
            "+-----+--------------------+\n",
            "|  1.0|(262145,[966,1079...|\n",
            "|  1.0|(262145,[4525,549...|\n",
            "|  1.0|(262145,[966,1836...|\n",
            "|  1.0|(262145,[1079,183...|\n",
            "|  1.0|(262145,[966,1836...|\n",
            "|  1.0|(262145,[619,966,...|\n",
            "|  1.0|(262145,[1115,183...|\n",
            "|  1.0|(262145,[966,1667...|\n",
            "|  1.0|(262145,[966,1836...|\n",
            "|  1.0|(262145,[619,966,...|\n",
            "|  1.0|(262145,[1836,337...|\n",
            "|  1.0|(262145,[619,966,...|\n",
            "|  1.0|(262145,[966,1079...|\n",
            "|  1.0|(262145,[15,966,1...|\n",
            "|  1.0|(262145,[1232,232...|\n",
            "|  1.0|(262145,[573,619,...|\n",
            "|  1.0|(262145,[619,966,...|\n",
            "|  1.0|(262145,[619,1156...|\n",
            "|  1.0|(262145,[329,619,...|\n",
            "|  1.0|(262145,[619,1836...|\n",
            "+-----+--------------------+\n",
            "only showing top 20 rows\n",
            "\n"
          ],
          "name": "stdout"
        }
      ]
    },
    {
      "cell_type": "code",
      "metadata": {
        "id": "PpdF8hQkfy4n",
        "colab_type": "code",
        "colab": {}
      },
      "source": [
        "from pyspark.ml.classification import NaiveBayes\n",
        "# Break data down into a training set and a testing set\n",
        "training, testing = cleaned.randomSplit([0.7, 0.3])\n",
        "\n",
        "# Create a Naive Bayes model and fit training data\n",
        "nb = NaiveBayes()\n",
        "predictor = nb.fit(training)"
      ],
      "execution_count": 11,
      "outputs": []
    },
    {
      "cell_type": "code",
      "metadata": {
        "id": "GhjDnD8_gEu7",
        "colab_type": "code",
        "colab": {
          "base_uri": "https://localhost:8080/",
          "height": 224
        },
        "outputId": "8ba9bf43-106c-498f-de79-4296e30b60c0"
      },
      "source": [
        "# Tranform the model with the testing data\n",
        "test_results = predictor.transform(testing)\n",
        "test_results.show(5)"
      ],
      "execution_count": 12,
      "outputs": [
        {
          "output_type": "stream",
          "text": [
            "+------------+--------------------+------+-----+--------------------+--------------------+--------------------+--------------------+--------------------+--------------------+--------------------+----------+\n",
            "|    jobclass|      jobdescription|length|label|          token_text|         stop_tokens|          hash_token|           idf_token|            features|       rawPrediction|         probability|prediction|\n",
            "+------------+--------------------+------+-----+--------------------+--------------------+--------------------+--------------------+--------------------+--------------------+--------------------+----------+\n",
            "|data analyst|ALLIANCE OF COMMU...|  5680|  0.0|[alliance, of, co...|[alliance, commun...|(262144,[619,966,...|(262144,[619,966,...|(262145,[619,966,...|[-13425.519099713...|[1.0,0.0,0.0,0.0,...|       0.0|\n",
            "|data analyst|About the Justice...|  7450|  0.0|[about, the, just...|[justice, adminis...|(262144,[619,966,...|(262144,[619,966,...|(262145,[619,966,...|[-24671.443524147...|[1.0,0.0,0.0,0.0,...|       0.0|\n",
            "|data analyst|Akerna is a leadi...|  3320|  0.0|[akerna, is, a, l...|[akerna, leading,...|(262144,[1156,174...|(262144,[1156,174...|(262145,[1156,174...|[-10135.662061803...|[1.0,9.9931146052...|       0.0|\n",
            "|data analyst|At Cotiviti we ar...|  3697|  0.0|[at, cotiviti, we...|[cotiviti, custod...|(262144,[15,573,9...|(262144,[15,573,9...|(262145,[15,573,9...|[-10468.493395318...|[1.0,2.7133699177...|       0.0|\n",
            "|data analyst|Business Data Ana...|  2167|  0.0|[business, data, ...|[business, data, ...|(262144,[3336,495...|(262144,[3336,495...|(262145,[3336,495...|[-3154.1278790083...|[1.0,0.0,0.0,0.0,...|       0.0|\n",
            "+------------+--------------------+------+-----+--------------------+--------------------+--------------------+--------------------+--------------------+--------------------+--------------------+----------+\n",
            "only showing top 5 rows\n",
            "\n"
          ],
          "name": "stdout"
        }
      ]
    },
    {
      "cell_type": "code",
      "metadata": {
        "id": "xX10PjHagTya",
        "colab_type": "code",
        "colab": {
          "base_uri": "https://localhost:8080/",
          "height": 34
        },
        "outputId": "fabca26c-4cf2-40c3-901a-c6e28bcc2085"
      },
      "source": [
        "\n",
        "# Use the Class Evaluator for a cleaner description\n",
        "from pyspark.ml.evaluation import MulticlassClassificationEvaluator\n",
        "\n",
        "acc_eval = MulticlassClassificationEvaluator()\n",
        "acc = acc_eval.evaluate(test_results)\n",
        "print(\"Accuracy of model at predicting jobclass was: %f\" % acc)"
      ],
      "execution_count": 13,
      "outputs": [
        {
          "output_type": "stream",
          "text": [
            "Accuracy of model at predicting jobclass was: 0.879140\n"
          ],
          "name": "stdout"
        }
      ]
    }
  ]
}