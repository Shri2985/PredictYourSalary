{
 "cells": [
  {
   "cell_type": "code",
   "execution_count": null,
   "metadata": {
    "colab": {},
    "colab_type": "code",
    "id": "NJRAJGoXJUNZ"
   },
   "outputs": [],
   "source": []
  },
  {
   "cell_type": "code",
   "execution_count": 1,
   "metadata": {
    "colab": {
     "base_uri": "https://localhost:8080/",
     "height": 238
    },
    "colab_type": "code",
    "id": "jtJAFs8vJasz",
    "outputId": "c0810903-ec7c-4284-96ee-66fe1cf86ce2"
   },
   "outputs": [
    {
     "name": "stdout",
     "output_type": "stream",
     "text": [
      "\r",
      "0% [Working]\r",
      "            \r",
      "Hit:1 http://ppa.launchpad.net/graphics-drivers/ppa/ubuntu bionic InRelease\n",
      "\r",
      "0% [Connecting to archive.ubuntu.com (91.189.88.152)] [Connecting to security.u\r",
      "                                                                               \r",
      "Hit:2 http://archive.ubuntu.com/ubuntu bionic InRelease\n",
      "\r",
      "0% [Waiting for headers] [Connecting to security.ubuntu.com (91.189.91.38)] [Co\r",
      "0% [1 InRelease gpgv 21.3 kB] [Waiting for headers] [Connecting to security.ubu\r",
      "                                                                               \r",
      "Hit:3 http://ppa.launchpad.net/marutter/c2d4u3.5/ubuntu bionic InRelease\n",
      "\r",
      "0% [1 InRelease gpgv 21.3 kB] [Waiting for headers] [Connecting to security.ubu\r",
      "                                                                               \r",
      "Get:4 http://archive.ubuntu.com/ubuntu bionic-updates InRelease [88.7 kB]\n",
      "\r",
      "0% [1 InRelease gpgv 21.3 kB] [4 InRelease 14.2 kB/88.7 kB 16%] [Connecting to \r",
      "                                                                               \r",
      "Hit:5 https://cloud.r-project.org/bin/linux/ubuntu bionic-cran35/ InRelease\n",
      "\r",
      "0% [1 InRelease gpgv 21.3 kB] [4 InRelease 15.6 kB/88.7 kB 18%] [Connecting to \r",
      "0% [1 InRelease gpgv 21.3 kB] [Waiting for headers] [Connecting to security.ubu\r",
      "                                                                               \r",
      "Get:6 http://archive.ubuntu.com/ubuntu bionic-backports InRelease [74.6 kB]\n",
      "\r",
      "0% [1 InRelease gpgv 21.3 kB] [6 InRelease 9,842 B/74.6 kB 13%] [Waiting for he\r",
      "                                                                               \r",
      "0% [1 InRelease gpgv 21.3 kB] [Waiting for headers] [Waiting for headers]\r",
      "                                                                         \r",
      "Get:7 http://security.ubuntu.com/ubuntu bionic-security InRelease [88.7 kB]\n",
      "Ign:8 https://developer.download.nvidia.com/compute/cuda/repos/ubuntu1804/x86_64  InRelease\n",
      "Ign:9 https://developer.download.nvidia.com/compute/machine-learning/repos/ubuntu1804/x86_64  InRelease\n",
      "Hit:10 https://developer.download.nvidia.com/compute/cuda/repos/ubuntu1804/x86_64  Release\n",
      "Hit:11 https://developer.download.nvidia.com/compute/machine-learning/repos/ubuntu1804/x86_64  Release\n",
      "Fetched 252 kB in 2s (155 kB/s)\n",
      "Reading package lists... Done\n"
     ]
    }
   ],
   "source": [
    "# Install Java, Spark, and Findspark\n",
    "!apt-get update\n",
    "!apt-get install openjdk-8-jdk-headless -qq > /dev/null\n",
    "!wget -q http://www-us.apache.org/dist/spark/spark-2.4.6/spark-2.4.6-bin-hadoop2.7.tgz\n",
    "!tar xf spark-2.4.6-bin-hadoop2.7.tgz\n",
    "!pip install -q findspark\n",
    "\n",
    "# Set Environment Variables\n",
    "import os\n",
    "os.environ[\"JAVA_HOME\"] = \"/usr/lib/jvm/java-8-openjdk-amd64\"\n",
    "os.environ[\"SPARK_HOME\"] = \"/content/spark-2.4.6-bin-hadoop2.7\"\n",
    "\n",
    "# Start a SparkSession\n",
    "import findspark\n",
    "findspark.init()"
   ]
  },
  {
   "cell_type": "code",
   "execution_count": 2,
   "metadata": {
    "colab": {},
    "colab_type": "code",
    "id": "P3M0T4JJLKbv"
   },
   "outputs": [],
   "source": [
    "# Start Spark session\n",
    "from pyspark.sql import SparkSession\n",
    "spark = SparkSession.builder.appName(\"Hashing\").getOrCreate()"
   ]
  },
  {
   "cell_type": "code",
   "execution_count": 3,
   "metadata": {
    "colab": {},
    "colab_type": "code",
    "id": "BOgZUzFpLUpN"
   },
   "outputs": [],
   "source": [
    "from pyspark.ml.feature import HashingTF, IDF, Tokenizer, StopWordsRemover"
   ]
  },
  {
   "cell_type": "code",
   "execution_count": 4,
   "metadata": {
    "colab": {
     "base_uri": "https://localhost:8080/",
     "height": 459
    },
    "colab_type": "code",
    "id": "__EUtHIyLcSP",
    "outputId": "50aff971-0884-4b90-8dbd-6235dd6fc700"
   },
   "outputs": [
    {
     "name": "stdout",
     "output_type": "stream",
     "text": [
      "+--------------+--------------------+\n",
      "|      jobclass|      jobdescription|\n",
      "+--------------+--------------------+\n",
      "|data scientist|Preventable illne...|\n",
      "|data scientist|As Data Scientist...|\n",
      "|data scientist|Data Scientist If...|\n",
      "|data scientist|Medidata is leadi...|\n",
      "|data scientist|POSITION SUMMARY ...|\n",
      "|data scientist|Ph D in STEM plus...|\n",
      "|data scientist|Power the Possibi...|\n",
      "|data scientist|Job Overview The ...|\n",
      "|data scientist|Why choose betwee...|\n",
      "|data scientist|TITLE Data Scient...|\n",
      "|data scientist|Please make sure ...|\n",
      "|data scientist|Join a team recog...|\n",
      "|data scientist|We are Applied In...|\n",
      "|data scientist|Organization Acce...|\n",
      "|data scientist|\"About the Team A...|\n",
      "|data scientist|SUMMARY The CMC D...|\n",
      "|data scientist|Formation provide...|\n",
      "|data scientist|Job Description T...|\n",
      "|data scientist|Organization Acce...|\n",
      "|data scientist|At Varen our perf...|\n",
      "+--------------+--------------------+\n",
      "only showing top 20 rows\n",
      "\n"
     ]
    }
   ],
   "source": [
    "from pyspark import SparkFiles\n",
    "\n",
    "df = spark.read.csv(SparkFiles.get(\"/content/indeed_data_processed.csv\"), sep=\",\", header=True)\n",
    "\n",
    "df = df.na.drop()\n",
    "\n",
    "df = df[[\"jobclass\", \"jobdescription\"]]\n",
    "\n",
    "# Show DataFrame\n",
    "df.show()"
   ]
  },
  {
   "cell_type": "code",
   "execution_count": 5,
   "metadata": {
    "colab": {
     "base_uri": "https://localhost:8080/",
     "height": 459
    },
    "colab_type": "code",
    "id": "R0iXIAUOeyNw",
    "outputId": "e6b89ebe-a827-4024-f541-939bd6df7af7"
   },
   "outputs": [
    {
     "name": "stdout",
     "output_type": "stream",
     "text": [
      "+--------------+--------------------+------+\n",
      "|      jobclass|      jobdescription|length|\n",
      "+--------------+--------------------+------+\n",
      "|data scientist|Preventable illne...|  3339|\n",
      "|data scientist|As Data Scientist...|  2628|\n",
      "|data scientist|Data Scientist If...|  1460|\n",
      "|data scientist|Medidata is leadi...|  4802|\n",
      "|data scientist|POSITION SUMMARY ...|  3672|\n",
      "|data scientist|Ph D in STEM plus...|  2858|\n",
      "|data scientist|Power the Possibi...|  4314|\n",
      "|data scientist|Job Overview The ...|  1927|\n",
      "|data scientist|Why choose betwee...|  2471|\n",
      "|data scientist|TITLE Data Scient...|  1350|\n",
      "|data scientist|Please make sure ...|  6638|\n",
      "|data scientist|Join a team recog...|  4474|\n",
      "|data scientist|We are Applied In...|  3080|\n",
      "|data scientist|Organization Acce...|  3067|\n",
      "|data scientist|\"About the Team A...|  4429|\n",
      "|data scientist|SUMMARY The CMC D...|  2196|\n",
      "|data scientist|Formation provide...|  3969|\n",
      "|data scientist|Job Description T...|  3476|\n",
      "|data scientist|Organization Acce...|  3621|\n",
      "|data scientist|At Varen our perf...|  1357|\n",
      "+--------------+--------------------+------+\n",
      "only showing top 20 rows\n",
      "\n"
     ]
    }
   ],
   "source": [
    "\n",
    "from pyspark.sql.functions import length\n",
    "# Create a length column to be used as a future feature \n",
    "data_df = df.withColumn('length', length(df['jobdescription']))\n",
    "data_df.show()"
   ]
  },
  {
   "cell_type": "code",
   "execution_count": 6,
   "metadata": {
    "colab": {},
    "colab_type": "code",
    "id": "UrDnotRCh-1z"
   },
   "outputs": [],
   "source": [
    "\n",
    "from pyspark.ml.feature import Tokenizer, StopWordsRemover, HashingTF, IDF, StringIndexer\n",
    "# Create all the features to the data set\n",
    "pos_neg_to_num = StringIndexer(inputCol='jobclass',outputCol='label')\n",
    "tokenizer = Tokenizer(inputCol=\"jobdescription\", outputCol=\"token_text\")\n",
    "stopremove = StopWordsRemover(inputCol='token_text',outputCol='stop_tokens')\n",
    "hashingTF = HashingTF(inputCol=\"stop_tokens\", outputCol='hash_token')\n",
    "idf = IDF(inputCol='hash_token', outputCol='idf_token')"
   ]
  },
  {
   "cell_type": "code",
   "execution_count": 7,
   "metadata": {
    "colab": {},
    "colab_type": "code",
    "id": "eeANQFQyThsk"
   },
   "outputs": [],
   "source": [
    "from pyspark.ml.feature import VectorAssembler\n",
    "from pyspark.ml.linalg import Vector\n",
    "\n",
    "# Create feature vectors\n",
    "clean_up = VectorAssembler(inputCols=['idf_token', 'length'], outputCol='features')"
   ]
  },
  {
   "cell_type": "code",
   "execution_count": 8,
   "metadata": {
    "colab": {},
    "colab_type": "code",
    "id": "44UL7D6zfpAL"
   },
   "outputs": [],
   "source": [
    "\n",
    "# Create a and run a data processing Pipeline\n",
    "from pyspark.ml import Pipeline\n",
    "data_prep_pipeline = Pipeline(stages=[pos_neg_to_num, tokenizer, stopremove, hashingTF, idf, clean_up])"
   ]
  },
  {
   "cell_type": "code",
   "execution_count": 9,
   "metadata": {
    "colab": {},
    "colab_type": "code",
    "id": "g3uuxCl0fqVF"
   },
   "outputs": [],
   "source": [
    "\n",
    "# Fit and transform the pipeline\n",
    "cleaner = data_prep_pipeline.fit(data_df)\n",
    "cleaned = cleaner.transform(data_df)"
   ]
  },
  {
   "cell_type": "code",
   "execution_count": 10,
   "metadata": {
    "colab": {
     "base_uri": "https://localhost:8080/",
     "height": 459
    },
    "colab_type": "code",
    "id": "Zp2gjcRifuck",
    "outputId": "0dd14a1a-5d1c-4c43-a002-71caa970b1d1"
   },
   "outputs": [
    {
     "name": "stdout",
     "output_type": "stream",
     "text": [
      "+-----+--------------------+\n",
      "|label|            features|\n",
      "+-----+--------------------+\n",
      "|  0.0|(262145,[1836,388...|\n",
      "|  0.0|(262145,[167,813,...|\n",
      "|  0.0|(262145,[619,1836...|\n",
      "|  0.0|(262145,[666,788,...|\n",
      "|  0.0|(262145,[619,666,...|\n",
      "|  0.0|(262145,[619,966,...|\n",
      "|  0.0|(262145,[168,619,...|\n",
      "|  0.0|(262145,[966,1079...|\n",
      "|  0.0|(262145,[4525,622...|\n",
      "|  0.0|(262145,[966,1836...|\n",
      "|  0.0|(262145,[1079,183...|\n",
      "|  0.0|(262145,[966,1836...|\n",
      "|  0.0|(262145,[966,1836...|\n",
      "|  0.0|(262145,[966,1232...|\n",
      "|  0.0|(262145,[1115,183...|\n",
      "|  0.0|(262145,[966,1667...|\n",
      "|  0.0|(262145,[966,1836...|\n",
      "|  0.0|(262145,[619,1079...|\n",
      "|  0.0|(262145,[966,1232...|\n",
      "|  0.0|(262145,[1836,337...|\n",
      "+-----+--------------------+\n",
      "only showing top 20 rows\n",
      "\n"
     ]
    }
   ],
   "source": [
    "\n",
    "# Show label and resulting features\n",
    "cleaned.select(['label', 'features']).show()"
   ]
  },
  {
   "cell_type": "code",
   "execution_count": 11,
   "metadata": {
    "colab": {
     "base_uri": "https://localhost:8080/",
     "height": 221
    },
    "colab_type": "code",
    "id": "eXoRO6eu2oUF",
    "outputId": "2d20d105-65a8-4377-f4c0-e6e99f0b6add"
   },
   "outputs": [
    {
     "name": "stdout",
     "output_type": "stream",
     "text": [
      "+-----+\n",
      "|label|\n",
      "+-----+\n",
      "|  0.0|\n",
      "|  1.0|\n",
      "|  4.0|\n",
      "|  3.0|\n",
      "|  2.0|\n",
      "|  6.0|\n",
      "|  5.0|\n",
      "+-----+\n",
      "\n"
     ]
    }
   ],
   "source": [
    "cleaned.select('label').distinct().show()"
   ]
  },
  {
   "cell_type": "code",
   "execution_count": 12,
   "metadata": {
    "colab": {},
    "colab_type": "code",
    "id": "PpdF8hQkfy4n"
   },
   "outputs": [],
   "source": [
    "from pyspark.ml.classification import NaiveBayes\n",
    "# Break data down into a training set and a testing set\n",
    "training, testing = cleaned.randomSplit([0.7, 0.3])\n",
    "\n",
    "# Create a Naive Bayes model and fit training data\n",
    "nb = NaiveBayes()\n",
    "predictor = nb.fit(training)"
   ]
  },
  {
   "cell_type": "code",
   "execution_count": 13,
   "metadata": {
    "colab": {
     "base_uri": "https://localhost:8080/",
     "height": 819
    },
    "colab_type": "code",
    "id": "GhjDnD8_gEu7",
    "outputId": "056638a6-7506-4941-c0bd-1fb693cac38a"
   },
   "outputs": [
    {
     "name": "stdout",
     "output_type": "stream",
     "text": [
      "+------------+--------------------+------+-----+--------------------+--------------------+--------------------+--------------------+--------------------+--------------------+--------------------+----------+\n",
      "|    jobclass|      jobdescription|length|label|          token_text|         stop_tokens|          hash_token|           idf_token|            features|       rawPrediction|         probability|prediction|\n",
      "+------------+--------------------+------+-----+--------------------+--------------------+--------------------+--------------------+--------------------+--------------------+--------------------+----------+\n",
      "|data analyst|\"Eaton’s Electric...|  5695|  1.0|[\"eaton’s, electr...|[\"eaton’s, electr...|(262144,[619,1232...|(262144,[619,1232...|(262145,[619,1232...|[-18013.518581535...|[1.0,2.3965111456...|       0.0|\n",
      "|data analyst|\"REQUIRED QUALIFI...|  4685|  1.0|[\"required, quali...|[\"required, quali...|(262144,[619,2362...|(262144,[619,2362...|(262145,[619,2362...|[-17128.617873883...|[1.0,6.4097395974...|       0.0|\n",
      "|data analyst|\"Role and Respons...|  2491|  1.0|[\"role, and, resp...|[\"role, responsib...|(262144,[619,3336...|(262144,[619,3336...|(262145,[619,3336...|[-10668.437781499...|[1.02432473488888...|       1.0|\n",
      "|data analyst|About the Justice...|  7448|  1.0|[about, the, just...|[justice, adminis...|(262144,[619,966,...|(262144,[619,966,...|(262145,[619,966,...|[-26846.020456050...|[1.54859184994832...|       1.0|\n",
      "|data analyst|As a Program Spec...|  4778|  1.0|[as, a, program, ...|[program, special...|(262144,[966,2037...|(262144,[966,2037...|(262145,[966,2037...|[-14271.278778487...|[1.0,4.8496018777...|       0.0|\n",
      "|data analyst|At American Famil...|  5004|  1.0|[at, american, fa...|[american, family...|(262144,[619,1156...|(262144,[619,1156...|(262145,[619,1156...|[-16074.203972791...|[1.0,1.2211355306...|       0.0|\n",
      "|data analyst|At Boston Childre...|  2834|  1.0|[at, boston, chil...|[boston, children...|(262144,[666,1506...|(262144,[666,1506...|(262145,[666,1506...|[-9593.3728422995...|[1.0,1.0727733723...|       0.0|\n",
      "|data analyst|Because you belon...|  4748|  1.0|[because, you, be...|[belong, twilio, ...|(262144,[966,2710...|(262144,[966,2710...|(262145,[966,2710...|[-17617.655700802...|[1.0,7.7879044433...|       0.0|\n",
      "|data analyst|Business Data Ana...|  3261|  1.0|[business, data, ...|[business, data, ...|(262144,[3023,316...|(262144,[3023,316...|(262145,[3023,316...|[-9718.7015986882...|[4.51328619904656...|       1.0|\n",
      "|data analyst|CAS uses intuitiv...|  3464|  1.0|[cas, uses, intui...|[cas, uses, intui...|(262144,[167,619,...|(262144,[167,619,...|(262145,[167,619,...|[-11450.020176515...|[1.0,1.0336478415...|       0.0|\n",
      "|data analyst|Company Descripti...|  3956|  1.0|[company, descrip...|[company, descrip...|(262144,[966,1836...|(262144,[966,1836...|(262145,[966,1836...|[-12911.448526754...|[1.0,8.7211735525...|       0.0|\n",
      "|data analyst|Connective Rx is ...|  4908|  1.0|[connective, rx, ...|[connective, rx, ...|(262144,[168,619,...|(262144,[168,619,...|(262145,[168,619,...|[-10059.144840195...|[0.0,1.0,0.0,0.0,...|       1.0|\n",
      "|data analyst|Connective Rx is ...|  4908|  1.0|[connective, rx, ...|[connective, rx, ...|(262144,[168,619,...|(262144,[168,619,...|(262145,[168,619,...|[-10059.144840195...|[0.0,1.0,0.0,0.0,...|       1.0|\n",
      "|data analyst|Connective Rx is ...|  4908|  1.0|[connective, rx, ...|[connective, rx, ...|(262144,[168,619,...|(262144,[168,619,...|(262145,[168,619,...|[-10059.144840195...|[0.0,1.0,0.0,0.0,...|       1.0|\n",
      "|data analyst|Connective Rx is ...|  4908|  1.0|[connective, rx, ...|[connective, rx, ...|(262144,[168,619,...|(262144,[168,619,...|(262145,[168,619,...|[-10059.144840195...|[0.0,1.0,0.0,0.0,...|       1.0|\n",
      "|data analyst|Connective Rx is ...|  4908|  1.0|[connective, rx, ...|[connective, rx, ...|(262144,[168,619,...|(262144,[168,619,...|(262145,[168,619,...|[-10059.144840195...|[0.0,1.0,0.0,0.0,...|       1.0|\n",
      "|data analyst|Connective Rx is ...|  4908|  1.0|[connective, rx, ...|[connective, rx, ...|(262144,[168,619,...|(262144,[168,619,...|(262145,[168,619,...|[-10059.144840195...|[0.0,1.0,0.0,0.0,...|       1.0|\n",
      "|data analyst|Connective Rx is ...|  4908|  1.0|[connective, rx, ...|[connective, rx, ...|(262144,[168,619,...|(262144,[168,619,...|(262145,[168,619,...|[-10059.144840195...|[0.0,1.0,0.0,0.0,...|       1.0|\n",
      "|data analyst|Connective Rx is ...|  4908|  1.0|[connective, rx, ...|[connective, rx, ...|(262144,[168,619,...|(262144,[168,619,...|(262145,[168,619,...|[-10059.144840195...|[0.0,1.0,0.0,0.0,...|       1.0|\n",
      "|data analyst|Connective Rx is ...|  4908|  1.0|[connective, rx, ...|[connective, rx, ...|(262144,[168,619,...|(262144,[168,619,...|(262145,[168,619,...|[-10059.144840195...|[0.0,1.0,0.0,0.0,...|       1.0|\n",
      "|data analyst|Connective Rx is ...|  4908|  1.0|[connective, rx, ...|[connective, rx, ...|(262144,[168,619,...|(262144,[168,619,...|(262145,[168,619,...|[-10059.144840195...|[0.0,1.0,0.0,0.0,...|       1.0|\n",
      "|data analyst|Connective Rx is ...|  4908|  1.0|[connective, rx, ...|[connective, rx, ...|(262144,[168,619,...|(262144,[168,619,...|(262145,[168,619,...|[-10059.144840195...|[0.0,1.0,0.0,0.0,...|       1.0|\n",
      "|data analyst|Connective Rx is ...|  4908|  1.0|[connective, rx, ...|[connective, rx, ...|(262144,[168,619,...|(262144,[168,619,...|(262145,[168,619,...|[-10059.144840195...|[0.0,1.0,0.0,0.0,...|       1.0|\n",
      "|data analyst|Connective Rx is ...|  4908|  1.0|[connective, rx, ...|[connective, rx, ...|(262144,[168,619,...|(262144,[168,619,...|(262145,[168,619,...|[-10059.144840195...|[0.0,1.0,0.0,0.0,...|       1.0|\n",
      "|data analyst|Connective Rx is ...|  4908|  1.0|[connective, rx, ...|[connective, rx, ...|(262144,[168,619,...|(262144,[168,619,...|(262145,[168,619,...|[-10059.144840195...|[0.0,1.0,0.0,0.0,...|       1.0|\n",
      "|data analyst|Connective Rx is ...|  4908|  1.0|[connective, rx, ...|[connective, rx, ...|(262144,[168,619,...|(262144,[168,619,...|(262145,[168,619,...|[-10059.144840195...|[0.0,1.0,0.0,0.0,...|       1.0|\n",
      "|data analyst|Connective Rx is ...|  4908|  1.0|[connective, rx, ...|[connective, rx, ...|(262144,[168,619,...|(262144,[168,619,...|(262145,[168,619,...|[-10059.144840195...|[0.0,1.0,0.0,0.0,...|       1.0|\n",
      "|data analyst|Connective Rx is ...|  4908|  1.0|[connective, rx, ...|[connective, rx, ...|(262144,[168,619,...|(262144,[168,619,...|(262145,[168,619,...|[-10059.144840195...|[0.0,1.0,0.0,0.0,...|       1.0|\n",
      "|data analyst|Connective Rx is ...|  4908|  1.0|[connective, rx, ...|[connective, rx, ...|(262144,[168,619,...|(262144,[168,619,...|(262145,[168,619,...|[-10059.144840195...|[0.0,1.0,0.0,0.0,...|       1.0|\n",
      "|data analyst|Connective Rx is ...|  4908|  1.0|[connective, rx, ...|[connective, rx, ...|(262144,[168,619,...|(262144,[168,619,...|(262145,[168,619,...|[-10059.144840195...|[0.0,1.0,0.0,0.0,...|       1.0|\n",
      "|data analyst|Connective Rx is ...|  4908|  1.0|[connective, rx, ...|[connective, rx, ...|(262144,[168,619,...|(262144,[168,619,...|(262145,[168,619,...|[-10059.144840195...|[0.0,1.0,0.0,0.0,...|       1.0|\n",
      "|data analyst|Connective Rx is ...|  4908|  1.0|[connective, rx, ...|[connective, rx, ...|(262144,[168,619,...|(262144,[168,619,...|(262145,[168,619,...|[-10059.144840195...|[0.0,1.0,0.0,0.0,...|       1.0|\n",
      "|data analyst|Connective Rx is ...|  4908|  1.0|[connective, rx, ...|[connective, rx, ...|(262144,[168,619,...|(262144,[168,619,...|(262145,[168,619,...|[-10059.144840195...|[0.0,1.0,0.0,0.0,...|       1.0|\n",
      "|data analyst|Connective Rx is ...|  4908|  1.0|[connective, rx, ...|[connective, rx, ...|(262144,[168,619,...|(262144,[168,619,...|(262145,[168,619,...|[-10059.144840195...|[0.0,1.0,0.0,0.0,...|       1.0|\n",
      "|data analyst|Connective Rx is ...|  4908|  1.0|[connective, rx, ...|[connective, rx, ...|(262144,[168,619,...|(262144,[168,619,...|(262145,[168,619,...|[-10059.144840195...|[0.0,1.0,0.0,0.0,...|       1.0|\n",
      "|data analyst|Connective Rx is ...|  4908|  1.0|[connective, rx, ...|[connective, rx, ...|(262144,[168,619,...|(262144,[168,619,...|(262145,[168,619,...|[-10059.144840195...|[0.0,1.0,0.0,0.0,...|       1.0|\n",
      "|data analyst|Connective Rx is ...|  4908|  1.0|[connective, rx, ...|[connective, rx, ...|(262144,[168,619,...|(262144,[168,619,...|(262145,[168,619,...|[-10059.144840195...|[0.0,1.0,0.0,0.0,...|       1.0|\n",
      "|data analyst|Connective Rx is ...|  4908|  1.0|[connective, rx, ...|[connective, rx, ...|(262144,[168,619,...|(262144,[168,619,...|(262145,[168,619,...|[-10059.144840195...|[0.0,1.0,0.0,0.0,...|       1.0|\n",
      "|data analyst|Connective Rx is ...|  4908|  1.0|[connective, rx, ...|[connective, rx, ...|(262144,[168,619,...|(262144,[168,619,...|(262145,[168,619,...|[-10059.144840195...|[0.0,1.0,0.0,0.0,...|       1.0|\n",
      "|data analyst|Connective Rx is ...|  4908|  1.0|[connective, rx, ...|[connective, rx, ...|(262144,[168,619,...|(262144,[168,619,...|(262145,[168,619,...|[-10059.144840195...|[0.0,1.0,0.0,0.0,...|       1.0|\n",
      "+------------+--------------------+------+-----+--------------------+--------------------+--------------------+--------------------+--------------------+--------------------+--------------------+----------+\n",
      "only showing top 40 rows\n",
      "\n"
     ]
    }
   ],
   "source": [
    "# Tranform the model with the testing data\n",
    "test_results = predictor.transform(testing)\n",
    "test_results.show(40)"
   ]
  },
  {
   "cell_type": "code",
   "execution_count": 14,
   "metadata": {
    "colab": {
     "base_uri": "https://localhost:8080/",
     "height": 34
    },
    "colab_type": "code",
    "id": "xX10PjHagTya",
    "outputId": "931fdb1b-759f-4817-87b5-b1ef8960a88d"
   },
   "outputs": [
    {
     "name": "stdout",
     "output_type": "stream",
     "text": [
      "Accuracy of model at predicting jobclass was: 0.944408\n"
     ]
    }
   ],
   "source": [
    "\n",
    "# Use the Class Evaluator for a cleaner description\n",
    "from pyspark.ml.evaluation import MulticlassClassificationEvaluator\n",
    "\n",
    "acc_eval = MulticlassClassificationEvaluator()\n",
    "acc = acc_eval.evaluate(test_results)\n",
    "print(\"Accuracy of model at predicting jobclass was: %f\" % acc)"
   ]
  }
 ],
 "metadata": {
  "colab": {
   "name": "NLP.ipynb",
   "provenance": []
  },
  "kernelspec": {
   "display_name": "Python 3",
   "language": "python",
   "name": "python3"
  },
  "language_info": {
   "codemirror_mode": {
    "name": "ipython",
    "version": 3
   },
   "file_extension": ".py",
   "mimetype": "text/x-python",
   "name": "python",
   "nbconvert_exporter": "python",
   "pygments_lexer": "ipython3",
   "version": "3.6.10"
  }
 },
 "nbformat": 4,
 "nbformat_minor": 1
}
