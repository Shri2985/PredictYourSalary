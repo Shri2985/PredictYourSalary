{
 "cells": [
  {
   "cell_type": "code",
   "execution_count": 1,
   "metadata": {},
   "outputs": [
    {
     "name": "stdout",
     "output_type": "stream",
     "text": [
      "Requirement already up-to-date: sklearn in c:\\users\\budchris\\anaconda3\\envs\\pythonadv\\lib\\site-packages (0.0)\n",
      "Requirement already satisfied, skipping upgrade: scikit-learn in c:\\users\\budchris\\anaconda3\\envs\\pythonadv\\lib\\site-packages (from sklearn) (0.23.1)\n",
      "Requirement already satisfied, skipping upgrade: threadpoolctl>=2.0.0 in c:\\users\\budchris\\anaconda3\\envs\\pythonadv\\lib\\site-packages (from scikit-learn->sklearn) (2.1.0)\n",
      "Requirement already satisfied, skipping upgrade: scipy>=0.19.1 in c:\\users\\budchris\\anaconda3\\envs\\pythonadv\\lib\\site-packages (from scikit-learn->sklearn) (1.4.1)\n",
      "Requirement already satisfied, skipping upgrade: numpy>=1.13.3 in c:\\users\\budchris\\anaconda3\\envs\\pythonadv\\lib\\site-packages (from scikit-learn->sklearn) (1.18.5)\n",
      "Requirement already satisfied, skipping upgrade: joblib>=0.11 in c:\\users\\budchris\\anaconda3\\envs\\pythonadv\\lib\\site-packages (from scikit-learn->sklearn) (0.15.1)\n"
     ]
    }
   ],
   "source": [
    "# Update sklearn to prevent version mismatches\n",
    "!pip install sklearn --upgrade"
   ]
  },
  {
   "cell_type": "code",
   "execution_count": 2,
   "metadata": {},
   "outputs": [],
   "source": [
    "import pandas as pd\n",
    "import matplotlib.pyplot as plt"
   ]
  },
  {
   "cell_type": "code",
   "execution_count": 3,
   "metadata": {},
   "outputs": [
    {
     "data": {
      "text/html": [
       "<div>\n",
       "<style scoped>\n",
       "    .dataframe tbody tr th:only-of-type {\n",
       "        vertical-align: middle;\n",
       "    }\n",
       "\n",
       "    .dataframe tbody tr th {\n",
       "        vertical-align: top;\n",
       "    }\n",
       "\n",
       "    .dataframe thead th {\n",
       "        text-align: right;\n",
       "    }\n",
       "</style>\n",
       "<table border=\"1\" class=\"dataframe\">\n",
       "  <thead>\n",
       "    <tr style=\"text-align: right;\">\n",
       "      <th></th>\n",
       "      <th>Unnamed: 0</th>\n",
       "      <th>id</th>\n",
       "      <th>salaryusd</th>\n",
       "      <th>primarydatabase</th>\n",
       "      <th>yearswiththisdatabase</th>\n",
       "      <th>employmentstatus</th>\n",
       "      <th>jobtitle</th>\n",
       "      <th>managestaff</th>\n",
       "      <th>yearswiththistypeofjob</th>\n",
       "      <th>otherpeopleonyourteam</th>\n",
       "      <th>education</th>\n",
       "      <th>educationiscomputerrelated</th>\n",
       "      <th>certifications</th>\n",
       "      <th>hoursworkedperweek</th>\n",
       "      <th>telecommutedaysperweek</th>\n",
       "      <th>employmentsector</th>\n",
       "      <th>region</th>\n",
       "      <th>averagesalaryusdbins</th>\n",
       "    </tr>\n",
       "  </thead>\n",
       "  <tbody>\n",
       "    <tr>\n",
       "      <th>0</th>\n",
       "      <td>4496</td>\n",
       "      <td>4529</td>\n",
       "      <td>8000.0</td>\n",
       "      <td>Microsoft SQL Server</td>\n",
       "      <td>8</td>\n",
       "      <td>Full time employee</td>\n",
       "      <td>DBA</td>\n",
       "      <td>No</td>\n",
       "      <td>0</td>\n",
       "      <td>None</td>\n",
       "      <td>Associates (2 years)</td>\n",
       "      <td>NaN</td>\n",
       "      <td>No, I never have</td>\n",
       "      <td>40</td>\n",
       "      <td>None, or less than 1 day per week</td>\n",
       "      <td>Private business</td>\n",
       "      <td>Western Europe</td>\n",
       "      <td>5000</td>\n",
       "    </tr>\n",
       "    <tr>\n",
       "      <th>1</th>\n",
       "      <td>5497</td>\n",
       "      <td>5535</td>\n",
       "      <td>2000.0</td>\n",
       "      <td>Microsoft SQL Server</td>\n",
       "      <td>7</td>\n",
       "      <td>Full time employee</td>\n",
       "      <td>DBA</td>\n",
       "      <td>No</td>\n",
       "      <td>1</td>\n",
       "      <td>4</td>\n",
       "      <td>Masters</td>\n",
       "      <td>Yes</td>\n",
       "      <td>Yes, but they expired</td>\n",
       "      <td>40</td>\n",
       "      <td>5 or more</td>\n",
       "      <td>Private business</td>\n",
       "      <td>Eastern Europe</td>\n",
       "      <td>5000</td>\n",
       "    </tr>\n",
       "    <tr>\n",
       "      <th>2</th>\n",
       "      <td>5531</td>\n",
       "      <td>5569</td>\n",
       "      <td>2200.0</td>\n",
       "      <td>Other</td>\n",
       "      <td>2</td>\n",
       "      <td>Full time employee</td>\n",
       "      <td>Developer</td>\n",
       "      <td>No</td>\n",
       "      <td>2</td>\n",
       "      <td>2</td>\n",
       "      <td>Masters</td>\n",
       "      <td>Yes</td>\n",
       "      <td>No, I never have</td>\n",
       "      <td>40</td>\n",
       "      <td>2</td>\n",
       "      <td>Private business</td>\n",
       "      <td>Eastern Europe</td>\n",
       "      <td>5000</td>\n",
       "    </tr>\n",
       "    <tr>\n",
       "      <th>3</th>\n",
       "      <td>5537</td>\n",
       "      <td>5575</td>\n",
       "      <td>3500.0</td>\n",
       "      <td>Microsoft SQL Server</td>\n",
       "      <td>12</td>\n",
       "      <td>Full time employee</td>\n",
       "      <td>Developer</td>\n",
       "      <td>No</td>\n",
       "      <td>15</td>\n",
       "      <td>3</td>\n",
       "      <td>Masters</td>\n",
       "      <td>No</td>\n",
       "      <td>No, I never have</td>\n",
       "      <td>40</td>\n",
       "      <td>1</td>\n",
       "      <td>Private business</td>\n",
       "      <td>Eastern Europe</td>\n",
       "      <td>5000</td>\n",
       "    </tr>\n",
       "    <tr>\n",
       "      <th>4</th>\n",
       "      <td>5538</td>\n",
       "      <td>5576</td>\n",
       "      <td>2900.0</td>\n",
       "      <td>Microsoft SQL Server</td>\n",
       "      <td>8</td>\n",
       "      <td>Full time employee</td>\n",
       "      <td>DBA</td>\n",
       "      <td>No</td>\n",
       "      <td>8</td>\n",
       "      <td>2</td>\n",
       "      <td>Masters</td>\n",
       "      <td>NaN</td>\n",
       "      <td>No, I never have</td>\n",
       "      <td>40</td>\n",
       "      <td>None, or less than 1 day per week</td>\n",
       "      <td>Private business</td>\n",
       "      <td>Eastern Europe</td>\n",
       "      <td>5000</td>\n",
       "    </tr>\n",
       "  </tbody>\n",
       "</table>\n",
       "</div>"
      ],
      "text/plain": [
       "   Unnamed: 0    id  salaryusd       primarydatabase  yearswiththisdatabase  \\\n",
       "0        4496  4529     8000.0  Microsoft SQL Server                      8   \n",
       "1        5497  5535     2000.0  Microsoft SQL Server                      7   \n",
       "2        5531  5569     2200.0                 Other                      2   \n",
       "3        5537  5575     3500.0  Microsoft SQL Server                     12   \n",
       "4        5538  5576     2900.0  Microsoft SQL Server                      8   \n",
       "\n",
       "     employmentstatus   jobtitle managestaff  yearswiththistypeofjob  \\\n",
       "0  Full time employee        DBA          No                       0   \n",
       "1  Full time employee        DBA          No                       1   \n",
       "2  Full time employee  Developer          No                       2   \n",
       "3  Full time employee  Developer          No                      15   \n",
       "4  Full time employee        DBA          No                       8   \n",
       "\n",
       "  otherpeopleonyourteam             education educationiscomputerrelated  \\\n",
       "0                  None  Associates (2 years)                        NaN   \n",
       "1                     4               Masters                        Yes   \n",
       "2                     2               Masters                        Yes   \n",
       "3                     3               Masters                         No   \n",
       "4                     2               Masters                        NaN   \n",
       "\n",
       "          certifications  hoursworkedperweek  \\\n",
       "0       No, I never have                  40   \n",
       "1  Yes, but they expired                  40   \n",
       "2       No, I never have                  40   \n",
       "3       No, I never have                  40   \n",
       "4       No, I never have                  40   \n",
       "\n",
       "              telecommutedaysperweek  employmentsector          region  \\\n",
       "0  None, or less than 1 day per week  Private business  Western Europe   \n",
       "1                          5 or more  Private business  Eastern Europe   \n",
       "2                                  2  Private business  Eastern Europe   \n",
       "3                                  1  Private business  Eastern Europe   \n",
       "4  None, or less than 1 day per week  Private business  Eastern Europe   \n",
       "\n",
       "   averagesalaryusdbins  \n",
       "0                  5000  \n",
       "1                  5000  \n",
       "2                  5000  \n",
       "3                  5000  \n",
       "4                  5000  "
      ]
     },
     "execution_count": 3,
     "metadata": {},
     "output_type": "execute_result"
    }
   ],
   "source": [
    "# import csv to df\n",
    "salary_df1 = pd.read_csv(\"../exported_data/salary_data1_new2.csv\")\n",
    "salary_df1.head()"
   ]
  },
  {
   "cell_type": "code",
   "execution_count": 4,
   "metadata": {},
   "outputs": [
    {
     "data": {
      "text/html": [
       "<div>\n",
       "<style scoped>\n",
       "    .dataframe tbody tr th:only-of-type {\n",
       "        vertical-align: middle;\n",
       "    }\n",
       "\n",
       "    .dataframe tbody tr th {\n",
       "        vertical-align: top;\n",
       "    }\n",
       "\n",
       "    .dataframe thead th {\n",
       "        text-align: right;\n",
       "    }\n",
       "</style>\n",
       "<table border=\"1\" class=\"dataframe\">\n",
       "  <thead>\n",
       "    <tr style=\"text-align: right;\">\n",
       "      <th></th>\n",
       "      <th>id</th>\n",
       "      <th>salaryusd</th>\n",
       "      <th>primarydatabase</th>\n",
       "      <th>yearswiththisdatabase</th>\n",
       "      <th>employmentstatus</th>\n",
       "      <th>jobtitle</th>\n",
       "      <th>managestaff</th>\n",
       "      <th>yearswiththistypeofjob</th>\n",
       "      <th>otherpeopleonyourteam</th>\n",
       "      <th>education</th>\n",
       "      <th>educationiscomputerrelated</th>\n",
       "      <th>certifications</th>\n",
       "      <th>hoursworkedperweek</th>\n",
       "      <th>telecommutedaysperweek</th>\n",
       "      <th>employmentsector</th>\n",
       "      <th>region</th>\n",
       "      <th>averagesalaryusdbins</th>\n",
       "    </tr>\n",
       "  </thead>\n",
       "  <tbody>\n",
       "    <tr>\n",
       "      <th>1</th>\n",
       "      <td>5535</td>\n",
       "      <td>2000.0</td>\n",
       "      <td>Microsoft SQL Server</td>\n",
       "      <td>7</td>\n",
       "      <td>Full time employee</td>\n",
       "      <td>DBA</td>\n",
       "      <td>No</td>\n",
       "      <td>1</td>\n",
       "      <td>4</td>\n",
       "      <td>Masters</td>\n",
       "      <td>Yes</td>\n",
       "      <td>Yes, but they expired</td>\n",
       "      <td>40</td>\n",
       "      <td>5 or more</td>\n",
       "      <td>Private business</td>\n",
       "      <td>Eastern Europe</td>\n",
       "      <td>5000</td>\n",
       "    </tr>\n",
       "    <tr>\n",
       "      <th>2</th>\n",
       "      <td>5569</td>\n",
       "      <td>2200.0</td>\n",
       "      <td>Other</td>\n",
       "      <td>2</td>\n",
       "      <td>Full time employee</td>\n",
       "      <td>Developer</td>\n",
       "      <td>No</td>\n",
       "      <td>2</td>\n",
       "      <td>2</td>\n",
       "      <td>Masters</td>\n",
       "      <td>Yes</td>\n",
       "      <td>No, I never have</td>\n",
       "      <td>40</td>\n",
       "      <td>2</td>\n",
       "      <td>Private business</td>\n",
       "      <td>Eastern Europe</td>\n",
       "      <td>5000</td>\n",
       "    </tr>\n",
       "    <tr>\n",
       "      <th>3</th>\n",
       "      <td>5575</td>\n",
       "      <td>3500.0</td>\n",
       "      <td>Microsoft SQL Server</td>\n",
       "      <td>12</td>\n",
       "      <td>Full time employee</td>\n",
       "      <td>Developer</td>\n",
       "      <td>No</td>\n",
       "      <td>15</td>\n",
       "      <td>3</td>\n",
       "      <td>Masters</td>\n",
       "      <td>No</td>\n",
       "      <td>No, I never have</td>\n",
       "      <td>40</td>\n",
       "      <td>1</td>\n",
       "      <td>Private business</td>\n",
       "      <td>Eastern Europe</td>\n",
       "      <td>5000</td>\n",
       "    </tr>\n",
       "    <tr>\n",
       "      <th>6</th>\n",
       "      <td>5580</td>\n",
       "      <td>2400.0</td>\n",
       "      <td>Microsoft SQL Server</td>\n",
       "      <td>8</td>\n",
       "      <td>Full time employee</td>\n",
       "      <td>Developer</td>\n",
       "      <td>No</td>\n",
       "      <td>6</td>\n",
       "      <td>2</td>\n",
       "      <td>Doctorate/PhD</td>\n",
       "      <td>Yes</td>\n",
       "      <td>Yes, but they expired</td>\n",
       "      <td>40</td>\n",
       "      <td>5 or more</td>\n",
       "      <td>Private business</td>\n",
       "      <td>Eastern Europe</td>\n",
       "      <td>5000</td>\n",
       "    </tr>\n",
       "    <tr>\n",
       "      <th>7</th>\n",
       "      <td>5581</td>\n",
       "      <td>3300.0</td>\n",
       "      <td>PostgreSQL</td>\n",
       "      <td>3</td>\n",
       "      <td>Full time employee</td>\n",
       "      <td>DBA</td>\n",
       "      <td>Yes</td>\n",
       "      <td>8</td>\n",
       "      <td>None</td>\n",
       "      <td>Bachelors (4 years)</td>\n",
       "      <td>Yes</td>\n",
       "      <td>Yes, and they're currently valid</td>\n",
       "      <td>35</td>\n",
       "      <td>5 or more</td>\n",
       "      <td>Private business</td>\n",
       "      <td>Eastern Europe</td>\n",
       "      <td>5000</td>\n",
       "    </tr>\n",
       "    <tr>\n",
       "      <th>...</th>\n",
       "      <td>...</td>\n",
       "      <td>...</td>\n",
       "      <td>...</td>\n",
       "      <td>...</td>\n",
       "      <td>...</td>\n",
       "      <td>...</td>\n",
       "      <td>...</td>\n",
       "      <td>...</td>\n",
       "      <td>...</td>\n",
       "      <td>...</td>\n",
       "      <td>...</td>\n",
       "      <td>...</td>\n",
       "      <td>...</td>\n",
       "      <td>...</td>\n",
       "      <td>...</td>\n",
       "      <td>...</td>\n",
       "      <td>...</td>\n",
       "    </tr>\n",
       "    <tr>\n",
       "      <th>6642</th>\n",
       "      <td>1290</td>\n",
       "      <td>250000.0</td>\n",
       "      <td>Microsoft SQL Server</td>\n",
       "      <td>16</td>\n",
       "      <td>Independent Consultant/Freelancer</td>\n",
       "      <td>DBA</td>\n",
       "      <td>No</td>\n",
       "      <td>16</td>\n",
       "      <td>1</td>\n",
       "      <td>Bachelors (4 years)</td>\n",
       "      <td>No</td>\n",
       "      <td>No, I never have</td>\n",
       "      <td>45</td>\n",
       "      <td>5 or more</td>\n",
       "      <td>Private business</td>\n",
       "      <td>North America</td>\n",
       "      <td>245000</td>\n",
       "    </tr>\n",
       "    <tr>\n",
       "      <th>6644</th>\n",
       "      <td>3947</td>\n",
       "      <td>250000.0</td>\n",
       "      <td>Microsoft SQL Server</td>\n",
       "      <td>20</td>\n",
       "      <td>Independent Consultant/Freelancer</td>\n",
       "      <td>DBA</td>\n",
       "      <td>No</td>\n",
       "      <td>25</td>\n",
       "      <td>None</td>\n",
       "      <td>Masters</td>\n",
       "      <td>Yes</td>\n",
       "      <td>Yes, and they're currently valid</td>\n",
       "      <td>50</td>\n",
       "      <td>5 or more</td>\n",
       "      <td>Private business</td>\n",
       "      <td>North America</td>\n",
       "      <td>245000</td>\n",
       "    </tr>\n",
       "    <tr>\n",
       "      <th>6645</th>\n",
       "      <td>4147</td>\n",
       "      <td>250000.0</td>\n",
       "      <td>Microsoft SQL Server</td>\n",
       "      <td>16</td>\n",
       "      <td>Independent Consultant/Freelancer</td>\n",
       "      <td>Architect</td>\n",
       "      <td>No</td>\n",
       "      <td>16</td>\n",
       "      <td>None</td>\n",
       "      <td>Bachelors (4 years)</td>\n",
       "      <td>Yes</td>\n",
       "      <td>No, I never have</td>\n",
       "      <td>40</td>\n",
       "      <td>5 or more</td>\n",
       "      <td>Private business</td>\n",
       "      <td>North America</td>\n",
       "      <td>245000</td>\n",
       "    </tr>\n",
       "    <tr>\n",
       "      <th>6647</th>\n",
       "      <td>5119</td>\n",
       "      <td>250000.0</td>\n",
       "      <td>Microsoft SQL Server</td>\n",
       "      <td>20</td>\n",
       "      <td>Independent Consultant/Freelancer</td>\n",
       "      <td>Architect</td>\n",
       "      <td>Yes</td>\n",
       "      <td>22</td>\n",
       "      <td>More than 5</td>\n",
       "      <td>Masters</td>\n",
       "      <td>Yes</td>\n",
       "      <td>Yes, and they're currently valid</td>\n",
       "      <td>60</td>\n",
       "      <td>3</td>\n",
       "      <td>Private business</td>\n",
       "      <td>Western Europe</td>\n",
       "      <td>245000</td>\n",
       "    </tr>\n",
       "    <tr>\n",
       "      <th>6648</th>\n",
       "      <td>6509</td>\n",
       "      <td>250000.0</td>\n",
       "      <td>Microsoft SQL Server</td>\n",
       "      <td>20</td>\n",
       "      <td>Independent Consultant/Freelancer</td>\n",
       "      <td>DBA</td>\n",
       "      <td>No</td>\n",
       "      <td>1</td>\n",
       "      <td>1</td>\n",
       "      <td>Bachelors (4 years)</td>\n",
       "      <td>Yes</td>\n",
       "      <td>Yes, but they expired</td>\n",
       "      <td>40</td>\n",
       "      <td>None, or less than 1 day per week</td>\n",
       "      <td>Private business</td>\n",
       "      <td>Australia</td>\n",
       "      <td>245000</td>\n",
       "    </tr>\n",
       "  </tbody>\n",
       "</table>\n",
       "<p>5473 rows × 17 columns</p>\n",
       "</div>"
      ],
      "text/plain": [
       "        id  salaryusd       primarydatabase  yearswiththisdatabase  \\\n",
       "1     5535     2000.0  Microsoft SQL Server                      7   \n",
       "2     5569     2200.0                 Other                      2   \n",
       "3     5575     3500.0  Microsoft SQL Server                     12   \n",
       "6     5580     2400.0  Microsoft SQL Server                      8   \n",
       "7     5581     3300.0            PostgreSQL                      3   \n",
       "...    ...        ...                   ...                    ...   \n",
       "6642  1290   250000.0  Microsoft SQL Server                     16   \n",
       "6644  3947   250000.0  Microsoft SQL Server                     20   \n",
       "6645  4147   250000.0  Microsoft SQL Server                     16   \n",
       "6647  5119   250000.0  Microsoft SQL Server                     20   \n",
       "6648  6509   250000.0  Microsoft SQL Server                     20   \n",
       "\n",
       "                       employmentstatus   jobtitle managestaff  \\\n",
       "1                    Full time employee        DBA          No   \n",
       "2                    Full time employee  Developer          No   \n",
       "3                    Full time employee  Developer          No   \n",
       "6                    Full time employee  Developer          No   \n",
       "7                    Full time employee        DBA         Yes   \n",
       "...                                 ...        ...         ...   \n",
       "6642  Independent Consultant/Freelancer        DBA          No   \n",
       "6644  Independent Consultant/Freelancer        DBA          No   \n",
       "6645  Independent Consultant/Freelancer  Architect          No   \n",
       "6647  Independent Consultant/Freelancer  Architect         Yes   \n",
       "6648  Independent Consultant/Freelancer        DBA          No   \n",
       "\n",
       "      yearswiththistypeofjob otherpeopleonyourteam            education  \\\n",
       "1                          1                     4              Masters   \n",
       "2                          2                     2              Masters   \n",
       "3                         15                     3              Masters   \n",
       "6                          6                     2        Doctorate/PhD   \n",
       "7                          8                  None  Bachelors (4 years)   \n",
       "...                      ...                   ...                  ...   \n",
       "6642                      16                     1  Bachelors (4 years)   \n",
       "6644                      25                  None              Masters   \n",
       "6645                      16                  None  Bachelors (4 years)   \n",
       "6647                      22           More than 5              Masters   \n",
       "6648                       1                     1  Bachelors (4 years)   \n",
       "\n",
       "     educationiscomputerrelated                    certifications  \\\n",
       "1                           Yes             Yes, but they expired   \n",
       "2                           Yes                  No, I never have   \n",
       "3                            No                  No, I never have   \n",
       "6                           Yes             Yes, but they expired   \n",
       "7                           Yes  Yes, and they're currently valid   \n",
       "...                         ...                               ...   \n",
       "6642                         No                  No, I never have   \n",
       "6644                        Yes  Yes, and they're currently valid   \n",
       "6645                        Yes                  No, I never have   \n",
       "6647                        Yes  Yes, and they're currently valid   \n",
       "6648                        Yes             Yes, but they expired   \n",
       "\n",
       "      hoursworkedperweek             telecommutedaysperweek  employmentsector  \\\n",
       "1                     40                          5 or more  Private business   \n",
       "2                     40                                  2  Private business   \n",
       "3                     40                                  1  Private business   \n",
       "6                     40                          5 or more  Private business   \n",
       "7                     35                          5 or more  Private business   \n",
       "...                  ...                                ...               ...   \n",
       "6642                  45                          5 or more  Private business   \n",
       "6644                  50                          5 or more  Private business   \n",
       "6645                  40                          5 or more  Private business   \n",
       "6647                  60                                  3  Private business   \n",
       "6648                  40  None, or less than 1 day per week  Private business   \n",
       "\n",
       "              region  averagesalaryusdbins  \n",
       "1     Eastern Europe                  5000  \n",
       "2     Eastern Europe                  5000  \n",
       "3     Eastern Europe                  5000  \n",
       "6     Eastern Europe                  5000  \n",
       "7     Eastern Europe                  5000  \n",
       "...              ...                   ...  \n",
       "6642   North America                245000  \n",
       "6644   North America                245000  \n",
       "6645   North America                245000  \n",
       "6647  Western Europe                245000  \n",
       "6648       Australia                245000  \n",
       "\n",
       "[5473 rows x 17 columns]"
      ]
     },
     "execution_count": 4,
     "metadata": {},
     "output_type": "execute_result"
    }
   ],
   "source": [
    "del salary_df1[\"Unnamed: 0\"]\n",
    "\n",
    "salary_df1 = salary_df1.dropna()\n",
    "\n",
    "salary_df1"
   ]
  },
  {
   "cell_type": "code",
   "execution_count": 5,
   "metadata": {},
   "outputs": [
    {
     "name": "stdout",
     "output_type": "stream",
     "text": [
      "(5473, 14) (5473, 1)\n"
     ]
    }
   ],
   "source": [
    "# sets X as every columns except koi_disposition\n",
    "X1 = salary_df1.drop(\"averagesalaryusdbins\", axis=1)\n",
    "X2 = X1.drop(\"id\", axis=1)\n",
    "X = X2.drop(\"salaryusd\", axis=1)\n",
    "# sets y to koi_disposition\n",
    "y = salary_df1[\"averagesalaryusdbins\"].values.reshape(-1, 1)\n",
    "\n",
    "print(X.shape, y.shape)"
   ]
  },
  {
   "cell_type": "code",
   "execution_count": 6,
   "metadata": {},
   "outputs": [
    {
     "name": "stdout",
     "output_type": "stream",
     "text": [
      "(5473, 63) (5473, 1)\n"
     ]
    },
    {
     "data": {
      "text/html": [
       "<div>\n",
       "<style scoped>\n",
       "    .dataframe tbody tr th:only-of-type {\n",
       "        vertical-align: middle;\n",
       "    }\n",
       "\n",
       "    .dataframe tbody tr th {\n",
       "        vertical-align: top;\n",
       "    }\n",
       "\n",
       "    .dataframe thead th {\n",
       "        text-align: right;\n",
       "    }\n",
       "</style>\n",
       "<table border=\"1\" class=\"dataframe\">\n",
       "  <thead>\n",
       "    <tr style=\"text-align: right;\">\n",
       "      <th></th>\n",
       "      <th>yearswiththisdatabase</th>\n",
       "      <th>yearswiththistypeofjob</th>\n",
       "      <th>hoursworkedperweek</th>\n",
       "      <th>primarydatabase_Amazon RDS (any flavor)</th>\n",
       "      <th>primarydatabase_Azure SQL DB</th>\n",
       "      <th>primarydatabase_DB2</th>\n",
       "      <th>primarydatabase_Elasticsearch</th>\n",
       "      <th>primarydatabase_Microsoft Access</th>\n",
       "      <th>primarydatabase_Microsoft SQL Server</th>\n",
       "      <th>primarydatabase_MongoDB</th>\n",
       "      <th>...</th>\n",
       "      <th>employmentsector_Private business</th>\n",
       "      <th>region_Africa</th>\n",
       "      <th>region_Asia</th>\n",
       "      <th>region_Australia</th>\n",
       "      <th>region_Eastern Europe</th>\n",
       "      <th>region_Latin America</th>\n",
       "      <th>region_Middle East</th>\n",
       "      <th>region_North America</th>\n",
       "      <th>region_South America</th>\n",
       "      <th>region_Western Europe</th>\n",
       "    </tr>\n",
       "  </thead>\n",
       "  <tbody>\n",
       "    <tr>\n",
       "      <th>1</th>\n",
       "      <td>7</td>\n",
       "      <td>1</td>\n",
       "      <td>40</td>\n",
       "      <td>0</td>\n",
       "      <td>0</td>\n",
       "      <td>0</td>\n",
       "      <td>0</td>\n",
       "      <td>0</td>\n",
       "      <td>1</td>\n",
       "      <td>0</td>\n",
       "      <td>...</td>\n",
       "      <td>1</td>\n",
       "      <td>0</td>\n",
       "      <td>0</td>\n",
       "      <td>0</td>\n",
       "      <td>1</td>\n",
       "      <td>0</td>\n",
       "      <td>0</td>\n",
       "      <td>0</td>\n",
       "      <td>0</td>\n",
       "      <td>0</td>\n",
       "    </tr>\n",
       "    <tr>\n",
       "      <th>2</th>\n",
       "      <td>2</td>\n",
       "      <td>2</td>\n",
       "      <td>40</td>\n",
       "      <td>0</td>\n",
       "      <td>0</td>\n",
       "      <td>0</td>\n",
       "      <td>0</td>\n",
       "      <td>0</td>\n",
       "      <td>0</td>\n",
       "      <td>0</td>\n",
       "      <td>...</td>\n",
       "      <td>1</td>\n",
       "      <td>0</td>\n",
       "      <td>0</td>\n",
       "      <td>0</td>\n",
       "      <td>1</td>\n",
       "      <td>0</td>\n",
       "      <td>0</td>\n",
       "      <td>0</td>\n",
       "      <td>0</td>\n",
       "      <td>0</td>\n",
       "    </tr>\n",
       "    <tr>\n",
       "      <th>3</th>\n",
       "      <td>12</td>\n",
       "      <td>15</td>\n",
       "      <td>40</td>\n",
       "      <td>0</td>\n",
       "      <td>0</td>\n",
       "      <td>0</td>\n",
       "      <td>0</td>\n",
       "      <td>0</td>\n",
       "      <td>1</td>\n",
       "      <td>0</td>\n",
       "      <td>...</td>\n",
       "      <td>1</td>\n",
       "      <td>0</td>\n",
       "      <td>0</td>\n",
       "      <td>0</td>\n",
       "      <td>1</td>\n",
       "      <td>0</td>\n",
       "      <td>0</td>\n",
       "      <td>0</td>\n",
       "      <td>0</td>\n",
       "      <td>0</td>\n",
       "    </tr>\n",
       "    <tr>\n",
       "      <th>6</th>\n",
       "      <td>8</td>\n",
       "      <td>6</td>\n",
       "      <td>40</td>\n",
       "      <td>0</td>\n",
       "      <td>0</td>\n",
       "      <td>0</td>\n",
       "      <td>0</td>\n",
       "      <td>0</td>\n",
       "      <td>1</td>\n",
       "      <td>0</td>\n",
       "      <td>...</td>\n",
       "      <td>1</td>\n",
       "      <td>0</td>\n",
       "      <td>0</td>\n",
       "      <td>0</td>\n",
       "      <td>1</td>\n",
       "      <td>0</td>\n",
       "      <td>0</td>\n",
       "      <td>0</td>\n",
       "      <td>0</td>\n",
       "      <td>0</td>\n",
       "    </tr>\n",
       "    <tr>\n",
       "      <th>7</th>\n",
       "      <td>3</td>\n",
       "      <td>8</td>\n",
       "      <td>35</td>\n",
       "      <td>0</td>\n",
       "      <td>0</td>\n",
       "      <td>0</td>\n",
       "      <td>0</td>\n",
       "      <td>0</td>\n",
       "      <td>0</td>\n",
       "      <td>0</td>\n",
       "      <td>...</td>\n",
       "      <td>1</td>\n",
       "      <td>0</td>\n",
       "      <td>0</td>\n",
       "      <td>0</td>\n",
       "      <td>1</td>\n",
       "      <td>0</td>\n",
       "      <td>0</td>\n",
       "      <td>0</td>\n",
       "      <td>0</td>\n",
       "      <td>0</td>\n",
       "    </tr>\n",
       "    <tr>\n",
       "      <th>...</th>\n",
       "      <td>...</td>\n",
       "      <td>...</td>\n",
       "      <td>...</td>\n",
       "      <td>...</td>\n",
       "      <td>...</td>\n",
       "      <td>...</td>\n",
       "      <td>...</td>\n",
       "      <td>...</td>\n",
       "      <td>...</td>\n",
       "      <td>...</td>\n",
       "      <td>...</td>\n",
       "      <td>...</td>\n",
       "      <td>...</td>\n",
       "      <td>...</td>\n",
       "      <td>...</td>\n",
       "      <td>...</td>\n",
       "      <td>...</td>\n",
       "      <td>...</td>\n",
       "      <td>...</td>\n",
       "      <td>...</td>\n",
       "      <td>...</td>\n",
       "    </tr>\n",
       "    <tr>\n",
       "      <th>6642</th>\n",
       "      <td>16</td>\n",
       "      <td>16</td>\n",
       "      <td>45</td>\n",
       "      <td>0</td>\n",
       "      <td>0</td>\n",
       "      <td>0</td>\n",
       "      <td>0</td>\n",
       "      <td>0</td>\n",
       "      <td>1</td>\n",
       "      <td>0</td>\n",
       "      <td>...</td>\n",
       "      <td>1</td>\n",
       "      <td>0</td>\n",
       "      <td>0</td>\n",
       "      <td>0</td>\n",
       "      <td>0</td>\n",
       "      <td>0</td>\n",
       "      <td>0</td>\n",
       "      <td>1</td>\n",
       "      <td>0</td>\n",
       "      <td>0</td>\n",
       "    </tr>\n",
       "    <tr>\n",
       "      <th>6644</th>\n",
       "      <td>20</td>\n",
       "      <td>25</td>\n",
       "      <td>50</td>\n",
       "      <td>0</td>\n",
       "      <td>0</td>\n",
       "      <td>0</td>\n",
       "      <td>0</td>\n",
       "      <td>0</td>\n",
       "      <td>1</td>\n",
       "      <td>0</td>\n",
       "      <td>...</td>\n",
       "      <td>1</td>\n",
       "      <td>0</td>\n",
       "      <td>0</td>\n",
       "      <td>0</td>\n",
       "      <td>0</td>\n",
       "      <td>0</td>\n",
       "      <td>0</td>\n",
       "      <td>1</td>\n",
       "      <td>0</td>\n",
       "      <td>0</td>\n",
       "    </tr>\n",
       "    <tr>\n",
       "      <th>6645</th>\n",
       "      <td>16</td>\n",
       "      <td>16</td>\n",
       "      <td>40</td>\n",
       "      <td>0</td>\n",
       "      <td>0</td>\n",
       "      <td>0</td>\n",
       "      <td>0</td>\n",
       "      <td>0</td>\n",
       "      <td>1</td>\n",
       "      <td>0</td>\n",
       "      <td>...</td>\n",
       "      <td>1</td>\n",
       "      <td>0</td>\n",
       "      <td>0</td>\n",
       "      <td>0</td>\n",
       "      <td>0</td>\n",
       "      <td>0</td>\n",
       "      <td>0</td>\n",
       "      <td>1</td>\n",
       "      <td>0</td>\n",
       "      <td>0</td>\n",
       "    </tr>\n",
       "    <tr>\n",
       "      <th>6647</th>\n",
       "      <td>20</td>\n",
       "      <td>22</td>\n",
       "      <td>60</td>\n",
       "      <td>0</td>\n",
       "      <td>0</td>\n",
       "      <td>0</td>\n",
       "      <td>0</td>\n",
       "      <td>0</td>\n",
       "      <td>1</td>\n",
       "      <td>0</td>\n",
       "      <td>...</td>\n",
       "      <td>1</td>\n",
       "      <td>0</td>\n",
       "      <td>0</td>\n",
       "      <td>0</td>\n",
       "      <td>0</td>\n",
       "      <td>0</td>\n",
       "      <td>0</td>\n",
       "      <td>0</td>\n",
       "      <td>0</td>\n",
       "      <td>1</td>\n",
       "    </tr>\n",
       "    <tr>\n",
       "      <th>6648</th>\n",
       "      <td>20</td>\n",
       "      <td>1</td>\n",
       "      <td>40</td>\n",
       "      <td>0</td>\n",
       "      <td>0</td>\n",
       "      <td>0</td>\n",
       "      <td>0</td>\n",
       "      <td>0</td>\n",
       "      <td>1</td>\n",
       "      <td>0</td>\n",
       "      <td>...</td>\n",
       "      <td>1</td>\n",
       "      <td>0</td>\n",
       "      <td>0</td>\n",
       "      <td>1</td>\n",
       "      <td>0</td>\n",
       "      <td>0</td>\n",
       "      <td>0</td>\n",
       "      <td>0</td>\n",
       "      <td>0</td>\n",
       "      <td>0</td>\n",
       "    </tr>\n",
       "  </tbody>\n",
       "</table>\n",
       "<p>5473 rows × 63 columns</p>\n",
       "</div>"
      ],
      "text/plain": [
       "      yearswiththisdatabase  yearswiththistypeofjob  hoursworkedperweek  \\\n",
       "1                         7                       1                  40   \n",
       "2                         2                       2                  40   \n",
       "3                        12                      15                  40   \n",
       "6                         8                       6                  40   \n",
       "7                         3                       8                  35   \n",
       "...                     ...                     ...                 ...   \n",
       "6642                     16                      16                  45   \n",
       "6644                     20                      25                  50   \n",
       "6645                     16                      16                  40   \n",
       "6647                     20                      22                  60   \n",
       "6648                     20                       1                  40   \n",
       "\n",
       "      primarydatabase_Amazon RDS (any flavor)  primarydatabase_Azure SQL DB  \\\n",
       "1                                           0                             0   \n",
       "2                                           0                             0   \n",
       "3                                           0                             0   \n",
       "6                                           0                             0   \n",
       "7                                           0                             0   \n",
       "...                                       ...                           ...   \n",
       "6642                                        0                             0   \n",
       "6644                                        0                             0   \n",
       "6645                                        0                             0   \n",
       "6647                                        0                             0   \n",
       "6648                                        0                             0   \n",
       "\n",
       "      primarydatabase_DB2  primarydatabase_Elasticsearch  \\\n",
       "1                       0                              0   \n",
       "2                       0                              0   \n",
       "3                       0                              0   \n",
       "6                       0                              0   \n",
       "7                       0                              0   \n",
       "...                   ...                            ...   \n",
       "6642                    0                              0   \n",
       "6644                    0                              0   \n",
       "6645                    0                              0   \n",
       "6647                    0                              0   \n",
       "6648                    0                              0   \n",
       "\n",
       "      primarydatabase_Microsoft Access  primarydatabase_Microsoft SQL Server  \\\n",
       "1                                    0                                     1   \n",
       "2                                    0                                     0   \n",
       "3                                    0                                     1   \n",
       "6                                    0                                     1   \n",
       "7                                    0                                     0   \n",
       "...                                ...                                   ...   \n",
       "6642                                 0                                     1   \n",
       "6644                                 0                                     1   \n",
       "6645                                 0                                     1   \n",
       "6647                                 0                                     1   \n",
       "6648                                 0                                     1   \n",
       "\n",
       "      primarydatabase_MongoDB  ...  employmentsector_Private business  \\\n",
       "1                           0  ...                                  1   \n",
       "2                           0  ...                                  1   \n",
       "3                           0  ...                                  1   \n",
       "6                           0  ...                                  1   \n",
       "7                           0  ...                                  1   \n",
       "...                       ...  ...                                ...   \n",
       "6642                        0  ...                                  1   \n",
       "6644                        0  ...                                  1   \n",
       "6645                        0  ...                                  1   \n",
       "6647                        0  ...                                  1   \n",
       "6648                        0  ...                                  1   \n",
       "\n",
       "      region_Africa  region_Asia  region_Australia  region_Eastern Europe  \\\n",
       "1                 0            0                 0                      1   \n",
       "2                 0            0                 0                      1   \n",
       "3                 0            0                 0                      1   \n",
       "6                 0            0                 0                      1   \n",
       "7                 0            0                 0                      1   \n",
       "...             ...          ...               ...                    ...   \n",
       "6642              0            0                 0                      0   \n",
       "6644              0            0                 0                      0   \n",
       "6645              0            0                 0                      0   \n",
       "6647              0            0                 0                      0   \n",
       "6648              0            0                 1                      0   \n",
       "\n",
       "      region_Latin America  region_Middle East  region_North America  \\\n",
       "1                        0                   0                     0   \n",
       "2                        0                   0                     0   \n",
       "3                        0                   0                     0   \n",
       "6                        0                   0                     0   \n",
       "7                        0                   0                     0   \n",
       "...                    ...                 ...                   ...   \n",
       "6642                     0                   0                     1   \n",
       "6644                     0                   0                     1   \n",
       "6645                     0                   0                     1   \n",
       "6647                     0                   0                     0   \n",
       "6648                     0                   0                     0   \n",
       "\n",
       "      region_South America  region_Western Europe  \n",
       "1                        0                      0  \n",
       "2                        0                      0  \n",
       "3                        0                      0  \n",
       "6                        0                      0  \n",
       "7                        0                      0  \n",
       "...                    ...                    ...  \n",
       "6642                     0                      0  \n",
       "6644                     0                      0  \n",
       "6645                     0                      0  \n",
       "6647                     0                      1  \n",
       "6648                     0                      0  \n",
       "\n",
       "[5473 rows x 63 columns]"
      ]
     },
     "execution_count": 6,
     "metadata": {},
     "output_type": "execute_result"
    }
   ],
   "source": [
    "X_encoded = pd.get_dummies(X)\n",
    "print(X_encoded.shape, y.shape)\n",
    "\n",
    "X_encoded\n",
    "\n"
   ]
  },
  {
   "cell_type": "code",
   "execution_count": 7,
   "metadata": {},
   "outputs": [],
   "source": [
    "from sklearn.model_selection import train_test_split\n",
    "from sklearn.preprocessing import LabelEncoder, MinMaxScaler\n",
    "from tensorflow.keras.utils import to_categorical\n",
    "from sklearn.neighbors import KNeighborsClassifier\n",
    "\n",
    "\n",
    "# Split data into training and testing\n",
    "X_train, X_test, y_train, y_test = train_test_split(X_encoded, y, random_state=115, stratify=y)"
   ]
  },
  {
   "cell_type": "code",
   "execution_count": 8,
   "metadata": {},
   "outputs": [
    {
     "data": {
      "text/html": [
       "<div>\n",
       "<style scoped>\n",
       "    .dataframe tbody tr th:only-of-type {\n",
       "        vertical-align: middle;\n",
       "    }\n",
       "\n",
       "    .dataframe tbody tr th {\n",
       "        vertical-align: top;\n",
       "    }\n",
       "\n",
       "    .dataframe thead th {\n",
       "        text-align: right;\n",
       "    }\n",
       "</style>\n",
       "<table border=\"1\" class=\"dataframe\">\n",
       "  <thead>\n",
       "    <tr style=\"text-align: right;\">\n",
       "      <th></th>\n",
       "      <th>yearswiththisdatabase</th>\n",
       "      <th>yearswiththistypeofjob</th>\n",
       "      <th>hoursworkedperweek</th>\n",
       "      <th>primarydatabase_Amazon RDS (any flavor)</th>\n",
       "      <th>primarydatabase_Azure SQL DB</th>\n",
       "      <th>primarydatabase_DB2</th>\n",
       "      <th>primarydatabase_Elasticsearch</th>\n",
       "      <th>primarydatabase_Microsoft Access</th>\n",
       "      <th>primarydatabase_Microsoft SQL Server</th>\n",
       "      <th>primarydatabase_MongoDB</th>\n",
       "      <th>...</th>\n",
       "      <th>employmentsector_Private business</th>\n",
       "      <th>region_Africa</th>\n",
       "      <th>region_Asia</th>\n",
       "      <th>region_Australia</th>\n",
       "      <th>region_Eastern Europe</th>\n",
       "      <th>region_Latin America</th>\n",
       "      <th>region_Middle East</th>\n",
       "      <th>region_North America</th>\n",
       "      <th>region_South America</th>\n",
       "      <th>region_Western Europe</th>\n",
       "    </tr>\n",
       "  </thead>\n",
       "  <tbody>\n",
       "    <tr>\n",
       "      <th>2906</th>\n",
       "      <td>4</td>\n",
       "      <td>4</td>\n",
       "      <td>40</td>\n",
       "      <td>0</td>\n",
       "      <td>0</td>\n",
       "      <td>0</td>\n",
       "      <td>0</td>\n",
       "      <td>0</td>\n",
       "      <td>1</td>\n",
       "      <td>0</td>\n",
       "      <td>...</td>\n",
       "      <td>1</td>\n",
       "      <td>0</td>\n",
       "      <td>0</td>\n",
       "      <td>0</td>\n",
       "      <td>0</td>\n",
       "      <td>0</td>\n",
       "      <td>0</td>\n",
       "      <td>1</td>\n",
       "      <td>0</td>\n",
       "      <td>0</td>\n",
       "    </tr>\n",
       "    <tr>\n",
       "      <th>1467</th>\n",
       "      <td>6</td>\n",
       "      <td>6</td>\n",
       "      <td>40</td>\n",
       "      <td>0</td>\n",
       "      <td>0</td>\n",
       "      <td>0</td>\n",
       "      <td>0</td>\n",
       "      <td>0</td>\n",
       "      <td>1</td>\n",
       "      <td>0</td>\n",
       "      <td>...</td>\n",
       "      <td>1</td>\n",
       "      <td>0</td>\n",
       "      <td>0</td>\n",
       "      <td>0</td>\n",
       "      <td>0</td>\n",
       "      <td>0</td>\n",
       "      <td>0</td>\n",
       "      <td>1</td>\n",
       "      <td>0</td>\n",
       "      <td>0</td>\n",
       "    </tr>\n",
       "    <tr>\n",
       "      <th>6164</th>\n",
       "      <td>12</td>\n",
       "      <td>6</td>\n",
       "      <td>45</td>\n",
       "      <td>0</td>\n",
       "      <td>0</td>\n",
       "      <td>0</td>\n",
       "      <td>0</td>\n",
       "      <td>0</td>\n",
       "      <td>1</td>\n",
       "      <td>0</td>\n",
       "      <td>...</td>\n",
       "      <td>0</td>\n",
       "      <td>0</td>\n",
       "      <td>0</td>\n",
       "      <td>1</td>\n",
       "      <td>0</td>\n",
       "      <td>0</td>\n",
       "      <td>0</td>\n",
       "      <td>0</td>\n",
       "      <td>0</td>\n",
       "      <td>0</td>\n",
       "    </tr>\n",
       "    <tr>\n",
       "      <th>5758</th>\n",
       "      <td>20</td>\n",
       "      <td>20</td>\n",
       "      <td>48</td>\n",
       "      <td>0</td>\n",
       "      <td>0</td>\n",
       "      <td>0</td>\n",
       "      <td>0</td>\n",
       "      <td>0</td>\n",
       "      <td>1</td>\n",
       "      <td>0</td>\n",
       "      <td>...</td>\n",
       "      <td>1</td>\n",
       "      <td>0</td>\n",
       "      <td>0</td>\n",
       "      <td>0</td>\n",
       "      <td>0</td>\n",
       "      <td>0</td>\n",
       "      <td>0</td>\n",
       "      <td>1</td>\n",
       "      <td>0</td>\n",
       "      <td>0</td>\n",
       "    </tr>\n",
       "    <tr>\n",
       "      <th>3874</th>\n",
       "      <td>10</td>\n",
       "      <td>2</td>\n",
       "      <td>45</td>\n",
       "      <td>0</td>\n",
       "      <td>0</td>\n",
       "      <td>0</td>\n",
       "      <td>0</td>\n",
       "      <td>0</td>\n",
       "      <td>1</td>\n",
       "      <td>0</td>\n",
       "      <td>...</td>\n",
       "      <td>1</td>\n",
       "      <td>0</td>\n",
       "      <td>0</td>\n",
       "      <td>0</td>\n",
       "      <td>0</td>\n",
       "      <td>0</td>\n",
       "      <td>0</td>\n",
       "      <td>1</td>\n",
       "      <td>0</td>\n",
       "      <td>0</td>\n",
       "    </tr>\n",
       "  </tbody>\n",
       "</table>\n",
       "<p>5 rows × 63 columns</p>\n",
       "</div>"
      ],
      "text/plain": [
       "      yearswiththisdatabase  yearswiththistypeofjob  hoursworkedperweek  \\\n",
       "2906                      4                       4                  40   \n",
       "1467                      6                       6                  40   \n",
       "6164                     12                       6                  45   \n",
       "5758                     20                      20                  48   \n",
       "3874                     10                       2                  45   \n",
       "\n",
       "      primarydatabase_Amazon RDS (any flavor)  primarydatabase_Azure SQL DB  \\\n",
       "2906                                        0                             0   \n",
       "1467                                        0                             0   \n",
       "6164                                        0                             0   \n",
       "5758                                        0                             0   \n",
       "3874                                        0                             0   \n",
       "\n",
       "      primarydatabase_DB2  primarydatabase_Elasticsearch  \\\n",
       "2906                    0                              0   \n",
       "1467                    0                              0   \n",
       "6164                    0                              0   \n",
       "5758                    0                              0   \n",
       "3874                    0                              0   \n",
       "\n",
       "      primarydatabase_Microsoft Access  primarydatabase_Microsoft SQL Server  \\\n",
       "2906                                 0                                     1   \n",
       "1467                                 0                                     1   \n",
       "6164                                 0                                     1   \n",
       "5758                                 0                                     1   \n",
       "3874                                 0                                     1   \n",
       "\n",
       "      primarydatabase_MongoDB  ...  employmentsector_Private business  \\\n",
       "2906                        0  ...                                  1   \n",
       "1467                        0  ...                                  1   \n",
       "6164                        0  ...                                  0   \n",
       "5758                        0  ...                                  1   \n",
       "3874                        0  ...                                  1   \n",
       "\n",
       "      region_Africa  region_Asia  region_Australia  region_Eastern Europe  \\\n",
       "2906              0            0                 0                      0   \n",
       "1467              0            0                 0                      0   \n",
       "6164              0            0                 1                      0   \n",
       "5758              0            0                 0                      0   \n",
       "3874              0            0                 0                      0   \n",
       "\n",
       "      region_Latin America  region_Middle East  region_North America  \\\n",
       "2906                     0                   0                     1   \n",
       "1467                     0                   0                     1   \n",
       "6164                     0                   0                     0   \n",
       "5758                     0                   0                     1   \n",
       "3874                     0                   0                     1   \n",
       "\n",
       "      region_South America  region_Western Europe  \n",
       "2906                     0                      0  \n",
       "1467                     0                      0  \n",
       "6164                     0                      0  \n",
       "5758                     0                      0  \n",
       "3874                     0                      0  \n",
       "\n",
       "[5 rows x 63 columns]"
      ]
     },
     "execution_count": 8,
     "metadata": {},
     "output_type": "execute_result"
    }
   ],
   "source": [
    "X_train.head()"
   ]
  },
  {
   "cell_type": "code",
   "execution_count": 9,
   "metadata": {},
   "outputs": [
    {
     "name": "stderr",
     "output_type": "stream",
     "text": [
      "C:\\Users\\budchris\\anaconda3\\envs\\PythonAdv\\lib\\site-packages\\ipykernel_launcher.py:7: DataConversionWarning: A column-vector y was passed when a 1d array was expected. Please change the shape of y to (n_samples, ), for example using ravel().\n",
      "  import sys\n"
     ]
    },
    {
     "name": "stdout",
     "output_type": "stream",
     "text": [
      "k: 1, Train/Test Score: 0.994/0.128\n"
     ]
    },
    {
     "name": "stderr",
     "output_type": "stream",
     "text": [
      "C:\\Users\\budchris\\anaconda3\\envs\\PythonAdv\\lib\\site-packages\\ipykernel_launcher.py:7: DataConversionWarning: A column-vector y was passed when a 1d array was expected. Please change the shape of y to (n_samples, ), for example using ravel().\n",
      "  import sys\n"
     ]
    },
    {
     "name": "stdout",
     "output_type": "stream",
     "text": [
      "k: 3, Train/Test Score: 0.469/0.119\n"
     ]
    },
    {
     "name": "stderr",
     "output_type": "stream",
     "text": [
      "C:\\Users\\budchris\\anaconda3\\envs\\PythonAdv\\lib\\site-packages\\ipykernel_launcher.py:7: DataConversionWarning: A column-vector y was passed when a 1d array was expected. Please change the shape of y to (n_samples, ), for example using ravel().\n",
      "  import sys\n"
     ]
    },
    {
     "name": "stdout",
     "output_type": "stream",
     "text": [
      "k: 5, Train/Test Score: 0.385/0.120\n"
     ]
    },
    {
     "name": "stderr",
     "output_type": "stream",
     "text": [
      "C:\\Users\\budchris\\anaconda3\\envs\\PythonAdv\\lib\\site-packages\\ipykernel_launcher.py:7: DataConversionWarning: A column-vector y was passed when a 1d array was expected. Please change the shape of y to (n_samples, ), for example using ravel().\n",
      "  import sys\n"
     ]
    },
    {
     "name": "stdout",
     "output_type": "stream",
     "text": [
      "k: 7, Train/Test Score: 0.345/0.125\n"
     ]
    },
    {
     "name": "stderr",
     "output_type": "stream",
     "text": [
      "C:\\Users\\budchris\\anaconda3\\envs\\PythonAdv\\lib\\site-packages\\ipykernel_launcher.py:7: DataConversionWarning: A column-vector y was passed when a 1d array was expected. Please change the shape of y to (n_samples, ), for example using ravel().\n",
      "  import sys\n"
     ]
    },
    {
     "name": "stdout",
     "output_type": "stream",
     "text": [
      "k: 9, Train/Test Score: 0.329/0.131\n"
     ]
    },
    {
     "name": "stderr",
     "output_type": "stream",
     "text": [
      "C:\\Users\\budchris\\anaconda3\\envs\\PythonAdv\\lib\\site-packages\\ipykernel_launcher.py:7: DataConversionWarning: A column-vector y was passed when a 1d array was expected. Please change the shape of y to (n_samples, ), for example using ravel().\n",
      "  import sys\n"
     ]
    },
    {
     "name": "stdout",
     "output_type": "stream",
     "text": [
      "k: 11, Train/Test Score: 0.309/0.131\n"
     ]
    },
    {
     "name": "stderr",
     "output_type": "stream",
     "text": [
      "C:\\Users\\budchris\\anaconda3\\envs\\PythonAdv\\lib\\site-packages\\ipykernel_launcher.py:7: DataConversionWarning: A column-vector y was passed when a 1d array was expected. Please change the shape of y to (n_samples, ), for example using ravel().\n",
      "  import sys\n"
     ]
    },
    {
     "name": "stdout",
     "output_type": "stream",
     "text": [
      "k: 13, Train/Test Score: 0.294/0.129\n"
     ]
    },
    {
     "name": "stderr",
     "output_type": "stream",
     "text": [
      "C:\\Users\\budchris\\anaconda3\\envs\\PythonAdv\\lib\\site-packages\\ipykernel_launcher.py:7: DataConversionWarning: A column-vector y was passed when a 1d array was expected. Please change the shape of y to (n_samples, ), for example using ravel().\n",
      "  import sys\n"
     ]
    },
    {
     "name": "stdout",
     "output_type": "stream",
     "text": [
      "k: 15, Train/Test Score: 0.281/0.129\n"
     ]
    },
    {
     "name": "stderr",
     "output_type": "stream",
     "text": [
      "C:\\Users\\budchris\\anaconda3\\envs\\PythonAdv\\lib\\site-packages\\ipykernel_launcher.py:7: DataConversionWarning: A column-vector y was passed when a 1d array was expected. Please change the shape of y to (n_samples, ), for example using ravel().\n",
      "  import sys\n"
     ]
    },
    {
     "name": "stdout",
     "output_type": "stream",
     "text": [
      "k: 17, Train/Test Score: 0.270/0.133\n"
     ]
    },
    {
     "name": "stderr",
     "output_type": "stream",
     "text": [
      "C:\\Users\\budchris\\anaconda3\\envs\\PythonAdv\\lib\\site-packages\\ipykernel_launcher.py:7: DataConversionWarning: A column-vector y was passed when a 1d array was expected. Please change the shape of y to (n_samples, ), for example using ravel().\n",
      "  import sys\n"
     ]
    },
    {
     "name": "stdout",
     "output_type": "stream",
     "text": [
      "k: 19, Train/Test Score: 0.264/0.131\n"
     ]
    },
    {
     "name": "stderr",
     "output_type": "stream",
     "text": [
      "C:\\Users\\budchris\\anaconda3\\envs\\PythonAdv\\lib\\site-packages\\ipykernel_launcher.py:7: DataConversionWarning: A column-vector y was passed when a 1d array was expected. Please change the shape of y to (n_samples, ), for example using ravel().\n",
      "  import sys\n"
     ]
    },
    {
     "name": "stdout",
     "output_type": "stream",
     "text": [
      "k: 21, Train/Test Score: 0.254/0.134\n"
     ]
    },
    {
     "name": "stderr",
     "output_type": "stream",
     "text": [
      "C:\\Users\\budchris\\anaconda3\\envs\\PythonAdv\\lib\\site-packages\\ipykernel_launcher.py:7: DataConversionWarning: A column-vector y was passed when a 1d array was expected. Please change the shape of y to (n_samples, ), for example using ravel().\n",
      "  import sys\n"
     ]
    },
    {
     "name": "stdout",
     "output_type": "stream",
     "text": [
      "k: 23, Train/Test Score: 0.256/0.141\n"
     ]
    },
    {
     "name": "stderr",
     "output_type": "stream",
     "text": [
      "C:\\Users\\budchris\\anaconda3\\envs\\PythonAdv\\lib\\site-packages\\ipykernel_launcher.py:7: DataConversionWarning: A column-vector y was passed when a 1d array was expected. Please change the shape of y to (n_samples, ), for example using ravel().\n",
      "  import sys\n"
     ]
    },
    {
     "name": "stdout",
     "output_type": "stream",
     "text": [
      "k: 25, Train/Test Score: 0.251/0.141\n"
     ]
    },
    {
     "name": "stderr",
     "output_type": "stream",
     "text": [
      "C:\\Users\\budchris\\anaconda3\\envs\\PythonAdv\\lib\\site-packages\\ipykernel_launcher.py:7: DataConversionWarning: A column-vector y was passed when a 1d array was expected. Please change the shape of y to (n_samples, ), for example using ravel().\n",
      "  import sys\n"
     ]
    },
    {
     "name": "stdout",
     "output_type": "stream",
     "text": [
      "k: 27, Train/Test Score: 0.242/0.137\n"
     ]
    },
    {
     "name": "stderr",
     "output_type": "stream",
     "text": [
      "C:\\Users\\budchris\\anaconda3\\envs\\PythonAdv\\lib\\site-packages\\ipykernel_launcher.py:7: DataConversionWarning: A column-vector y was passed when a 1d array was expected. Please change the shape of y to (n_samples, ), for example using ravel().\n",
      "  import sys\n"
     ]
    },
    {
     "name": "stdout",
     "output_type": "stream",
     "text": [
      "k: 29, Train/Test Score: 0.240/0.142\n"
     ]
    },
    {
     "name": "stderr",
     "output_type": "stream",
     "text": [
      "C:\\Users\\budchris\\anaconda3\\envs\\PythonAdv\\lib\\site-packages\\ipykernel_launcher.py:7: DataConversionWarning: A column-vector y was passed when a 1d array was expected. Please change the shape of y to (n_samples, ), for example using ravel().\n",
      "  import sys\n"
     ]
    },
    {
     "name": "stdout",
     "output_type": "stream",
     "text": [
      "k: 31, Train/Test Score: 0.237/0.128\n"
     ]
    },
    {
     "name": "stderr",
     "output_type": "stream",
     "text": [
      "C:\\Users\\budchris\\anaconda3\\envs\\PythonAdv\\lib\\site-packages\\ipykernel_launcher.py:7: DataConversionWarning: A column-vector y was passed when a 1d array was expected. Please change the shape of y to (n_samples, ), for example using ravel().\n",
      "  import sys\n"
     ]
    },
    {
     "name": "stdout",
     "output_type": "stream",
     "text": [
      "k: 33, Train/Test Score: 0.236/0.129\n"
     ]
    },
    {
     "name": "stderr",
     "output_type": "stream",
     "text": [
      "C:\\Users\\budchris\\anaconda3\\envs\\PythonAdv\\lib\\site-packages\\ipykernel_launcher.py:7: DataConversionWarning: A column-vector y was passed when a 1d array was expected. Please change the shape of y to (n_samples, ), for example using ravel().\n",
      "  import sys\n"
     ]
    },
    {
     "name": "stdout",
     "output_type": "stream",
     "text": [
      "k: 35, Train/Test Score: 0.229/0.124\n"
     ]
    },
    {
     "name": "stderr",
     "output_type": "stream",
     "text": [
      "C:\\Users\\budchris\\anaconda3\\envs\\PythonAdv\\lib\\site-packages\\ipykernel_launcher.py:7: DataConversionWarning: A column-vector y was passed when a 1d array was expected. Please change the shape of y to (n_samples, ), for example using ravel().\n",
      "  import sys\n"
     ]
    },
    {
     "name": "stdout",
     "output_type": "stream",
     "text": [
      "k: 37, Train/Test Score: 0.233/0.129\n"
     ]
    },
    {
     "name": "stderr",
     "output_type": "stream",
     "text": [
      "C:\\Users\\budchris\\anaconda3\\envs\\PythonAdv\\lib\\site-packages\\ipykernel_launcher.py:7: DataConversionWarning: A column-vector y was passed when a 1d array was expected. Please change the shape of y to (n_samples, ), for example using ravel().\n",
      "  import sys\n"
     ]
    },
    {
     "name": "stdout",
     "output_type": "stream",
     "text": [
      "k: 39, Train/Test Score: 0.224/0.131\n"
     ]
    },
    {
     "name": "stderr",
     "output_type": "stream",
     "text": [
      "C:\\Users\\budchris\\anaconda3\\envs\\PythonAdv\\lib\\site-packages\\ipykernel_launcher.py:7: DataConversionWarning: A column-vector y was passed when a 1d array was expected. Please change the shape of y to (n_samples, ), for example using ravel().\n",
      "  import sys\n"
     ]
    },
    {
     "name": "stdout",
     "output_type": "stream",
     "text": [
      "k: 41, Train/Test Score: 0.223/0.130\n"
     ]
    },
    {
     "name": "stderr",
     "output_type": "stream",
     "text": [
      "C:\\Users\\budchris\\anaconda3\\envs\\PythonAdv\\lib\\site-packages\\ipykernel_launcher.py:7: DataConversionWarning: A column-vector y was passed when a 1d array was expected. Please change the shape of y to (n_samples, ), for example using ravel().\n",
      "  import sys\n"
     ]
    },
    {
     "name": "stdout",
     "output_type": "stream",
     "text": [
      "k: 43, Train/Test Score: 0.218/0.126\n"
     ]
    },
    {
     "name": "stderr",
     "output_type": "stream",
     "text": [
      "C:\\Users\\budchris\\anaconda3\\envs\\PythonAdv\\lib\\site-packages\\ipykernel_launcher.py:7: DataConversionWarning: A column-vector y was passed when a 1d array was expected. Please change the shape of y to (n_samples, ), for example using ravel().\n",
      "  import sys\n"
     ]
    },
    {
     "name": "stdout",
     "output_type": "stream",
     "text": [
      "k: 45, Train/Test Score: 0.221/0.134\n"
     ]
    },
    {
     "name": "stderr",
     "output_type": "stream",
     "text": [
      "C:\\Users\\budchris\\anaconda3\\envs\\PythonAdv\\lib\\site-packages\\ipykernel_launcher.py:7: DataConversionWarning: A column-vector y was passed when a 1d array was expected. Please change the shape of y to (n_samples, ), for example using ravel().\n",
      "  import sys\n"
     ]
    },
    {
     "name": "stdout",
     "output_type": "stream",
     "text": [
      "k: 47, Train/Test Score: 0.219/0.132\n"
     ]
    },
    {
     "name": "stderr",
     "output_type": "stream",
     "text": [
      "C:\\Users\\budchris\\anaconda3\\envs\\PythonAdv\\lib\\site-packages\\ipykernel_launcher.py:7: DataConversionWarning: A column-vector y was passed when a 1d array was expected. Please change the shape of y to (n_samples, ), for example using ravel().\n",
      "  import sys\n"
     ]
    },
    {
     "name": "stdout",
     "output_type": "stream",
     "text": [
      "k: 49, Train/Test Score: 0.216/0.131\n"
     ]
    },
    {
     "name": "stderr",
     "output_type": "stream",
     "text": [
      "C:\\Users\\budchris\\anaconda3\\envs\\PythonAdv\\lib\\site-packages\\ipykernel_launcher.py:7: DataConversionWarning: A column-vector y was passed when a 1d array was expected. Please change the shape of y to (n_samples, ), for example using ravel().\n",
      "  import sys\n"
     ]
    },
    {
     "name": "stdout",
     "output_type": "stream",
     "text": [
      "k: 51, Train/Test Score: 0.212/0.131\n"
     ]
    },
    {
     "name": "stderr",
     "output_type": "stream",
     "text": [
      "C:\\Users\\budchris\\anaconda3\\envs\\PythonAdv\\lib\\site-packages\\ipykernel_launcher.py:7: DataConversionWarning: A column-vector y was passed when a 1d array was expected. Please change the shape of y to (n_samples, ), for example using ravel().\n",
      "  import sys\n"
     ]
    },
    {
     "name": "stdout",
     "output_type": "stream",
     "text": [
      "k: 53, Train/Test Score: 0.211/0.130\n"
     ]
    },
    {
     "name": "stderr",
     "output_type": "stream",
     "text": [
      "C:\\Users\\budchris\\anaconda3\\envs\\PythonAdv\\lib\\site-packages\\ipykernel_launcher.py:7: DataConversionWarning: A column-vector y was passed when a 1d array was expected. Please change the shape of y to (n_samples, ), for example using ravel().\n",
      "  import sys\n"
     ]
    },
    {
     "name": "stdout",
     "output_type": "stream",
     "text": [
      "k: 55, Train/Test Score: 0.210/0.123\n"
     ]
    },
    {
     "name": "stderr",
     "output_type": "stream",
     "text": [
      "C:\\Users\\budchris\\anaconda3\\envs\\PythonAdv\\lib\\site-packages\\ipykernel_launcher.py:7: DataConversionWarning: A column-vector y was passed when a 1d array was expected. Please change the shape of y to (n_samples, ), for example using ravel().\n",
      "  import sys\n"
     ]
    },
    {
     "name": "stdout",
     "output_type": "stream",
     "text": [
      "k: 57, Train/Test Score: 0.213/0.125\n"
     ]
    },
    {
     "name": "stderr",
     "output_type": "stream",
     "text": [
      "C:\\Users\\budchris\\anaconda3\\envs\\PythonAdv\\lib\\site-packages\\ipykernel_launcher.py:7: DataConversionWarning: A column-vector y was passed when a 1d array was expected. Please change the shape of y to (n_samples, ), for example using ravel().\n",
      "  import sys\n"
     ]
    },
    {
     "name": "stdout",
     "output_type": "stream",
     "text": [
      "k: 59, Train/Test Score: 0.211/0.126\n"
     ]
    },
    {
     "data": {
      "image/png": "[encoded data removed]",
      "text/plain": [
       "<Figure size 432x288 with 1 Axes>"
      ]
     },
     "metadata": {
      "needs_background": "light"
     },
     "output_type": "display_data"
    }
   ],
   "source": [
    "\n",
    "# Loop through different k values to see which has the highest accuracy\n",
    "# Note: We only use odd numbers because we don't want any ties\n",
    "train_scores = []\n",
    "test_scores = []\n",
    "for k in range(1, 60, 2):\n",
    "    knn = KNeighborsClassifier(n_neighbors=k)\n",
    "    knn.fit(X_train, y_train)\n",
    "    train_score = knn.score(X_train, y_train)\n",
    "    test_score = knn.score(X_test, y_test)\n",
    "    train_scores.append(train_score)\n",
    "    test_scores.append(test_score)\n",
    "    print(f\"k: {k}, Train/Test Score: {train_score:.3f}/{test_score:.3f}\")\n",
    "    \n",
    "    \n",
    "plt.plot(range(1, 60, 2), train_scores, marker='o')\n",
    "plt.plot(range(1, 60, 2), test_scores, marker=\"x\")\n",
    "plt.xlabel(\"k neighbors\")\n",
    "plt.ylabel(\"Testing accuracy Score\")\n",
    "plt.show()"
   ]
  },
  {
   "cell_type": "code",
   "execution_count": 10,
   "metadata": {},
   "outputs": [
    {
     "name": "stderr",
     "output_type": "stream",
     "text": [
      "C:\\Users\\budchris\\anaconda3\\envs\\PythonAdv\\lib\\site-packages\\ipykernel_launcher.py:2: DataConversionWarning: A column-vector y was passed when a 1d array was expected. Please change the shape of y to (n_samples, ), for example using ravel().\n",
      "  \n"
     ]
    },
    {
     "name": "stdout",
     "output_type": "stream",
     "text": [
      "k=21 Test Acc: 0.134\n"
     ]
    }
   ],
   "source": [
    "knn = KNeighborsClassifier(n_neighbors=21)\n",
    "knn.fit(X_train, y_train)\n",
    "print('k=21 Test Acc: %.3f' % knn.score(X_test, y_test))"
   ]
  },
  {
   "cell_type": "code",
   "execution_count": 11,
   "metadata": {},
   "outputs": [
    {
     "name": "stdout",
     "output_type": "stream",
     "text": [
      "Training Data Score: 0.25389863547758285\n",
      "Testing Data Score: 0.1344046749452155\n"
     ]
    }
   ],
   "source": [
    "print(f\"Training Data Score: {knn.score(X_train, y_train)}\")\n",
    "print(f\"Testing Data Score: {knn.score(X_test, y_test)}\")"
   ]
  },
  {
   "cell_type": "code",
   "execution_count": 12,
   "metadata": {},
   "outputs": [
    {
     "data": {
      "text/plain": [
       "array([115000,  65000, 105000, 105000, 105000, 115000,  55000,  85000,\n",
       "       105000,  55000], dtype=int64)"
      ]
     },
     "execution_count": 12,
     "metadata": {},
     "output_type": "execute_result"
    }
   ],
   "source": [
    "knn.predict(X_test)[:10]"
   ]
  },
  {
   "cell_type": "code",
   "execution_count": 13,
   "metadata": {},
   "outputs": [
    {
     "data": {
      "text/plain": [
       "array([[0.        , 0.        , 0.        , 0.        , 0.        ,\n",
       "        0.        , 0.        , 0.04761905, 0.19047619, 0.        ,\n",
       "        0.14285714, 0.23809524, 0.04761905, 0.0952381 , 0.14285714,\n",
       "        0.0952381 , 0.        , 0.        , 0.        , 0.        ,\n",
       "        0.        , 0.        , 0.        , 0.        , 0.        ],\n",
       "       [0.        , 0.        , 0.04761905, 0.        , 0.04761905,\n",
       "        0.        , 0.28571429, 0.28571429, 0.0952381 , 0.23809524,\n",
       "        0.        , 0.        , 0.        , 0.        , 0.        ,\n",
       "        0.        , 0.        , 0.        , 0.        , 0.        ,\n",
       "        0.        , 0.        , 0.        , 0.        , 0.        ],\n",
       "       [0.        , 0.        , 0.        , 0.        , 0.0952381 ,\n",
       "        0.0952381 , 0.04761905, 0.0952381 , 0.14285714, 0.04761905,\n",
       "        0.19047619, 0.14285714, 0.0952381 , 0.04761905, 0.        ,\n",
       "        0.        , 0.        , 0.        , 0.        , 0.        ,\n",
       "        0.        , 0.        , 0.        , 0.        , 0.        ],\n",
       "       [0.        , 0.        , 0.        , 0.        , 0.        ,\n",
       "        0.        , 0.04761905, 0.        , 0.04761905, 0.14285714,\n",
       "        0.28571429, 0.14285714, 0.14285714, 0.14285714, 0.        ,\n",
       "        0.        , 0.        , 0.        , 0.        , 0.        ,\n",
       "        0.        , 0.        , 0.        , 0.        , 0.04761905],\n",
       "       [0.        , 0.        , 0.        , 0.        , 0.04761905,\n",
       "        0.0952381 , 0.04761905, 0.0952381 , 0.04761905, 0.04761905,\n",
       "        0.23809524, 0.04761905, 0.14285714, 0.04761905, 0.04761905,\n",
       "        0.0952381 , 0.        , 0.        , 0.        , 0.        ,\n",
       "        0.        , 0.        , 0.        , 0.        , 0.        ],\n",
       "       [0.        , 0.        , 0.        , 0.        , 0.04761905,\n",
       "        0.        , 0.04761905, 0.04761905, 0.14285714, 0.14285714,\n",
       "        0.04761905, 0.23809524, 0.04761905, 0.0952381 , 0.04761905,\n",
       "        0.04761905, 0.04761905, 0.        , 0.        , 0.        ,\n",
       "        0.        , 0.        , 0.        , 0.        , 0.        ],\n",
       "       [0.        , 0.        , 0.        , 0.0952381 , 0.0952381 ,\n",
       "        0.28571429, 0.28571429, 0.14285714, 0.0952381 , 0.        ,\n",
       "        0.        , 0.        , 0.        , 0.        , 0.        ,\n",
       "        0.        , 0.        , 0.        , 0.        , 0.        ,\n",
       "        0.        , 0.        , 0.        , 0.        , 0.        ],\n",
       "       [0.        , 0.        , 0.        , 0.        , 0.        ,\n",
       "        0.        , 0.19047619, 0.04761905, 0.23809524, 0.0952381 ,\n",
       "        0.19047619, 0.0952381 , 0.0952381 , 0.        , 0.04761905,\n",
       "        0.        , 0.        , 0.        , 0.        , 0.        ,\n",
       "        0.        , 0.        , 0.        , 0.        , 0.        ],\n",
       "       [0.        , 0.        , 0.        , 0.04761905, 0.04761905,\n",
       "        0.04761905, 0.04761905, 0.0952381 , 0.        , 0.04761905,\n",
       "        0.33333333, 0.0952381 , 0.14285714, 0.04761905, 0.        ,\n",
       "        0.04761905, 0.        , 0.        , 0.        , 0.        ,\n",
       "        0.        , 0.        , 0.        , 0.        , 0.        ],\n",
       "       [0.        , 0.        , 0.        , 0.        , 0.0952381 ,\n",
       "        0.19047619, 0.19047619, 0.        , 0.14285714, 0.14285714,\n",
       "        0.14285714, 0.04761905, 0.04761905, 0.        , 0.        ,\n",
       "        0.        , 0.        , 0.        , 0.        , 0.        ,\n",
       "        0.        , 0.        , 0.        , 0.        , 0.        ]])"
      ]
     },
     "execution_count": 13,
     "metadata": {},
     "output_type": "execute_result"
    }
   ],
   "source": [
    "knn.predict_proba(X_test)[:10]"
   ]
  },
  {
   "cell_type": "code",
   "execution_count": 14,
   "metadata": {},
   "outputs": [],
   "source": [
    "# Scale your data\n",
    "X_scaler = MinMaxScaler().fit(X_train)\n",
    "X_train_scaled = X_scaler.transform(X_train)\n",
    "X_test_scaled = X_scaler.transform(X_test)"
   ]
  },
  {
   "cell_type": "code",
   "execution_count": 15,
   "metadata": {},
   "outputs": [
    {
     "name": "stderr",
     "output_type": "stream",
     "text": [
      "C:\\Users\\budchris\\anaconda3\\envs\\PythonAdv\\lib\\site-packages\\ipykernel_launcher.py:8: DataConversionWarning: A column-vector y was passed when a 1d array was expected. Please change the shape of y to (n_samples, ), for example using ravel().\n",
      "  \n"
     ]
    },
    {
     "name": "stdout",
     "output_type": "stream",
     "text": [
      "k: 1, Train/Test Score: 0.994/0.155\n"
     ]
    },
    {
     "name": "stderr",
     "output_type": "stream",
     "text": [
      "C:\\Users\\budchris\\anaconda3\\envs\\PythonAdv\\lib\\site-packages\\ipykernel_launcher.py:8: DataConversionWarning: A column-vector y was passed when a 1d array was expected. Please change the shape of y to (n_samples, ), for example using ravel().\n",
      "  \n"
     ]
    },
    {
     "name": "stdout",
     "output_type": "stream",
     "text": [
      "k: 3, Train/Test Score: 0.482/0.138\n"
     ]
    },
    {
     "name": "stderr",
     "output_type": "stream",
     "text": [
      "C:\\Users\\budchris\\anaconda3\\envs\\PythonAdv\\lib\\site-packages\\ipykernel_launcher.py:8: DataConversionWarning: A column-vector y was passed when a 1d array was expected. Please change the shape of y to (n_samples, ), for example using ravel().\n",
      "  \n"
     ]
    },
    {
     "name": "stdout",
     "output_type": "stream",
     "text": [
      "k: 5, Train/Test Score: 0.412/0.140\n"
     ]
    },
    {
     "name": "stderr",
     "output_type": "stream",
     "text": [
      "C:\\Users\\budchris\\anaconda3\\envs\\PythonAdv\\lib\\site-packages\\ipykernel_launcher.py:8: DataConversionWarning: A column-vector y was passed when a 1d array was expected. Please change the shape of y to (n_samples, ), for example using ravel().\n",
      "  \n"
     ]
    },
    {
     "name": "stdout",
     "output_type": "stream",
     "text": [
      "k: 7, Train/Test Score: 0.373/0.155\n"
     ]
    },
    {
     "name": "stderr",
     "output_type": "stream",
     "text": [
      "C:\\Users\\budchris\\anaconda3\\envs\\PythonAdv\\lib\\site-packages\\ipykernel_launcher.py:8: DataConversionWarning: A column-vector y was passed when a 1d array was expected. Please change the shape of y to (n_samples, ), for example using ravel().\n",
      "  \n"
     ]
    },
    {
     "name": "stdout",
     "output_type": "stream",
     "text": [
      "k: 9, Train/Test Score: 0.350/0.150\n"
     ]
    },
    {
     "name": "stderr",
     "output_type": "stream",
     "text": [
      "C:\\Users\\budchris\\anaconda3\\envs\\PythonAdv\\lib\\site-packages\\ipykernel_launcher.py:8: DataConversionWarning: A column-vector y was passed when a 1d array was expected. Please change the shape of y to (n_samples, ), for example using ravel().\n",
      "  \n"
     ]
    },
    {
     "name": "stdout",
     "output_type": "stream",
     "text": [
      "k: 11, Train/Test Score: 0.331/0.155\n"
     ]
    },
    {
     "name": "stderr",
     "output_type": "stream",
     "text": [
      "C:\\Users\\budchris\\anaconda3\\envs\\PythonAdv\\lib\\site-packages\\ipykernel_launcher.py:8: DataConversionWarning: A column-vector y was passed when a 1d array was expected. Please change the shape of y to (n_samples, ), for example using ravel().\n",
      "  \n"
     ]
    },
    {
     "name": "stdout",
     "output_type": "stream",
     "text": [
      "k: 13, Train/Test Score: 0.317/0.167\n"
     ]
    },
    {
     "name": "stderr",
     "output_type": "stream",
     "text": [
      "C:\\Users\\budchris\\anaconda3\\envs\\PythonAdv\\lib\\site-packages\\ipykernel_launcher.py:8: DataConversionWarning: A column-vector y was passed when a 1d array was expected. Please change the shape of y to (n_samples, ), for example using ravel().\n",
      "  \n"
     ]
    },
    {
     "name": "stdout",
     "output_type": "stream",
     "text": [
      "k: 15, Train/Test Score: 0.304/0.164\n"
     ]
    },
    {
     "name": "stderr",
     "output_type": "stream",
     "text": [
      "C:\\Users\\budchris\\anaconda3\\envs\\PythonAdv\\lib\\site-packages\\ipykernel_launcher.py:8: DataConversionWarning: A column-vector y was passed when a 1d array was expected. Please change the shape of y to (n_samples, ), for example using ravel().\n",
      "  \n"
     ]
    },
    {
     "name": "stdout",
     "output_type": "stream",
     "text": [
      "k: 17, Train/Test Score: 0.293/0.165\n"
     ]
    },
    {
     "name": "stderr",
     "output_type": "stream",
     "text": [
      "C:\\Users\\budchris\\anaconda3\\envs\\PythonAdv\\lib\\site-packages\\ipykernel_launcher.py:8: DataConversionWarning: A column-vector y was passed when a 1d array was expected. Please change the shape of y to (n_samples, ), for example using ravel().\n",
      "  \n"
     ]
    },
    {
     "name": "stdout",
     "output_type": "stream",
     "text": [
      "k: 19, Train/Test Score: 0.282/0.169\n"
     ]
    },
    {
     "name": "stderr",
     "output_type": "stream",
     "text": [
      "C:\\Users\\budchris\\anaconda3\\envs\\PythonAdv\\lib\\site-packages\\ipykernel_launcher.py:8: DataConversionWarning: A column-vector y was passed when a 1d array was expected. Please change the shape of y to (n_samples, ), for example using ravel().\n",
      "  \n"
     ]
    },
    {
     "name": "stdout",
     "output_type": "stream",
     "text": [
      "k: 21, Train/Test Score: 0.281/0.169\n"
     ]
    },
    {
     "name": "stderr",
     "output_type": "stream",
     "text": [
      "C:\\Users\\budchris\\anaconda3\\envs\\PythonAdv\\lib\\site-packages\\ipykernel_launcher.py:8: DataConversionWarning: A column-vector y was passed when a 1d array was expected. Please change the shape of y to (n_samples, ), for example using ravel().\n",
      "  \n"
     ]
    },
    {
     "name": "stdout",
     "output_type": "stream",
     "text": [
      "k: 23, Train/Test Score: 0.269/0.178\n"
     ]
    },
    {
     "name": "stderr",
     "output_type": "stream",
     "text": [
      "C:\\Users\\budchris\\anaconda3\\envs\\PythonAdv\\lib\\site-packages\\ipykernel_launcher.py:8: DataConversionWarning: A column-vector y was passed when a 1d array was expected. Please change the shape of y to (n_samples, ), for example using ravel().\n",
      "  \n"
     ]
    },
    {
     "name": "stdout",
     "output_type": "stream",
     "text": [
      "k: 25, Train/Test Score: 0.267/0.173\n"
     ]
    },
    {
     "name": "stderr",
     "output_type": "stream",
     "text": [
      "C:\\Users\\budchris\\anaconda3\\envs\\PythonAdv\\lib\\site-packages\\ipykernel_launcher.py:8: DataConversionWarning: A column-vector y was passed when a 1d array was expected. Please change the shape of y to (n_samples, ), for example using ravel().\n",
      "  \n"
     ]
    },
    {
     "name": "stdout",
     "output_type": "stream",
     "text": [
      "k: 27, Train/Test Score: 0.260/0.168\n"
     ]
    },
    {
     "name": "stderr",
     "output_type": "stream",
     "text": [
      "C:\\Users\\budchris\\anaconda3\\envs\\PythonAdv\\lib\\site-packages\\ipykernel_launcher.py:8: DataConversionWarning: A column-vector y was passed when a 1d array was expected. Please change the shape of y to (n_samples, ), for example using ravel().\n",
      "  \n"
     ]
    },
    {
     "name": "stdout",
     "output_type": "stream",
     "text": [
      "k: 29, Train/Test Score: 0.252/0.175\n"
     ]
    },
    {
     "name": "stderr",
     "output_type": "stream",
     "text": [
      "C:\\Users\\budchris\\anaconda3\\envs\\PythonAdv\\lib\\site-packages\\ipykernel_launcher.py:8: DataConversionWarning: A column-vector y was passed when a 1d array was expected. Please change the shape of y to (n_samples, ), for example using ravel().\n",
      "  \n"
     ]
    },
    {
     "name": "stdout",
     "output_type": "stream",
     "text": [
      "k: 31, Train/Test Score: 0.253/0.184\n"
     ]
    },
    {
     "name": "stderr",
     "output_type": "stream",
     "text": [
      "C:\\Users\\budchris\\anaconda3\\envs\\PythonAdv\\lib\\site-packages\\ipykernel_launcher.py:8: DataConversionWarning: A column-vector y was passed when a 1d array was expected. Please change the shape of y to (n_samples, ), for example using ravel().\n",
      "  \n"
     ]
    },
    {
     "name": "stdout",
     "output_type": "stream",
     "text": [
      "k: 33, Train/Test Score: 0.249/0.183\n"
     ]
    },
    {
     "name": "stderr",
     "output_type": "stream",
     "text": [
      "C:\\Users\\budchris\\anaconda3\\envs\\PythonAdv\\lib\\site-packages\\ipykernel_launcher.py:8: DataConversionWarning: A column-vector y was passed when a 1d array was expected. Please change the shape of y to (n_samples, ), for example using ravel().\n",
      "  \n"
     ]
    },
    {
     "name": "stdout",
     "output_type": "stream",
     "text": [
      "k: 35, Train/Test Score: 0.249/0.178\n"
     ]
    },
    {
     "name": "stderr",
     "output_type": "stream",
     "text": [
      "C:\\Users\\budchris\\anaconda3\\envs\\PythonAdv\\lib\\site-packages\\ipykernel_launcher.py:8: DataConversionWarning: A column-vector y was passed when a 1d array was expected. Please change the shape of y to (n_samples, ), for example using ravel().\n",
      "  \n"
     ]
    },
    {
     "name": "stdout",
     "output_type": "stream",
     "text": [
      "k: 37, Train/Test Score: 0.241/0.180\n"
     ]
    },
    {
     "name": "stderr",
     "output_type": "stream",
     "text": [
      "C:\\Users\\budchris\\anaconda3\\envs\\PythonAdv\\lib\\site-packages\\ipykernel_launcher.py:8: DataConversionWarning: A column-vector y was passed when a 1d array was expected. Please change the shape of y to (n_samples, ), for example using ravel().\n",
      "  \n"
     ]
    },
    {
     "name": "stdout",
     "output_type": "stream",
     "text": [
      "k: 39, Train/Test Score: 0.241/0.190\n"
     ]
    },
    {
     "name": "stderr",
     "output_type": "stream",
     "text": [
      "C:\\Users\\budchris\\anaconda3\\envs\\PythonAdv\\lib\\site-packages\\ipykernel_launcher.py:8: DataConversionWarning: A column-vector y was passed when a 1d array was expected. Please change the shape of y to (n_samples, ), for example using ravel().\n",
      "  \n"
     ]
    },
    {
     "name": "stdout",
     "output_type": "stream",
     "text": [
      "k: 41, Train/Test Score: 0.235/0.196\n"
     ]
    },
    {
     "name": "stderr",
     "output_type": "stream",
     "text": [
      "C:\\Users\\budchris\\anaconda3\\envs\\PythonAdv\\lib\\site-packages\\ipykernel_launcher.py:8: DataConversionWarning: A column-vector y was passed when a 1d array was expected. Please change the shape of y to (n_samples, ), for example using ravel().\n",
      "  \n"
     ]
    },
    {
     "name": "stdout",
     "output_type": "stream",
     "text": [
      "k: 43, Train/Test Score: 0.235/0.194\n"
     ]
    },
    {
     "name": "stderr",
     "output_type": "stream",
     "text": [
      "C:\\Users\\budchris\\anaconda3\\envs\\PythonAdv\\lib\\site-packages\\ipykernel_launcher.py:8: DataConversionWarning: A column-vector y was passed when a 1d array was expected. Please change the shape of y to (n_samples, ), for example using ravel().\n",
      "  \n"
     ]
    },
    {
     "name": "stdout",
     "output_type": "stream",
     "text": [
      "k: 45, Train/Test Score: 0.229/0.199\n"
     ]
    },
    {
     "name": "stderr",
     "output_type": "stream",
     "text": [
      "C:\\Users\\budchris\\anaconda3\\envs\\PythonAdv\\lib\\site-packages\\ipykernel_launcher.py:8: DataConversionWarning: A column-vector y was passed when a 1d array was expected. Please change the shape of y to (n_samples, ), for example using ravel().\n",
      "  \n"
     ]
    },
    {
     "name": "stdout",
     "output_type": "stream",
     "text": [
      "k: 47, Train/Test Score: 0.234/0.197\n"
     ]
    },
    {
     "name": "stderr",
     "output_type": "stream",
     "text": [
      "C:\\Users\\budchris\\anaconda3\\envs\\PythonAdv\\lib\\site-packages\\ipykernel_launcher.py:8: DataConversionWarning: A column-vector y was passed when a 1d array was expected. Please change the shape of y to (n_samples, ), for example using ravel().\n",
      "  \n"
     ]
    },
    {
     "name": "stdout",
     "output_type": "stream",
     "text": [
      "k: 49, Train/Test Score: 0.230/0.190\n"
     ]
    },
    {
     "name": "stderr",
     "output_type": "stream",
     "text": [
      "C:\\Users\\budchris\\anaconda3\\envs\\PythonAdv\\lib\\site-packages\\ipykernel_launcher.py:8: DataConversionWarning: A column-vector y was passed when a 1d array was expected. Please change the shape of y to (n_samples, ), for example using ravel().\n",
      "  \n"
     ]
    },
    {
     "name": "stdout",
     "output_type": "stream",
     "text": [
      "k: 51, Train/Test Score: 0.234/0.186\n"
     ]
    },
    {
     "name": "stderr",
     "output_type": "stream",
     "text": [
      "C:\\Users\\budchris\\anaconda3\\envs\\PythonAdv\\lib\\site-packages\\ipykernel_launcher.py:8: DataConversionWarning: A column-vector y was passed when a 1d array was expected. Please change the shape of y to (n_samples, ), for example using ravel().\n",
      "  \n"
     ]
    },
    {
     "name": "stdout",
     "output_type": "stream",
     "text": [
      "k: 53, Train/Test Score: 0.231/0.183\n"
     ]
    },
    {
     "name": "stderr",
     "output_type": "stream",
     "text": [
      "C:\\Users\\budchris\\anaconda3\\envs\\PythonAdv\\lib\\site-packages\\ipykernel_launcher.py:8: DataConversionWarning: A column-vector y was passed when a 1d array was expected. Please change the shape of y to (n_samples, ), for example using ravel().\n",
      "  \n"
     ]
    },
    {
     "name": "stdout",
     "output_type": "stream",
     "text": [
      "k: 55, Train/Test Score: 0.230/0.178\n"
     ]
    },
    {
     "name": "stderr",
     "output_type": "stream",
     "text": [
      "C:\\Users\\budchris\\anaconda3\\envs\\PythonAdv\\lib\\site-packages\\ipykernel_launcher.py:8: DataConversionWarning: A column-vector y was passed when a 1d array was expected. Please change the shape of y to (n_samples, ), for example using ravel().\n",
      "  \n"
     ]
    },
    {
     "name": "stdout",
     "output_type": "stream",
     "text": [
      "k: 57, Train/Test Score: 0.225/0.187\n"
     ]
    },
    {
     "name": "stderr",
     "output_type": "stream",
     "text": [
      "C:\\Users\\budchris\\anaconda3\\envs\\PythonAdv\\lib\\site-packages\\ipykernel_launcher.py:8: DataConversionWarning: A column-vector y was passed when a 1d array was expected. Please change the shape of y to (n_samples, ), for example using ravel().\n",
      "  \n"
     ]
    },
    {
     "name": "stdout",
     "output_type": "stream",
     "text": [
      "k: 59, Train/Test Score: 0.225/0.186\n"
     ]
    },
    {
     "data": {
      "image/png": "[encoded data removed]",
      "text/plain": [
       "<Figure size 432x288 with 1 Axes>"
      ]
     },
     "metadata": {
      "needs_background": "light"
     },
     "output_type": "display_data"
    }
   ],
   "source": [
    "\n",
    "# Create the KNN Model\n",
    "# Loop through different k values to see which has the highest accuracy\n",
    "# Note: We only use odd numbers because we don't want any ties\n",
    "train_scores = []\n",
    "test_scores = []\n",
    "for k in range(1, 60, 2):\n",
    "    knn = KNeighborsClassifier(n_neighbors=k)\n",
    "    knn.fit(X_train_scaled, y_train)\n",
    "    train_score = knn.score(X_train_scaled, y_train)\n",
    "    test_score = knn.score(X_test_scaled, y_test)\n",
    "    train_scores.append(train_score)\n",
    "    test_scores.append(test_score)\n",
    "    print(f\"k: {k}, Train/Test Score: {train_score:.3f}/{test_score:.3f}\")\n",
    "    \n",
    "    \n",
    "plt.plot(range(1, 60, 2), train_scores, marker='o')\n",
    "plt.plot(range(1, 60, 2), test_scores, marker=\"x\")\n",
    "plt.xlabel(\"k neighbors\")\n",
    "plt.ylabel(\"Testing accuracy Score\")\n",
    "plt.show()"
   ]
  },
  {
   "cell_type": "code",
   "execution_count": 16,
   "metadata": {},
   "outputs": [
    {
     "name": "stdout",
     "output_type": "stream",
     "text": [
      "Training Data Score: 0.22538986354775828\n",
      "Testing Data Score: 0.18553688823959094\n"
     ]
    }
   ],
   "source": [
    "print(f\"Training Data Score: {knn.score(X_train_scaled, y_train)}\")\n",
    "print(f\"Testing Data Score: {knn.score(X_test_scaled, y_test)}\")"
   ]
  },
  {
   "cell_type": "code",
   "execution_count": 17,
   "metadata": {},
   "outputs": [
    {
     "data": {
      "text/plain": [
       "array([ 95000,  85000,  75000,  45000, 105000, 105000,  65000,  95000,\n",
       "       105000,  35000], dtype=int64)"
      ]
     },
     "execution_count": 17,
     "metadata": {},
     "output_type": "execute_result"
    }
   ],
   "source": [
    "knn.predict(X_test_scaled)[:10]"
   ]
  },
  {
   "cell_type": "code",
   "execution_count": 18,
   "metadata": {},
   "outputs": [
    {
     "data": {
      "text/plain": [
       "array([[0.03389831, 0.        , 0.        , 0.        , 0.01694915,\n",
       "        0.        , 0.03389831, 0.03389831, 0.13559322, 0.05084746,\n",
       "        0.10169492, 0.13559322, 0.13559322, 0.16949153, 0.05084746,\n",
       "        0.        , 0.03389831, 0.        , 0.03389831, 0.01694915,\n",
       "        0.01694915, 0.        , 0.        , 0.        , 0.        ],\n",
       "       [0.05084746, 0.        , 0.        , 0.01694915, 0.01694915,\n",
       "        0.        , 0.05084746, 0.06779661, 0.11864407, 0.08474576,\n",
       "        0.06779661, 0.08474576, 0.10169492, 0.08474576, 0.06779661,\n",
       "        0.06779661, 0.03389831, 0.01694915, 0.01694915, 0.03389831,\n",
       "        0.        , 0.        , 0.01694915, 0.        , 0.        ],\n",
       "       [0.05084746, 0.        , 0.        , 0.03389831, 0.01694915,\n",
       "        0.        , 0.06779661, 0.06779661, 0.11864407, 0.05084746,\n",
       "        0.13559322, 0.11864407, 0.06779661, 0.11864407, 0.03389831,\n",
       "        0.03389831, 0.01694915, 0.        , 0.01694915, 0.03389831,\n",
       "        0.01694915, 0.        , 0.        , 0.        , 0.        ],\n",
       "       [0.01694915, 0.        , 0.01694915, 0.01694915, 0.01694915,\n",
       "        0.        , 0.08474576, 0.05084746, 0.06779661, 0.05084746,\n",
       "        0.11864407, 0.05084746, 0.10169492, 0.13559322, 0.03389831,\n",
       "        0.06779661, 0.01694915, 0.01694915, 0.03389831, 0.03389831,\n",
       "        0.03389831, 0.        , 0.        , 0.        , 0.03389831],\n",
       "       [0.01694915, 0.        , 0.01694915, 0.        , 0.01694915,\n",
       "        0.        , 0.03389831, 0.05084746, 0.10169492, 0.05084746,\n",
       "        0.11864407, 0.10169492, 0.11864407, 0.15254237, 0.05084746,\n",
       "        0.06779661, 0.01694915, 0.        , 0.01694915, 0.03389831,\n",
       "        0.01694915, 0.        , 0.        , 0.        , 0.01694915],\n",
       "       [0.01694915, 0.        , 0.01694915, 0.        , 0.01694915,\n",
       "        0.        , 0.05084746, 0.06779661, 0.13559322, 0.06779661,\n",
       "        0.13559322, 0.10169492, 0.08474576, 0.15254237, 0.03389831,\n",
       "        0.01694915, 0.03389831, 0.01694915, 0.01694915, 0.01694915,\n",
       "        0.01694915, 0.        , 0.        , 0.        , 0.        ],\n",
       "       [0.05084746, 0.        , 0.        , 0.01694915, 0.03389831,\n",
       "        0.01694915, 0.05084746, 0.06779661, 0.16949153, 0.13559322,\n",
       "        0.03389831, 0.10169492, 0.03389831, 0.08474576, 0.06779661,\n",
       "        0.03389831, 0.03389831, 0.        , 0.01694915, 0.03389831,\n",
       "        0.        , 0.        , 0.01694915, 0.        , 0.        ],\n",
       "       [0.05084746, 0.        , 0.        , 0.03389831, 0.01694915,\n",
       "        0.        , 0.05084746, 0.05084746, 0.11864407, 0.11864407,\n",
       "        0.05084746, 0.11864407, 0.05084746, 0.10169492, 0.01694915,\n",
       "        0.05084746, 0.05084746, 0.01694915, 0.01694915, 0.03389831,\n",
       "        0.01694915, 0.01694915, 0.01694915, 0.        , 0.        ],\n",
       "       [0.05084746, 0.        , 0.        , 0.01694915, 0.01694915,\n",
       "        0.        , 0.06779661, 0.08474576, 0.11864407, 0.08474576,\n",
       "        0.06779661, 0.11864407, 0.10169492, 0.10169492, 0.03389831,\n",
       "        0.03389831, 0.01694915, 0.        , 0.01694915, 0.05084746,\n",
       "        0.        , 0.01694915, 0.        , 0.        , 0.        ],\n",
       "       [0.05084746, 0.        , 0.        , 0.01694915, 0.01694915,\n",
       "        0.        , 0.06779661, 0.03389831, 0.13559322, 0.11864407,\n",
       "        0.06779661, 0.10169492, 0.11864407, 0.08474576, 0.05084746,\n",
       "        0.03389831, 0.01694915, 0.01694915, 0.01694915, 0.01694915,\n",
       "        0.        , 0.        , 0.01694915, 0.        , 0.01694915]])"
      ]
     },
     "execution_count": 18,
     "metadata": {},
     "output_type": "execute_result"
    }
   ],
   "source": [
    "knn.predict_proba(X_test)[:10]"
   ]
  },
  {
   "cell_type": "code",
   "execution_count": 19,
   "metadata": {},
   "outputs": [
    {
     "name": "stdout",
     "output_type": "stream",
     "text": [
      "[1, 3, 5, 7, 9, 11, 13, 15, 17, 19, 21, 23, 25, 27, 29, 31, 33, 35, 37, 39, 41, 43, 45, 47, 49, 51, 53, 55, 57, 59]\n"
     ]
    }
   ],
   "source": [
    "k_range = list(range(1, 60, 2))\n",
    "print(k_range)"
   ]
  },
  {
   "cell_type": "code",
   "execution_count": 20,
   "metadata": {},
   "outputs": [
    {
     "name": "stdout",
     "output_type": "stream",
     "text": [
      "{'n_neighbors': [1, 3, 5, 7, 9, 11, 13, 15, 17, 19, 21, 23, 25, 27, 29, 31, 33, 35, 37, 39, 41, 43, 45, 47, 49, 51, 53, 55, 57, 59], 'weights': ['uniform', 'distance'], 'metric': ['euclidean', 'manhattan']}\n"
     ]
    }
   ],
   "source": [
    "\n",
    "param_grid = dict(n_neighbors=k_range, weights = ['uniform', 'distance'], metric =['euclidean','manhattan'] )\n",
    "print(param_grid)"
   ]
  },
  {
   "cell_type": "code",
   "execution_count": 21,
   "metadata": {},
   "outputs": [],
   "source": [
    "# Create the GridSearchCV model\n",
    "from sklearn.model_selection import GridSearchCV\n",
    "grid = GridSearchCV(knn, param_grid, verbose =1, cv = 10, n_jobs = -1)"
   ]
  },
  {
   "cell_type": "code",
   "execution_count": 22,
   "metadata": {},
   "outputs": [
    {
     "name": "stdout",
     "output_type": "stream",
     "text": [
      "Fitting 10 folds for each of 120 candidates, totalling 1200 fits\n"
     ]
    },
    {
     "name": "stderr",
     "output_type": "stream",
     "text": [
      "C:\\Users\\budchris\\anaconda3\\envs\\PythonAdv\\lib\\site-packages\\sklearn\\model_selection\\_split.py:672: UserWarning: The least populated class in y has only 3 members, which is less than n_splits=10.\n",
      "  % (min_groups, self.n_splits)), UserWarning)\n",
      "[Parallel(n_jobs=-1)]: Using backend LokyBackend with 4 concurrent workers.\n",
      "[Parallel(n_jobs=-1)]: Done  42 tasks      | elapsed:    7.2s\n",
      "[Parallel(n_jobs=-1)]: Done 192 tasks      | elapsed:   20.9s\n",
      "[Parallel(n_jobs=-1)]: Done 442 tasks      | elapsed:   44.7s\n",
      "[Parallel(n_jobs=-1)]: Done 792 tasks      | elapsed:  1.3min\n",
      "[Parallel(n_jobs=-1)]: Done 1200 out of 1200 | elapsed:  2.2min finished\n",
      "C:\\Users\\budchris\\anaconda3\\envs\\PythonAdv\\lib\\site-packages\\sklearn\\model_selection\\_search.py:765: DataConversionWarning: A column-vector y was passed when a 1d array was expected. Please change the shape of y to (n_samples, ), for example using ravel().\n",
      "  self.best_estimator_.fit(X, y, **fit_params)\n"
     ]
    },
    {
     "data": {
      "text/plain": [
       "GridSearchCV(cv=10, estimator=KNeighborsClassifier(n_neighbors=59), n_jobs=-1,\n",
       "             param_grid={'metric': ['euclidean', 'manhattan'],\n",
       "                         'n_neighbors': [1, 3, 5, 7, 9, 11, 13, 15, 17, 19, 21,\n",
       "                                         23, 25, 27, 29, 31, 33, 35, 37, 39, 41,\n",
       "                                         43, 45, 47, 49, 51, 53, 55, 57, 59],\n",
       "                         'weights': ['uniform', 'distance']},\n",
       "             verbose=1)"
      ]
     },
     "execution_count": 22,
     "metadata": {},
     "output_type": "execute_result"
    }
   ],
   "source": [
    "# Train the model with GridSearch\n",
    "grid.fit(X_train_scaled, y_train)"
   ]
  },
  {
   "cell_type": "code",
   "execution_count": 23,
   "metadata": {},
   "outputs": [
    {
     "name": "stdout",
     "output_type": "stream",
     "text": [
      "{'metric': 'manhattan', 'n_neighbors': 53, 'weights': 'distance'}\n",
      "0.18616877336656576\n",
      "KNeighborsClassifier(metric='manhattan', n_neighbors=53, weights='distance')\n"
     ]
    }
   ],
   "source": [
    "\n",
    "print(grid.best_params_)\n",
    "print(grid.best_score_)\n",
    "print(grid.best_estimator_)"
   ]
  },
  {
   "cell_type": "code",
   "execution_count": 24,
   "metadata": {},
   "outputs": [
    {
     "name": "stdout",
     "output_type": "stream",
     "text": [
      "Training Grid Score: 0.9946393762183235\n",
      "Testing Grid Score: 0.17969320672023376\n"
     ]
    }
   ],
   "source": [
    "print(f\"Training Grid Score: {grid.score(X_train_scaled, y_train)}\")\n",
    "print(f\"Testing Grid Score: {grid.score(X_test_scaled, y_test)}\")"
   ]
  },
  {
   "cell_type": "code",
   "execution_count": 25,
   "metadata": {},
   "outputs": [],
   "source": [
    "# Make predictions with the hypertuned model\n",
    "predictions = grid.predict(X_test_scaled)"
   ]
  },
  {
   "cell_type": "code",
   "execution_count": 26,
   "metadata": {},
   "outputs": [
    {
     "name": "stdout",
     "output_type": "stream",
     "text": [
      "              precision    recall  f1-score   support\n",
      "\n",
      "        5000       0.33      0.07      0.12        14\n",
      "       15000       0.43      0.36      0.39        28\n",
      "       25000       0.17      0.06      0.09        32\n",
      "       35000       0.10      0.04      0.06        48\n",
      "       45000       0.17      0.11      0.13        66\n",
      "       55000       0.12      0.09      0.10        90\n",
      "       65000       0.21      0.33      0.26       139\n",
      "       75000       0.21      0.19      0.20       130\n",
      "       85000       0.16      0.22      0.19       148\n",
      "       95000       0.17      0.23      0.20       156\n",
      "      105000       0.19      0.28      0.22       145\n",
      "      115000       0.17      0.18      0.17       119\n",
      "      125000       0.10      0.08      0.09        92\n",
      "      135000       0.23      0.11      0.15        63\n",
      "      145000       0.00      0.00      0.00        36\n",
      "      155000       0.33      0.04      0.07        25\n",
      "      165000       0.00      0.00      0.00        14\n",
      "      175000       0.00      0.00      0.00         9\n",
      "      185000       0.50      0.33      0.40         3\n",
      "      195000       0.00      0.00      0.00         7\n",
      "      205000       0.00      0.00      0.00         1\n",
      "      215000       0.00      0.00      0.00         1\n",
      "      225000       0.00      0.00      0.00         1\n",
      "      235000       0.00      0.00      0.00         1\n",
      "      245000       0.00      0.00      0.00         1\n",
      "\n",
      "    accuracy                           0.18      1369\n",
      "   macro avg       0.14      0.11      0.11      1369\n",
      "weighted avg       0.17      0.18      0.17      1369\n",
      "\n"
     ]
    },
    {
     "name": "stderr",
     "output_type": "stream",
     "text": [
      "C:\\Users\\budchris\\anaconda3\\envs\\PythonAdv\\lib\\site-packages\\sklearn\\metrics\\_classification.py:1221: UndefinedMetricWarning: Precision and F-score are ill-defined and being set to 0.0 in labels with no predicted samples. Use `zero_division` parameter to control this behavior.\n",
      "  _warn_prf(average, modifier, msg_start, len(result))\n"
     ]
    }
   ],
   "source": [
    "# Calculate classification report\n",
    "from sklearn.metrics import classification_report\n",
    "print(classification_report(y_test, predictions))"
   ]
  },
  {
   "cell_type": "code",
   "execution_count": null,
   "metadata": {},
   "outputs": [],
   "source": []
  }
 ],
 "metadata": {
  "kernelspec": {
   "display_name": "Python 3",
   "language": "python",
   "name": "python3"
  },
  "language_info": {
   "codemirror_mode": {
    "name": "ipython",
    "version": 3
   },
   "file_extension": ".py",
   "mimetype": "text/x-python",
   "name": "python",
   "nbconvert_exporter": "python",
   "pygments_lexer": "ipython3",
   "version": "3.6.10"
  }
 },
 "nbformat": 4,
 "nbformat_minor": 4
}
