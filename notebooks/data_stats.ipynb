{
 "cells": [
  {
   "cell_type": "markdown",
   "metadata": {},
   "source": [
    "## Basic Stats for Visualizations with Dataset2 "
   ]
  },
  {
   "cell_type": "code",
   "execution_count": 1,
   "metadata": {},
   "outputs": [],
   "source": [
    "# import dependencies\n",
    "import pandas as pd\n",
    "import numpy as np"
   ]
  },
  {
   "cell_type": "code",
   "execution_count": 2,
   "metadata": {},
   "outputs": [
    {
     "data": {
      "text/html": [
       "<div>\n",
       "<style scoped>\n",
       "    .dataframe tbody tr th:only-of-type {\n",
       "        vertical-align: middle;\n",
       "    }\n",
       "\n",
       "    .dataframe tbody tr th {\n",
       "        vertical-align: top;\n",
       "    }\n",
       "\n",
       "    .dataframe thead th {\n",
       "        text-align: right;\n",
       "    }\n",
       "</style>\n",
       "<table border=\"1\" class=\"dataframe\">\n",
       "  <thead>\n",
       "    <tr style=\"text-align: right;\">\n",
       "      <th></th>\n",
       "      <th>Unnamed: 0</th>\n",
       "      <th>age</th>\n",
       "      <th>gender</th>\n",
       "      <th>country</th>\n",
       "      <th>education</th>\n",
       "      <th>title</th>\n",
       "      <th>size</th>\n",
       "      <th>data_prof_size</th>\n",
       "      <th>mach_learn_presence</th>\n",
       "      <th>salary</th>\n",
       "      <th>...</th>\n",
       "      <th>sql_lite</th>\n",
       "      <th>sqlserver</th>\n",
       "      <th>oracle</th>\n",
       "      <th>micro_acess</th>\n",
       "      <th>aws_data</th>\n",
       "      <th>aws_dynamo</th>\n",
       "      <th>azure_sql</th>\n",
       "      <th>google_sql</th>\n",
       "      <th>database_none</th>\n",
       "      <th>database_other</th>\n",
       "    </tr>\n",
       "  </thead>\n",
       "  <tbody>\n",
       "    <tr>\n",
       "      <th>0</th>\n",
       "      <td>0</td>\n",
       "      <td>23.0</td>\n",
       "      <td>Male</td>\n",
       "      <td>France</td>\n",
       "      <td>Master’s degree</td>\n",
       "      <td>Software Engineer</td>\n",
       "      <td>medium</td>\n",
       "      <td>0</td>\n",
       "      <td>I do not know</td>\n",
       "      <td>34999.5</td>\n",
       "      <td>...</td>\n",
       "      <td>0</td>\n",
       "      <td>0</td>\n",
       "      <td>0</td>\n",
       "      <td>0</td>\n",
       "      <td>0</td>\n",
       "      <td>0</td>\n",
       "      <td>0</td>\n",
       "      <td>0</td>\n",
       "      <td>0</td>\n",
       "      <td>0</td>\n",
       "    </tr>\n",
       "    <tr>\n",
       "      <th>1</th>\n",
       "      <td>1</td>\n",
       "      <td>42.0</td>\n",
       "      <td>Male</td>\n",
       "      <td>India</td>\n",
       "      <td>Professional degree</td>\n",
       "      <td>Software Engineer</td>\n",
       "      <td>large</td>\n",
       "      <td>20+</td>\n",
       "      <td>We have well established ML methods (i.e., mod...</td>\n",
       "      <td>6249.5</td>\n",
       "      <td>...</td>\n",
       "      <td>0</td>\n",
       "      <td>0</td>\n",
       "      <td>0</td>\n",
       "      <td>0</td>\n",
       "      <td>0</td>\n",
       "      <td>0</td>\n",
       "      <td>0</td>\n",
       "      <td>0</td>\n",
       "      <td>0</td>\n",
       "      <td>0</td>\n",
       "    </tr>\n",
       "    <tr>\n",
       "      <th>2</th>\n",
       "      <td>2</td>\n",
       "      <td>42.0</td>\n",
       "      <td>Male</td>\n",
       "      <td>Australia</td>\n",
       "      <td>Master’s degree</td>\n",
       "      <td>Other</td>\n",
       "      <td>large</td>\n",
       "      <td>20+</td>\n",
       "      <td>I do not know</td>\n",
       "      <td>274999.5</td>\n",
       "      <td>...</td>\n",
       "      <td>0</td>\n",
       "      <td>0</td>\n",
       "      <td>0</td>\n",
       "      <td>0</td>\n",
       "      <td>0</td>\n",
       "      <td>0</td>\n",
       "      <td>1</td>\n",
       "      <td>0</td>\n",
       "      <td>0</td>\n",
       "      <td>0</td>\n",
       "    </tr>\n",
       "    <tr>\n",
       "      <th>3</th>\n",
       "      <td>3</td>\n",
       "      <td>23.0</td>\n",
       "      <td>Male</td>\n",
       "      <td>India</td>\n",
       "      <td>Bachelor’s degree</td>\n",
       "      <td>Other</td>\n",
       "      <td>small</td>\n",
       "      <td>0</td>\n",
       "      <td>No (we do not use ML methods)</td>\n",
       "      <td>4499.5</td>\n",
       "      <td>...</td>\n",
       "      <td>0</td>\n",
       "      <td>0</td>\n",
       "      <td>0</td>\n",
       "      <td>0</td>\n",
       "      <td>0</td>\n",
       "      <td>0</td>\n",
       "      <td>0</td>\n",
       "      <td>0</td>\n",
       "      <td>0</td>\n",
       "      <td>0</td>\n",
       "    </tr>\n",
       "    <tr>\n",
       "      <th>4</th>\n",
       "      <td>4</td>\n",
       "      <td>52.0</td>\n",
       "      <td>Male</td>\n",
       "      <td>France</td>\n",
       "      <td>Master’s degree</td>\n",
       "      <td>Data Scientist</td>\n",
       "      <td>small</td>\n",
       "      <td>4-Mar</td>\n",
       "      <td>We have well established ML methods (i.e., mod...</td>\n",
       "      <td>64999.5</td>\n",
       "      <td>...</td>\n",
       "      <td>0</td>\n",
       "      <td>0</td>\n",
       "      <td>0</td>\n",
       "      <td>0</td>\n",
       "      <td>1</td>\n",
       "      <td>0</td>\n",
       "      <td>0</td>\n",
       "      <td>0</td>\n",
       "      <td>0</td>\n",
       "      <td>0</td>\n",
       "    </tr>\n",
       "  </tbody>\n",
       "</table>\n",
       "<p>5 rows × 110 columns</p>\n",
       "</div>"
      ],
      "text/plain": [
       "   Unnamed: 0   age gender    country            education              title  \\\n",
       "0           0  23.0   Male     France      Master’s degree  Software Engineer   \n",
       "1           1  42.0   Male      India  Professional degree  Software Engineer   \n",
       "2           2  42.0   Male  Australia      Master’s degree              Other   \n",
       "3           3  23.0   Male      India    Bachelor’s degree              Other   \n",
       "4           4  52.0   Male     France      Master’s degree     Data Scientist   \n",
       "\n",
       "     size data_prof_size                                mach_learn_presence  \\\n",
       "0  medium              0                                      I do not know   \n",
       "1   large            20+  We have well established ML methods (i.e., mod...   \n",
       "2   large            20+                                      I do not know   \n",
       "3   small              0                      No (we do not use ML methods)   \n",
       "4   small          4-Mar  We have well established ML methods (i.e., mod...   \n",
       "\n",
       "     salary  ...  sql_lite  sqlserver  oracle  micro_acess  aws_data  \\\n",
       "0   34999.5  ...         0          0       0            0         0   \n",
       "1    6249.5  ...         0          0       0            0         0   \n",
       "2  274999.5  ...         0          0       0            0         0   \n",
       "3    4499.5  ...         0          0       0            0         0   \n",
       "4   64999.5  ...         0          0       0            0         1   \n",
       "\n",
       "   aws_dynamo  azure_sql  google_sql  database_none  database_other  \n",
       "0           0          0           0              0               0  \n",
       "1           0          0           0              0               0  \n",
       "2           0          1           0              0               0  \n",
       "3           0          0           0              0               0  \n",
       "4           0          0           0              0               0  \n",
       "\n",
       "[5 rows x 110 columns]"
      ]
     },
     "execution_count": 2,
     "metadata": {},
     "output_type": "execute_result"
    }
   ],
   "source": [
    "# import clean csv to df\n",
    "salary_df2 = pd.read_csv(\"salary_data2.csv\")\n",
    "salary_df2.head()"
   ]
  },
  {
   "cell_type": "code",
   "execution_count": 3,
   "metadata": {},
   "outputs": [
    {
     "data": {
      "text/html": [
       "<div>\n",
       "<style scoped>\n",
       "    .dataframe tbody tr th:only-of-type {\n",
       "        vertical-align: middle;\n",
       "    }\n",
       "\n",
       "    .dataframe tbody tr th {\n",
       "        vertical-align: top;\n",
       "    }\n",
       "\n",
       "    .dataframe thead th {\n",
       "        text-align: right;\n",
       "    }\n",
       "</style>\n",
       "<table border=\"1\" class=\"dataframe\">\n",
       "  <thead>\n",
       "    <tr style=\"text-align: right;\">\n",
       "      <th></th>\n",
       "      <th>country</th>\n",
       "      <th>region</th>\n",
       "    </tr>\n",
       "  </thead>\n",
       "  <tbody>\n",
       "    <tr>\n",
       "      <th>0</th>\n",
       "      <td>Canada</td>\n",
       "      <td>North America</td>\n",
       "    </tr>\n",
       "    <tr>\n",
       "      <th>1</th>\n",
       "      <td>Russia</td>\n",
       "      <td>Eastern Europe</td>\n",
       "    </tr>\n",
       "    <tr>\n",
       "      <th>2</th>\n",
       "      <td>Indonesia</td>\n",
       "      <td>Asia</td>\n",
       "    </tr>\n",
       "    <tr>\n",
       "      <th>3</th>\n",
       "      <td>Argentina</td>\n",
       "      <td>Latin America</td>\n",
       "    </tr>\n",
       "    <tr>\n",
       "      <th>4</th>\n",
       "      <td>Colombia</td>\n",
       "      <td>Latin America</td>\n",
       "    </tr>\n",
       "  </tbody>\n",
       "</table>\n",
       "</div>"
      ],
      "text/plain": [
       "     country          region\n",
       "0     Canada   North America\n",
       "1     Russia  Eastern Europe\n",
       "2  Indonesia            Asia\n",
       "3  Argentina   Latin America\n",
       "4   Colombia   Latin America"
      ]
     },
     "execution_count": 3,
     "metadata": {},
     "output_type": "execute_result"
    }
   ],
   "source": [
    "# load region data\n",
    "country_to_region_df = pd.read_csv(\"country_to_region.csv\")\n",
    "country_to_region_df= country_to_region_df.set_axis([\"country\", \"region\"], \n",
    "                                axis='columns', inplace=False)\n",
    "country_to_region_df.head()"
   ]
  },
  {
   "cell_type": "markdown",
   "metadata": {},
   "source": [
    "### Merged dataset with the countries region"
   ]
  },
  {
   "cell_type": "code",
   "execution_count": 4,
   "metadata": {},
   "outputs": [
    {
     "data": {
      "text/html": [
       "<div>\n",
       "<style scoped>\n",
       "    .dataframe tbody tr th:only-of-type {\n",
       "        vertical-align: middle;\n",
       "    }\n",
       "\n",
       "    .dataframe tbody tr th {\n",
       "        vertical-align: top;\n",
       "    }\n",
       "\n",
       "    .dataframe thead th {\n",
       "        text-align: right;\n",
       "    }\n",
       "</style>\n",
       "<table border=\"1\" class=\"dataframe\">\n",
       "  <thead>\n",
       "    <tr style=\"text-align: right;\">\n",
       "      <th></th>\n",
       "      <th>Unnamed: 0</th>\n",
       "      <th>age</th>\n",
       "      <th>gender</th>\n",
       "      <th>country</th>\n",
       "      <th>education</th>\n",
       "      <th>title</th>\n",
       "      <th>size</th>\n",
       "      <th>data_prof_size</th>\n",
       "      <th>mach_learn_presence</th>\n",
       "      <th>salary</th>\n",
       "      <th>...</th>\n",
       "      <th>sqlserver</th>\n",
       "      <th>oracle</th>\n",
       "      <th>micro_acess</th>\n",
       "      <th>aws_data</th>\n",
       "      <th>aws_dynamo</th>\n",
       "      <th>azure_sql</th>\n",
       "      <th>google_sql</th>\n",
       "      <th>database_none</th>\n",
       "      <th>database_other</th>\n",
       "      <th>region</th>\n",
       "    </tr>\n",
       "  </thead>\n",
       "  <tbody>\n",
       "    <tr>\n",
       "      <th>0</th>\n",
       "      <td>0</td>\n",
       "      <td>23.0</td>\n",
       "      <td>Male</td>\n",
       "      <td>France</td>\n",
       "      <td>Master’s degree</td>\n",
       "      <td>Software Engineer</td>\n",
       "      <td>medium</td>\n",
       "      <td>0</td>\n",
       "      <td>I do not know</td>\n",
       "      <td>34999.5</td>\n",
       "      <td>...</td>\n",
       "      <td>0</td>\n",
       "      <td>0</td>\n",
       "      <td>0</td>\n",
       "      <td>0</td>\n",
       "      <td>0</td>\n",
       "      <td>0</td>\n",
       "      <td>0</td>\n",
       "      <td>0</td>\n",
       "      <td>0</td>\n",
       "      <td>Western Europe</td>\n",
       "    </tr>\n",
       "    <tr>\n",
       "      <th>1</th>\n",
       "      <td>4</td>\n",
       "      <td>52.0</td>\n",
       "      <td>Male</td>\n",
       "      <td>France</td>\n",
       "      <td>Master’s degree</td>\n",
       "      <td>Data Scientist</td>\n",
       "      <td>small</td>\n",
       "      <td>4-Mar</td>\n",
       "      <td>We have well established ML methods (i.e., mod...</td>\n",
       "      <td>64999.5</td>\n",
       "      <td>...</td>\n",
       "      <td>0</td>\n",
       "      <td>0</td>\n",
       "      <td>0</td>\n",
       "      <td>1</td>\n",
       "      <td>0</td>\n",
       "      <td>0</td>\n",
       "      <td>0</td>\n",
       "      <td>0</td>\n",
       "      <td>0</td>\n",
       "      <td>Western Europe</td>\n",
       "    </tr>\n",
       "    <tr>\n",
       "      <th>2</th>\n",
       "      <td>13</td>\n",
       "      <td>37.0</td>\n",
       "      <td>Male</td>\n",
       "      <td>France</td>\n",
       "      <td>Master’s degree</td>\n",
       "      <td>Product/Project Manager</td>\n",
       "      <td>large</td>\n",
       "      <td>20+</td>\n",
       "      <td>We recently started using ML methods (i.e., mo...</td>\n",
       "      <td>499.5</td>\n",
       "      <td>...</td>\n",
       "      <td>0</td>\n",
       "      <td>1</td>\n",
       "      <td>0</td>\n",
       "      <td>0</td>\n",
       "      <td>0</td>\n",
       "      <td>1</td>\n",
       "      <td>0</td>\n",
       "      <td>0</td>\n",
       "      <td>0</td>\n",
       "      <td>Western Europe</td>\n",
       "    </tr>\n",
       "    <tr>\n",
       "      <th>3</th>\n",
       "      <td>14</td>\n",
       "      <td>27.0</td>\n",
       "      <td>Male</td>\n",
       "      <td>France</td>\n",
       "      <td>Doctoral degree</td>\n",
       "      <td>Research Scientist</td>\n",
       "      <td>small</td>\n",
       "      <td>4-Mar</td>\n",
       "      <td>We have well established ML methods (i.e., mod...</td>\n",
       "      <td>44999.5</td>\n",
       "      <td>...</td>\n",
       "      <td>0</td>\n",
       "      <td>0</td>\n",
       "      <td>0</td>\n",
       "      <td>0</td>\n",
       "      <td>0</td>\n",
       "      <td>0</td>\n",
       "      <td>0</td>\n",
       "      <td>0</td>\n",
       "      <td>0</td>\n",
       "      <td>Western Europe</td>\n",
       "    </tr>\n",
       "    <tr>\n",
       "      <th>4</th>\n",
       "      <td>32</td>\n",
       "      <td>37.0</td>\n",
       "      <td>Male</td>\n",
       "      <td>France</td>\n",
       "      <td>Master’s degree</td>\n",
       "      <td>Data Engineer</td>\n",
       "      <td>large</td>\n",
       "      <td>4-Mar</td>\n",
       "      <td>We recently started using ML methods (i.e., mo...</td>\n",
       "      <td>44999.5</td>\n",
       "      <td>...</td>\n",
       "      <td>0</td>\n",
       "      <td>0</td>\n",
       "      <td>0</td>\n",
       "      <td>0</td>\n",
       "      <td>0</td>\n",
       "      <td>0</td>\n",
       "      <td>0</td>\n",
       "      <td>0</td>\n",
       "      <td>0</td>\n",
       "      <td>Western Europe</td>\n",
       "    </tr>\n",
       "  </tbody>\n",
       "</table>\n",
       "<p>5 rows × 111 columns</p>\n",
       "</div>"
      ],
      "text/plain": [
       "   Unnamed: 0   age gender country        education                    title  \\\n",
       "0           0  23.0   Male  France  Master’s degree        Software Engineer   \n",
       "1           4  52.0   Male  France  Master’s degree           Data Scientist   \n",
       "2          13  37.0   Male  France  Master’s degree  Product/Project Manager   \n",
       "3          14  27.0   Male  France  Doctoral degree       Research Scientist   \n",
       "4          32  37.0   Male  France  Master’s degree            Data Engineer   \n",
       "\n",
       "     size data_prof_size                                mach_learn_presence  \\\n",
       "0  medium              0                                      I do not know   \n",
       "1   small          4-Mar  We have well established ML methods (i.e., mod...   \n",
       "2   large            20+  We recently started using ML methods (i.e., mo...   \n",
       "3   small          4-Mar  We have well established ML methods (i.e., mod...   \n",
       "4   large          4-Mar  We recently started using ML methods (i.e., mo...   \n",
       "\n",
       "    salary  ...  sqlserver  oracle  micro_acess  aws_data  aws_dynamo  \\\n",
       "0  34999.5  ...          0       0            0         0           0   \n",
       "1  64999.5  ...          0       0            0         1           0   \n",
       "2    499.5  ...          0       1            0         0           0   \n",
       "3  44999.5  ...          0       0            0         0           0   \n",
       "4  44999.5  ...          0       0            0         0           0   \n",
       "\n",
       "   azure_sql  google_sql  database_none  database_other          region  \n",
       "0          0           0              0               0  Western Europe  \n",
       "1          0           0              0               0  Western Europe  \n",
       "2          1           0              0               0  Western Europe  \n",
       "3          0           0              0               0  Western Europe  \n",
       "4          0           0              0               0  Western Europe  \n",
       "\n",
       "[5 rows x 111 columns]"
      ]
     },
     "execution_count": 4,
     "metadata": {},
     "output_type": "execute_result"
    }
   ],
   "source": [
    "# merge the two dfs together\n",
    "merged_df = pd.merge(salary_df2, country_to_region_df, on=\"country\", how=\"inner\")\n",
    "merged_df.head()"
   ]
  },
  {
   "cell_type": "code",
   "execution_count": 5,
   "metadata": {},
   "outputs": [
    {
     "data": {
      "text/plain": [
       "Asia              3223\n",
       "Western Europe    1788\n",
       "Latin America      896\n",
       "Eastern Europe     892\n",
       "Middle East        410\n",
       "North America      301\n",
       "Australia          247\n",
       "Africa             152\n",
       "South America       51\n",
       "Name: region, dtype: int64"
      ]
     },
     "execution_count": 5,
     "metadata": {},
     "output_type": "execute_result"
    }
   ],
   "source": [
    "# check how many regions there are\n",
    "merged_df['region'].value_counts()"
   ]
  },
  {
   "cell_type": "code",
   "execution_count": 6,
   "metadata": {},
   "outputs": [
    {
     "data": {
      "text/plain": [
       "Data Scientist             3640\n",
       "Software Engineer          2390\n",
       "Other                      1476\n",
       "Data Analyst               1417\n",
       "Research Scientist         1272\n",
       "Business Analyst            682\n",
       "Product/Project Manager     667\n",
       "Data Engineer               551\n",
       "Statistician                263\n",
       "DBA/Database Engineer       139\n",
       "Name: title, dtype: int64"
      ]
     },
     "execution_count": 6,
     "metadata": {},
     "output_type": "execute_result"
    }
   ],
   "source": [
    "# job title total \n",
    "title_count = salary_df2[\"title\"].value_counts()\n",
    "title_count"
   ]
  },
  {
   "cell_type": "markdown",
   "metadata": {},
   "source": [
    "## Languages Stats based on the whole datset"
   ]
  },
  {
   "cell_type": "code",
   "execution_count": 7,
   "metadata": {},
   "outputs": [],
   "source": [
    "# total language counts\n",
    "python_count = salary_df2[\"python\"].value_counts()\n",
    "r_count = salary_df2[\"r\"].value_counts()\n",
    "sql_count = salary_df2[\"sql\"].value_counts()\n",
    "c_count = salary_df2[\"c\"].value_counts()\n",
    "cplusplus_count = salary_df2[\"c++\"].value_counts()\n",
    "java_count = salary_df2[\"java\"].value_counts()\n",
    "javascript_count = salary_df2[\"javascript\"].value_counts()\n",
    "typescript_count = salary_df2[\"typescript\"].value_counts()\n",
    "bash_count = salary_df2[\"bash\"].value_counts()\n",
    "matlab_count = salary_df2[\"lan_matlab\"].value_counts()\n",
    "lannone_count = salary_df2[\"lan_none\"].value_counts()\n",
    "lanother_count = salary_df2[\"lan_other\"].value_counts()"
   ]
  },
  {
   "cell_type": "code",
   "execution_count": 8,
   "metadata": {},
   "outputs": [
    {
     "data": {
      "text/html": [
       "<div>\n",
       "<style scoped>\n",
       "    .dataframe tbody tr th:only-of-type {\n",
       "        vertical-align: middle;\n",
       "    }\n",
       "\n",
       "    .dataframe tbody tr th {\n",
       "        vertical-align: top;\n",
       "    }\n",
       "\n",
       "    .dataframe thead th {\n",
       "        text-align: right;\n",
       "    }\n",
       "</style>\n",
       "<table border=\"1\" class=\"dataframe\">\n",
       "  <thead>\n",
       "    <tr style=\"text-align: right;\">\n",
       "      <th></th>\n",
       "      <th>python</th>\n",
       "      <th>r</th>\n",
       "      <th>sql</th>\n",
       "      <th>c</th>\n",
       "      <th>c++</th>\n",
       "      <th>java</th>\n",
       "      <th>javascript</th>\n",
       "      <th>typescript</th>\n",
       "      <th>bash</th>\n",
       "      <th>lan_matlab</th>\n",
       "      <th>lan_none</th>\n",
       "      <th>lan_other</th>\n",
       "    </tr>\n",
       "  </thead>\n",
       "  <tbody>\n",
       "    <tr>\n",
       "      <th>0</th>\n",
       "      <td>3134</td>\n",
       "      <td>8845</td>\n",
       "      <td>7069</td>\n",
       "      <td>11548</td>\n",
       "      <td>11141</td>\n",
       "      <td>10899</td>\n",
       "      <td>10777</td>\n",
       "      <td>12144</td>\n",
       "      <td>10734</td>\n",
       "      <td>11535</td>\n",
       "      <td>12428</td>\n",
       "      <td>11481</td>\n",
       "    </tr>\n",
       "    <tr>\n",
       "      <th>1</th>\n",
       "      <td>9363</td>\n",
       "      <td>3652</td>\n",
       "      <td>5428</td>\n",
       "      <td>949</td>\n",
       "      <td>1356</td>\n",
       "      <td>1598</td>\n",
       "      <td>1720</td>\n",
       "      <td>353</td>\n",
       "      <td>1763</td>\n",
       "      <td>962</td>\n",
       "      <td>69</td>\n",
       "      <td>1016</td>\n",
       "    </tr>\n",
       "  </tbody>\n",
       "</table>\n",
       "</div>"
      ],
      "text/plain": [
       "   python     r   sql      c    c++   java  javascript  typescript   bash  \\\n",
       "0    3134  8845  7069  11548  11141  10899       10777       12144  10734   \n",
       "1    9363  3652  5428    949   1356   1598        1720         353   1763   \n",
       "\n",
       "   lan_matlab  lan_none  lan_other  \n",
       "0       11535     12428      11481  \n",
       "1         962        69       1016  "
      ]
     },
     "execution_count": 8,
     "metadata": {},
     "output_type": "execute_result"
    }
   ],
   "source": [
    "overall_lan_counts = pd.concat([python_count, r_count, sql_count, c_count, cplusplus_count, java_count, javascript_count,\n",
    "                typescript_count, bash_count, matlab_count, lannone_count, lanother_count ], axis= 1)\n",
    "overall_lan_counts\n"
   ]
  },
  {
   "cell_type": "code",
   "execution_count": 9,
   "metadata": {},
   "outputs": [
    {
     "data": {
      "text/html": [
       "<div>\n",
       "<style scoped>\n",
       "    .dataframe tbody tr th:only-of-type {\n",
       "        vertical-align: middle;\n",
       "    }\n",
       "\n",
       "    .dataframe tbody tr th {\n",
       "        vertical-align: top;\n",
       "    }\n",
       "\n",
       "    .dataframe thead th {\n",
       "        text-align: right;\n",
       "    }\n",
       "</style>\n",
       "<table border=\"1\" class=\"dataframe\">\n",
       "  <thead>\n",
       "    <tr style=\"text-align: right;\">\n",
       "      <th></th>\n",
       "      <th>0</th>\n",
       "      <th>1</th>\n",
       "    </tr>\n",
       "  </thead>\n",
       "  <tbody>\n",
       "    <tr>\n",
       "      <th>python</th>\n",
       "      <td>3134</td>\n",
       "      <td>9363</td>\n",
       "    </tr>\n",
       "    <tr>\n",
       "      <th>r</th>\n",
       "      <td>8845</td>\n",
       "      <td>3652</td>\n",
       "    </tr>\n",
       "    <tr>\n",
       "      <th>sql</th>\n",
       "      <td>7069</td>\n",
       "      <td>5428</td>\n",
       "    </tr>\n",
       "    <tr>\n",
       "      <th>c</th>\n",
       "      <td>11548</td>\n",
       "      <td>949</td>\n",
       "    </tr>\n",
       "    <tr>\n",
       "      <th>c++</th>\n",
       "      <td>11141</td>\n",
       "      <td>1356</td>\n",
       "    </tr>\n",
       "  </tbody>\n",
       "</table>\n",
       "</div>"
      ],
      "text/plain": [
       "            0     1\n",
       "python   3134  9363\n",
       "r        8845  3652\n",
       "sql      7069  5428\n",
       "c       11548   949\n",
       "c++     11141  1356"
      ]
     },
     "execution_count": 9,
     "metadata": {},
     "output_type": "execute_result"
    }
   ],
   "source": [
    "overall_lan_counts = overall_lan_counts.transpose()\n",
    "overall_lan_counts.head()"
   ]
  },
  {
   "cell_type": "code",
   "execution_count": 10,
   "metadata": {},
   "outputs": [
    {
     "data": {
      "text/plain": [
       "python    74.92\n",
       "r         29.22\n",
       "sql       43.43\n",
       "c          7.59\n",
       "c++       10.85\n",
       "dtype: float64"
      ]
     },
     "execution_count": 10,
     "metadata": {},
     "output_type": "execute_result"
    }
   ],
   "source": [
    "total_per = ((overall_lan_counts[1]/(overall_lan_counts[0]+overall_lan_counts[1]))*100).round(2)\n",
    "total_per.head()"
   ]
  },
  {
   "cell_type": "code",
   "execution_count": 11,
   "metadata": {},
   "outputs": [],
   "source": [
    "overall_lan_counts['percentage to of total'] = total_per"
   ]
  },
  {
   "cell_type": "code",
   "execution_count": 12,
   "metadata": {},
   "outputs": [
    {
     "data": {
      "text/html": [
       "<div>\n",
       "<style scoped>\n",
       "    .dataframe tbody tr th:only-of-type {\n",
       "        vertical-align: middle;\n",
       "    }\n",
       "\n",
       "    .dataframe tbody tr th {\n",
       "        vertical-align: top;\n",
       "    }\n",
       "\n",
       "    .dataframe thead th {\n",
       "        text-align: right;\n",
       "    }\n",
       "</style>\n",
       "<table border=\"1\" class=\"dataframe\">\n",
       "  <thead>\n",
       "    <tr style=\"text-align: right;\">\n",
       "      <th></th>\n",
       "      <th>does not use</th>\n",
       "      <th>use</th>\n",
       "      <th>% of total used</th>\n",
       "    </tr>\n",
       "  </thead>\n",
       "  <tbody>\n",
       "    <tr>\n",
       "      <th>python</th>\n",
       "      <td>3134</td>\n",
       "      <td>9363</td>\n",
       "      <td>74.92</td>\n",
       "    </tr>\n",
       "    <tr>\n",
       "      <th>r</th>\n",
       "      <td>8845</td>\n",
       "      <td>3652</td>\n",
       "      <td>29.22</td>\n",
       "    </tr>\n",
       "    <tr>\n",
       "      <th>sql</th>\n",
       "      <td>7069</td>\n",
       "      <td>5428</td>\n",
       "      <td>43.43</td>\n",
       "    </tr>\n",
       "    <tr>\n",
       "      <th>c</th>\n",
       "      <td>11548</td>\n",
       "      <td>949</td>\n",
       "      <td>7.59</td>\n",
       "    </tr>\n",
       "    <tr>\n",
       "      <th>c++</th>\n",
       "      <td>11141</td>\n",
       "      <td>1356</td>\n",
       "      <td>10.85</td>\n",
       "    </tr>\n",
       "  </tbody>\n",
       "</table>\n",
       "</div>"
      ],
      "text/plain": [
       "        does not use   use  % of total used\n",
       "python          3134  9363            74.92\n",
       "r               8845  3652            29.22\n",
       "sql             7069  5428            43.43\n",
       "c              11548   949             7.59\n",
       "c++            11141  1356            10.85"
      ]
     },
     "execution_count": 12,
     "metadata": {},
     "output_type": "execute_result"
    }
   ],
   "source": [
    "overall_lan_counts = overall_lan_counts.set_axis(['does not use','use','% of total used'], axis='columns', inplace=False)\n",
    "overall_lan_counts.head()"
   ]
  },
  {
   "cell_type": "code",
   "execution_count": 13,
   "metadata": {},
   "outputs": [],
   "source": [
    "# overall_lan_counts.to_csv(\"lan_world.csv\", index=True)"
   ]
  },
  {
   "cell_type": "markdown",
   "metadata": {},
   "source": [
    "## Tools Counts for the world"
   ]
  },
  {
   "cell_type": "code",
   "execution_count": 14,
   "metadata": {},
   "outputs": [],
   "source": [
    "ggplot = salary_df2[\"ggplot\"].value_counts()\n",
    "matplotlib = salary_df2[\"matplotlib\"].value_counts()\n",
    "altair = salary_df2[\"altair\"].value_counts()\n",
    "shiny = salary_df2[\"shiny\"].value_counts()\n",
    "d3 = salary_df2[\"d3\"].value_counts()\n",
    "plotly = salary_df2[\"plotly\"].value_counts()\n",
    "bokeh = salary_df2[\"bokeh\"].value_counts()\n",
    "seaborn = salary_df2[\"seaborn\"].value_counts()\n",
    "geoplotlib = salary_df2[\"geoplotlib\"].value_counts()\n",
    "leaflet = salary_df2[\"leaflet\"].value_counts()\n",
    "visnone = salary_df2[\"vis_none\"].value_counts()\n",
    "visother = salary_df2[\"vis_other\"].value_counts()"
   ]
  },
  {
   "cell_type": "code",
   "execution_count": 25,
   "metadata": {},
   "outputs": [
    {
     "data": {
      "text/html": [
       "<div>\n",
       "<style scoped>\n",
       "    .dataframe tbody tr th:only-of-type {\n",
       "        vertical-align: middle;\n",
       "    }\n",
       "\n",
       "    .dataframe tbody tr th {\n",
       "        vertical-align: top;\n",
       "    }\n",
       "\n",
       "    .dataframe thead th {\n",
       "        text-align: right;\n",
       "    }\n",
       "</style>\n",
       "<table border=\"1\" class=\"dataframe\">\n",
       "  <thead>\n",
       "    <tr style=\"text-align: right;\">\n",
       "      <th></th>\n",
       "      <th>ggplot</th>\n",
       "      <th>matplotlib</th>\n",
       "      <th>altair</th>\n",
       "      <th>shiny</th>\n",
       "      <th>d3</th>\n",
       "      <th>plotly</th>\n",
       "      <th>bokeh</th>\n",
       "      <th>seaborn</th>\n",
       "      <th>geoplotlib</th>\n",
       "      <th>leaflet</th>\n",
       "      <th>vis_none</th>\n",
       "      <th>vis_other</th>\n",
       "    </tr>\n",
       "  </thead>\n",
       "  <tbody>\n",
       "    <tr>\n",
       "      <th>0</th>\n",
       "      <td>9223</td>\n",
       "      <td>4990</td>\n",
       "      <td>12356</td>\n",
       "      <td>11387</td>\n",
       "      <td>11547</td>\n",
       "      <td>9931</td>\n",
       "      <td>11627</td>\n",
       "      <td>7520</td>\n",
       "      <td>12010</td>\n",
       "      <td>12024</td>\n",
       "      <td>11530</td>\n",
       "      <td>12110</td>\n",
       "    </tr>\n",
       "    <tr>\n",
       "      <th>1</th>\n",
       "      <td>3274</td>\n",
       "      <td>7507</td>\n",
       "      <td>141</td>\n",
       "      <td>1110</td>\n",
       "      <td>950</td>\n",
       "      <td>2566</td>\n",
       "      <td>870</td>\n",
       "      <td>4977</td>\n",
       "      <td>487</td>\n",
       "      <td>473</td>\n",
       "      <td>967</td>\n",
       "      <td>387</td>\n",
       "    </tr>\n",
       "  </tbody>\n",
       "</table>\n",
       "</div>"
      ],
      "text/plain": [
       "   ggplot  matplotlib  altair  shiny     d3  plotly  bokeh  seaborn  \\\n",
       "0    9223        4990   12356  11387  11547    9931  11627     7520   \n",
       "1    3274        7507     141   1110    950    2566    870     4977   \n",
       "\n",
       "   geoplotlib  leaflet  vis_none  vis_other  \n",
       "0       12010    12024     11530      12110  \n",
       "1         487      473       967        387  "
      ]
     },
     "execution_count": 25,
     "metadata": {},
     "output_type": "execute_result"
    }
   ],
   "source": [
    "overall_tool_counts = pd.concat([\n",
    "ggplot,\n",
    "matplotlib,\n",
    "altair,\n",
    "shiny,\n",
    "d3,\n",
    "plotly,\n",
    "bokeh,\n",
    "seaborn,\n",
    "geoplotlib,\n",
    "leaflet,\n",
    "visnone,\n",
    "visother,\n",
    "    \n",
    "], axis= 1)\n",
    "overall_tool_counts\n"
   ]
  },
  {
   "cell_type": "code",
   "execution_count": 26,
   "metadata": {},
   "outputs": [
    {
     "data": {
      "text/html": [
       "<div>\n",
       "<style scoped>\n",
       "    .dataframe tbody tr th:only-of-type {\n",
       "        vertical-align: middle;\n",
       "    }\n",
       "\n",
       "    .dataframe tbody tr th {\n",
       "        vertical-align: top;\n",
       "    }\n",
       "\n",
       "    .dataframe thead th {\n",
       "        text-align: right;\n",
       "    }\n",
       "</style>\n",
       "<table border=\"1\" class=\"dataframe\">\n",
       "  <thead>\n",
       "    <tr style=\"text-align: right;\">\n",
       "      <th></th>\n",
       "      <th>0</th>\n",
       "      <th>1</th>\n",
       "    </tr>\n",
       "  </thead>\n",
       "  <tbody>\n",
       "    <tr>\n",
       "      <th>ggplot</th>\n",
       "      <td>9223</td>\n",
       "      <td>3274</td>\n",
       "    </tr>\n",
       "    <tr>\n",
       "      <th>matplotlib</th>\n",
       "      <td>4990</td>\n",
       "      <td>7507</td>\n",
       "    </tr>\n",
       "    <tr>\n",
       "      <th>altair</th>\n",
       "      <td>12356</td>\n",
       "      <td>141</td>\n",
       "    </tr>\n",
       "    <tr>\n",
       "      <th>shiny</th>\n",
       "      <td>11387</td>\n",
       "      <td>1110</td>\n",
       "    </tr>\n",
       "    <tr>\n",
       "      <th>d3</th>\n",
       "      <td>11547</td>\n",
       "      <td>950</td>\n",
       "    </tr>\n",
       "  </tbody>\n",
       "</table>\n",
       "</div>"
      ],
      "text/plain": [
       "                0     1\n",
       "ggplot       9223  3274\n",
       "matplotlib   4990  7507\n",
       "altair      12356   141\n",
       "shiny       11387  1110\n",
       "d3          11547   950"
      ]
     },
     "execution_count": 26,
     "metadata": {},
     "output_type": "execute_result"
    }
   ],
   "source": [
    "overall_tool_counts = overall_tool_counts.transpose()\n",
    "overall_tool_counts.head()"
   ]
  },
  {
   "cell_type": "code",
   "execution_count": 27,
   "metadata": {},
   "outputs": [
    {
     "data": {
      "text/plain": [
       "ggplot        26.20\n",
       "matplotlib    60.07\n",
       "altair         1.13\n",
       "shiny          8.88\n",
       "d3             7.60\n",
       "dtype: float64"
      ]
     },
     "execution_count": 27,
     "metadata": {},
     "output_type": "execute_result"
    }
   ],
   "source": [
    "total_per_tool = ((overall_tool_counts[1]/(overall_tool_counts[0]+overall_tool_counts[1]))*100).round(2)\n",
    "total_per_tool.head()"
   ]
  },
  {
   "cell_type": "code",
   "execution_count": 28,
   "metadata": {},
   "outputs": [],
   "source": [
    "overall_tool_counts['percentage total'] = total_per_tool"
   ]
  },
  {
   "cell_type": "code",
   "execution_count": 29,
   "metadata": {},
   "outputs": [
    {
     "data": {
      "text/html": [
       "<div>\n",
       "<style scoped>\n",
       "    .dataframe tbody tr th:only-of-type {\n",
       "        vertical-align: middle;\n",
       "    }\n",
       "\n",
       "    .dataframe tbody tr th {\n",
       "        vertical-align: top;\n",
       "    }\n",
       "\n",
       "    .dataframe thead th {\n",
       "        text-align: right;\n",
       "    }\n",
       "</style>\n",
       "<table border=\"1\" class=\"dataframe\">\n",
       "  <thead>\n",
       "    <tr style=\"text-align: right;\">\n",
       "      <th></th>\n",
       "      <th>does not use</th>\n",
       "      <th>use</th>\n",
       "      <th>% of total used</th>\n",
       "    </tr>\n",
       "  </thead>\n",
       "  <tbody>\n",
       "    <tr>\n",
       "      <th>ggplot</th>\n",
       "      <td>9223</td>\n",
       "      <td>3274</td>\n",
       "      <td>26.20</td>\n",
       "    </tr>\n",
       "    <tr>\n",
       "      <th>matplotlib</th>\n",
       "      <td>4990</td>\n",
       "      <td>7507</td>\n",
       "      <td>60.07</td>\n",
       "    </tr>\n",
       "    <tr>\n",
       "      <th>altair</th>\n",
       "      <td>12356</td>\n",
       "      <td>141</td>\n",
       "      <td>1.13</td>\n",
       "    </tr>\n",
       "    <tr>\n",
       "      <th>shiny</th>\n",
       "      <td>11387</td>\n",
       "      <td>1110</td>\n",
       "      <td>8.88</td>\n",
       "    </tr>\n",
       "    <tr>\n",
       "      <th>d3</th>\n",
       "      <td>11547</td>\n",
       "      <td>950</td>\n",
       "      <td>7.60</td>\n",
       "    </tr>\n",
       "  </tbody>\n",
       "</table>\n",
       "</div>"
      ],
      "text/plain": [
       "            does not use   use  % of total used\n",
       "ggplot              9223  3274            26.20\n",
       "matplotlib          4990  7507            60.07\n",
       "altair             12356   141             1.13\n",
       "shiny              11387  1110             8.88\n",
       "d3                 11547   950             7.60"
      ]
     },
     "execution_count": 29,
     "metadata": {},
     "output_type": "execute_result"
    }
   ],
   "source": [
    "overall_tool_counts = overall_tool_counts.set_axis(['does not use','use','% of total used'], axis='columns', inplace=False)\n",
    "overall_tool_counts.head()"
   ]
  },
  {
   "cell_type": "code",
   "execution_count": 30,
   "metadata": {},
   "outputs": [],
   "source": [
    "# overall_tool_counts.to_csv(\"tools_world.csv\", index=True)"
   ]
  },
  {
   "cell_type": "markdown",
   "metadata": {},
   "source": [
    "## Machine Learning Models"
   ]
  },
  {
   "cell_type": "code",
   "execution_count": 31,
   "metadata": {},
   "outputs": [],
   "source": [
    "regression = salary_df2[\"regression\"].value_counts()\n",
    "trees_forests = salary_df2[\"tree_forest\"].value_counts()\n",
    "gradient_boost = salary_df2[\"gradient_boost\"].value_counts()\n",
    "bayesian = salary_df2[\"bayesian\"].value_counts()\n",
    "evolutionary = salary_df2[\"evolutionary\"].value_counts()\n",
    "dnn = salary_df2[\"dnn\"].value_counts()\n",
    "cnn = salary_df2[\"cnn\"].value_counts()\n",
    "gan = salary_df2[\"gan\"].value_counts()\n",
    "rnn = salary_df2[\"rnn\"].value_counts()\n",
    "bert = salary_df2[\"bert\"].value_counts()\n",
    "machnone = salary_df2[\"mach_none\"].value_counts()\n",
    "machother = salary_df2[\"mach_other\"].value_counts()"
   ]
  },
  {
   "cell_type": "code",
   "execution_count": 32,
   "metadata": {},
   "outputs": [
    {
     "data": {
      "text/html": [
       "<div>\n",
       "<style scoped>\n",
       "    .dataframe tbody tr th:only-of-type {\n",
       "        vertical-align: middle;\n",
       "    }\n",
       "\n",
       "    .dataframe tbody tr th {\n",
       "        vertical-align: top;\n",
       "    }\n",
       "\n",
       "    .dataframe thead th {\n",
       "        text-align: right;\n",
       "    }\n",
       "</style>\n",
       "<table border=\"1\" class=\"dataframe\">\n",
       "  <thead>\n",
       "    <tr style=\"text-align: right;\">\n",
       "      <th></th>\n",
       "      <th>regression</th>\n",
       "      <th>tree_forest</th>\n",
       "      <th>gradient_boost</th>\n",
       "      <th>bayesian</th>\n",
       "      <th>evolutionary</th>\n",
       "      <th>dnn</th>\n",
       "      <th>cnn</th>\n",
       "      <th>gan</th>\n",
       "      <th>rnn</th>\n",
       "      <th>bert</th>\n",
       "      <th>mach_none</th>\n",
       "      <th>mach_other</th>\n",
       "    </tr>\n",
       "  </thead>\n",
       "  <tbody>\n",
       "    <tr>\n",
       "      <th>0</th>\n",
       "      <td>4854</td>\n",
       "      <td>5973</td>\n",
       "      <td>8070</td>\n",
       "      <td>9631</td>\n",
       "      <td>11797</td>\n",
       "      <td>10047</td>\n",
       "      <td>8566</td>\n",
       "      <td>11769</td>\n",
       "      <td>9899</td>\n",
       "      <td>11756</td>\n",
       "      <td>11647</td>\n",
       "      <td>12158</td>\n",
       "    </tr>\n",
       "    <tr>\n",
       "      <th>1</th>\n",
       "      <td>7643</td>\n",
       "      <td>6524</td>\n",
       "      <td>4427</td>\n",
       "      <td>2866</td>\n",
       "      <td>700</td>\n",
       "      <td>2450</td>\n",
       "      <td>3931</td>\n",
       "      <td>728</td>\n",
       "      <td>2598</td>\n",
       "      <td>741</td>\n",
       "      <td>850</td>\n",
       "      <td>339</td>\n",
       "    </tr>\n",
       "  </tbody>\n",
       "</table>\n",
       "</div>"
      ],
      "text/plain": [
       "   regression  tree_forest  gradient_boost  bayesian  evolutionary    dnn  \\\n",
       "0        4854         5973            8070      9631         11797  10047   \n",
       "1        7643         6524            4427      2866           700   2450   \n",
       "\n",
       "    cnn    gan   rnn   bert  mach_none  mach_other  \n",
       "0  8566  11769  9899  11756      11647       12158  \n",
       "1  3931    728  2598    741        850         339  "
      ]
     },
     "execution_count": 32,
     "metadata": {},
     "output_type": "execute_result"
    }
   ],
   "source": [
    "overall_mach_counts = pd.concat([\n",
    "regression,\n",
    "trees_forests,\n",
    "gradient_boost,\n",
    "bayesian,\n",
    "evolutionary,\n",
    "dnn,\n",
    "cnn,\n",
    "gan,\n",
    "rnn,\n",
    "bert,\n",
    "machnone,\n",
    "machother,\n",
    "    \n",
    "], axis= 1)\n",
    "overall_mach_counts\n"
   ]
  },
  {
   "cell_type": "code",
   "execution_count": 33,
   "metadata": {},
   "outputs": [
    {
     "data": {
      "text/html": [
       "<div>\n",
       "<style scoped>\n",
       "    .dataframe tbody tr th:only-of-type {\n",
       "        vertical-align: middle;\n",
       "    }\n",
       "\n",
       "    .dataframe tbody tr th {\n",
       "        vertical-align: top;\n",
       "    }\n",
       "\n",
       "    .dataframe thead th {\n",
       "        text-align: right;\n",
       "    }\n",
       "</style>\n",
       "<table border=\"1\" class=\"dataframe\">\n",
       "  <thead>\n",
       "    <tr style=\"text-align: right;\">\n",
       "      <th></th>\n",
       "      <th>0</th>\n",
       "      <th>1</th>\n",
       "    </tr>\n",
       "  </thead>\n",
       "  <tbody>\n",
       "    <tr>\n",
       "      <th>regression</th>\n",
       "      <td>4854</td>\n",
       "      <td>7643</td>\n",
       "    </tr>\n",
       "    <tr>\n",
       "      <th>tree_forest</th>\n",
       "      <td>5973</td>\n",
       "      <td>6524</td>\n",
       "    </tr>\n",
       "    <tr>\n",
       "      <th>gradient_boost</th>\n",
       "      <td>8070</td>\n",
       "      <td>4427</td>\n",
       "    </tr>\n",
       "    <tr>\n",
       "      <th>bayesian</th>\n",
       "      <td>9631</td>\n",
       "      <td>2866</td>\n",
       "    </tr>\n",
       "    <tr>\n",
       "      <th>evolutionary</th>\n",
       "      <td>11797</td>\n",
       "      <td>700</td>\n",
       "    </tr>\n",
       "  </tbody>\n",
       "</table>\n",
       "</div>"
      ],
      "text/plain": [
       "                    0     1\n",
       "regression       4854  7643\n",
       "tree_forest      5973  6524\n",
       "gradient_boost   8070  4427\n",
       "bayesian         9631  2866\n",
       "evolutionary    11797   700"
      ]
     },
     "execution_count": 33,
     "metadata": {},
     "output_type": "execute_result"
    }
   ],
   "source": [
    "overall_mach_counts = overall_mach_counts.transpose()\n",
    "overall_mach_counts.head()"
   ]
  },
  {
   "cell_type": "code",
   "execution_count": 34,
   "metadata": {},
   "outputs": [
    {
     "data": {
      "text/plain": [
       "regression        61.16\n",
       "tree_forest       52.20\n",
       "gradient_boost    35.42\n",
       "bayesian          22.93\n",
       "evolutionary       5.60\n",
       "dtype: float64"
      ]
     },
     "execution_count": 34,
     "metadata": {},
     "output_type": "execute_result"
    }
   ],
   "source": [
    "total_mach_tool = ((overall_mach_counts[1]/(overall_mach_counts[0]+overall_mach_counts[1]))*100).round(2)\n",
    "total_mach_tool.head()"
   ]
  },
  {
   "cell_type": "code",
   "execution_count": 36,
   "metadata": {},
   "outputs": [],
   "source": [
    "overall_mach_counts['percentage total'] = total_mach_tool"
   ]
  },
  {
   "cell_type": "code",
   "execution_count": 37,
   "metadata": {},
   "outputs": [
    {
     "data": {
      "text/html": [
       "<div>\n",
       "<style scoped>\n",
       "    .dataframe tbody tr th:only-of-type {\n",
       "        vertical-align: middle;\n",
       "    }\n",
       "\n",
       "    .dataframe tbody tr th {\n",
       "        vertical-align: top;\n",
       "    }\n",
       "\n",
       "    .dataframe thead th {\n",
       "        text-align: right;\n",
       "    }\n",
       "</style>\n",
       "<table border=\"1\" class=\"dataframe\">\n",
       "  <thead>\n",
       "    <tr style=\"text-align: right;\">\n",
       "      <th></th>\n",
       "      <th>does not use</th>\n",
       "      <th>use</th>\n",
       "      <th>% of total used</th>\n",
       "    </tr>\n",
       "  </thead>\n",
       "  <tbody>\n",
       "    <tr>\n",
       "      <th>regression</th>\n",
       "      <td>4854</td>\n",
       "      <td>7643</td>\n",
       "      <td>61.16</td>\n",
       "    </tr>\n",
       "    <tr>\n",
       "      <th>tree_forest</th>\n",
       "      <td>5973</td>\n",
       "      <td>6524</td>\n",
       "      <td>52.20</td>\n",
       "    </tr>\n",
       "    <tr>\n",
       "      <th>gradient_boost</th>\n",
       "      <td>8070</td>\n",
       "      <td>4427</td>\n",
       "      <td>35.42</td>\n",
       "    </tr>\n",
       "    <tr>\n",
       "      <th>bayesian</th>\n",
       "      <td>9631</td>\n",
       "      <td>2866</td>\n",
       "      <td>22.93</td>\n",
       "    </tr>\n",
       "    <tr>\n",
       "      <th>evolutionary</th>\n",
       "      <td>11797</td>\n",
       "      <td>700</td>\n",
       "      <td>5.60</td>\n",
       "    </tr>\n",
       "  </tbody>\n",
       "</table>\n",
       "</div>"
      ],
      "text/plain": [
       "                does not use   use  % of total used\n",
       "regression              4854  7643            61.16\n",
       "tree_forest             5973  6524            52.20\n",
       "gradient_boost          8070  4427            35.42\n",
       "bayesian                9631  2866            22.93\n",
       "evolutionary           11797   700             5.60"
      ]
     },
     "execution_count": 37,
     "metadata": {},
     "output_type": "execute_result"
    }
   ],
   "source": [
    "overall_mach_counts = overall_mach_counts.set_axis(['does not use','use','% of total used'], axis='columns', inplace=False)\n",
    "overall_mach_counts.head()"
   ]
  },
  {
   "cell_type": "code",
   "execution_count": 38,
   "metadata": {},
   "outputs": [],
   "source": [
    "# overall_mach_counts.to_csv(\"mach_world.csv\", index=True)"
   ]
  },
  {
   "cell_type": "markdown",
   "metadata": {},
   "source": [
    "## Looking at basic info based on region"
   ]
  },
  {
   "cell_type": "code",
   "execution_count": null,
   "metadata": {},
   "outputs": [],
   "source": [
    "# look at salary ranges\n",
    "region = merged_df.groupby(\"region\")\n",
    "region_salary = pd.DataFrame(region[\"salary\"].mean()).rename(columns={\"salary\":\"avg salary\"}).round(0)\n",
    "region_salary.head()"
   ]
  },
  {
   "cell_type": "code",
   "execution_count": null,
   "metadata": {},
   "outputs": [],
   "source": [
    "# job title based on region\n",
    "region_title = pd.DataFrame(region[\"title\"].value_counts()).rename(columns={\"title\":\"title counts\"})\n",
    "region_title.head()"
   ]
  },
  {
   "cell_type": "code",
   "execution_count": null,
   "metadata": {},
   "outputs": [],
   "source": [
    "# look at gender stats\n",
    "region_gender = pd.DataFrame(region[\"gender\"].value_counts()).rename(columns={\"gender\":\"gender counts\"})\n",
    "region_gender.head()"
   ]
  },
  {
   "cell_type": "code",
   "execution_count": null,
   "metadata": {},
   "outputs": [],
   "source": [
    "# look at education counts\n",
    "region_education = pd.DataFrame(region[\"education\"].value_counts()).rename(columns={\"education\":\"level of education\"})\n",
    "region_education.head()"
   ]
  },
  {
   "cell_type": "markdown",
   "metadata": {},
   "source": [
    "## Languages knowledge based on region "
   ]
  },
  {
   "cell_type": "code",
   "execution_count": null,
   "metadata": {},
   "outputs": [],
   "source": [
    "# language value counts by region\n",
    "region_python_count = region[\"python\"].value_counts()\n",
    "region_r_count = region[\"r\"].value_counts()\n",
    "region_sql_count = region[\"sql\"].value_counts()\n",
    "region_c_count = region[\"c\"].value_counts()\n",
    "region_cplusplus_count = region[\"c++\"].value_counts()\n",
    "region_java_count = region[\"java\"].value_counts()\n",
    "region_javascript_count = region[\"javascript\"].value_counts()\n",
    "region_typescript_count = region[\"typescript\"].value_counts()\n",
    "region_bash_count = region[\"bash\"].value_counts()\n",
    "region_matlab_count = region[\"lan_matlab\"].value_counts()\n",
    "region_lannone_count = region[\"lan_none\"].value_counts()\n",
    "region_lanother_count = region[\"lan_other\"].value_counts()"
   ]
  },
  {
   "cell_type": "code",
   "execution_count": null,
   "metadata": {},
   "outputs": [],
   "source": [
    "# merge all the columns for the region data\n",
    "overall_lan_region_counts = pd.concat([region_python_count, region_r_count, region_sql_count, region_c_count, \n",
    "                                       region_cplusplus_count, region_java_count, region_javascript_count,\n",
    "                region_typescript_count, region_bash_count,region_matlab_count, region_lannone_count, region_lanother_count ], axis= 1)\n",
    "overall_lan_region_counts.head()\n"
   ]
  },
  {
   "cell_type": "code",
   "execution_count": null,
   "metadata": {},
   "outputs": [],
   "source": [
    "# transpose the datset \n",
    "overall_lan_region_counts = overall_lan_region_counts.transpose()\n",
    "overall_lan_region_counts.head()"
   ]
  },
  {
   "cell_type": "code",
   "execution_count": null,
   "metadata": {},
   "outputs": [],
   "source": [
    "# rename the region columns\n",
    "overall_lan_region_counts.columns = ['africa_1','africa_2',\n",
    "                                     'asia_1','asia_2',\n",
    "                                     'aus_1','aus_2',\n",
    "                                     'ee_1','ee_2',\n",
    "                                     'la_1','la_2',\n",
    "                                     'me_1','me_2',\n",
    "                                     'na_1','na_2',\n",
    "                                     'sa_1','sa_2',\n",
    "                                     'we_1','we_2']\n",
    "overall_lan_region_counts.head()"
   ]
  },
  {
   "cell_type": "code",
   "execution_count": null,
   "metadata": {},
   "outputs": [],
   "source": [
    "# percantage by region calculation test\n",
    "total_per_af = ((overall_lan_region_counts['africa_2']/(overall_lan_region_counts['africa_1']\n",
    "                                                            +overall_lan_region_counts['africa_2']))*100).round(2)\n",
    "total_per_af.head()"
   ]
  },
  {
   "cell_type": "code",
   "execution_count": null,
   "metadata": {},
   "outputs": [],
   "source": [
    "# percantage by region for remaining regions\n",
    "total_per_asia = ((overall_lan_region_counts['asia_2']/(overall_lan_region_counts['asia_1']\n",
    "                                                               +overall_lan_region_counts['asia_2']))*100).round(2)\n",
    "\n",
    "total_per_aus = ((overall_lan_region_counts['aus_2']/(overall_lan_region_counts['aus_1']\n",
    "                                                               +overall_lan_region_counts['aus_2']))*100).round(2)\n",
    "\n",
    "total_per_ee = ((overall_lan_region_counts['ee_2']/(overall_lan_region_counts['ee_1']\n",
    "                                                               +overall_lan_region_counts['ee_2']))*100).round(2)\n",
    "\n",
    "total_per_la = ((overall_lan_region_counts['la_2']/(overall_lan_region_counts['la_1']\n",
    "                                                               +overall_lan_region_counts['la_2']))*100).round(2)\n",
    "\n",
    "total_per_me = ((overall_lan_region_counts['me_2']/(overall_lan_region_counts['me_1']\n",
    "                                                               +overall_lan_region_counts['me_2']))*100).round(2)\n",
    "\n",
    "total_per_na = ((overall_lan_region_counts['na_2']/(overall_lan_region_counts['na_1']\n",
    "                                                               +overall_lan_region_counts['na_2']))*100).round(2)\n",
    "\n",
    "total_per_sa = ((overall_lan_region_counts['sa_2']/(overall_lan_region_counts['sa_1']\n",
    "                                                               +overall_lan_region_counts['sa_2']))*100).round(2)\n",
    "\n",
    "total_per_we = ((overall_lan_region_counts['we_2']/(overall_lan_region_counts['we_1']\n",
    "                                                               +overall_lan_region_counts['we_2']))*100).round(2)"
   ]
  },
  {
   "cell_type": "code",
   "execution_count": null,
   "metadata": {},
   "outputs": [],
   "source": [
    "# merging the percentages into a df\n",
    "region_perc = pd.concat([total_per_af, total_per_asia,total_per_aus,total_per_ee,total_per_la,total_per_me,total_per_na,\n",
    "                        total_per_sa,total_per_we], axis= 1)\n",
    "region_perc.head()"
   ]
  },
  {
   "cell_type": "markdown",
   "metadata": {},
   "source": [
    "### Final percentages of language per total column "
   ]
  },
  {
   "cell_type": "code",
   "execution_count": null,
   "metadata": {},
   "outputs": [],
   "source": [
    "# remaining the column types\n",
    "region_perc = region_perc.set_axis(['africa', 'asia', 'aus', 'ee', 'la', 'me', 'na', 'sa', 'we'], axis='columns', inplace=False)\n",
    "region_perc.head()"
   ]
  },
  {
   "cell_type": "markdown",
   "metadata": {},
   "source": [
    "## Tools Stats per region"
   ]
  },
  {
   "cell_type": "code",
   "execution_count": null,
   "metadata": {},
   "outputs": [],
   "source": [
    "# stats on tools used \n",
    "region_jupyter_count = region[\"jupyter\"].value_counts()\n",
    "region_rstudio_count = region[\"rstudio\"].value_counts()\n",
    "region_pycharm_count = region[\"pycharm\"].value_counts()\n",
    "region_atom_count = region[\"atom\"].value_counts()\n",
    "region_matlab_count = region[\"matlab\"].value_counts()\n",
    "region_vsc_count = region[\"vsc\"].value_counts()\n",
    "region_spyder_count = region[\"spyder\"].value_counts()\n",
    "region_vim_emacs_count = region[\"vim_emacs\"].value_counts()\n",
    "region_notepadplus_count = region[\"notepad++\"].value_counts()\n",
    "region_sublime_count = region[\"sublime\"].value_counts()\n",
    "region_envnone_count = region[\"env_none\"].value_counts()\n",
    "region_envother_count = region[\"env_other\"].value_counts()"
   ]
  },
  {
   "cell_type": "code",
   "execution_count": null,
   "metadata": {},
   "outputs": [],
   "source": [
    "# making a df from above stats \n",
    "overall_tools_region_counts = pd.concat([\n",
    "region_jupyter_count,\n",
    "region_rstudio_count, \n",
    "region_pycharm_count, \n",
    "region_atom_count,\n",
    "region_matlab_count,\n",
    "region_vsc_count,\n",
    "region_spyder_count,\n",
    "region_vim_emacs_count,\n",
    "region_notepadplus_count,\n",
    "region_sublime_count,\n",
    "region_envnone_count,\n",
    "region_envother_count, ], axis= 1)\n",
    "overall_tools_region_counts.head()"
   ]
  },
  {
   "cell_type": "code",
   "execution_count": null,
   "metadata": {},
   "outputs": [],
   "source": [
    "# transposing the data above \n",
    "overall_tools_region_counts = overall_tools_region_counts.transpose()\n",
    "overall_tools_region_counts.head()"
   ]
  },
  {
   "cell_type": "code",
   "execution_count": null,
   "metadata": {},
   "outputs": [],
   "source": [
    "# renaming the columns \n",
    "overall_tools_region_counts.columns = ['africa_1','africa_2',\n",
    "                                     'asia_1','asia_2',\n",
    "                                     'aus_1','aus_2',\n",
    "                                     'ee_1','ee_2',\n",
    "                                     'la_1','la_2',\n",
    "                                     'me_1','me_2',\n",
    "                                     'na_1','na_2',\n",
    "                                     'sa_1','sa_2',\n",
    "                                     'we_1','we_2']\n",
    "overall_tools_region_counts.head()"
   ]
  },
  {
   "cell_type": "code",
   "execution_count": null,
   "metadata": {},
   "outputs": [],
   "source": [
    "# perctange of tools used per region\n",
    "total_per_tools_af = ((overall_tools_region_counts['africa_2']/(overall_tools_region_counts['africa_1']\n",
    "                                                               +overall_tools_region_counts['africa_2']))*100).round(2)\n",
    "total_per_tools_af.head()"
   ]
  },
  {
   "cell_type": "code",
   "execution_count": null,
   "metadata": {},
   "outputs": [],
   "source": [
    "# remaining percantages for the other regions\n",
    "total_per_tools_asia = ((overall_tools_region_counts['asia_2']/(overall_tools_region_counts['asia_1']\n",
    "                                                               +overall_tools_region_counts['asia_2']))*100).round(2)\n",
    "\n",
    "total_per_tools_aus = ((overall_tools_region_counts['aus_2']/(overall_tools_region_counts['aus_1']\n",
    "                                                               +overall_tools_region_counts['aus_2']))*100).round(2)\n",
    "\n",
    "total_per_tools_ee = ((overall_tools_region_counts['ee_2']/(overall_tools_region_counts['ee_1']\n",
    "                                                               +overall_tools_region_counts['ee_2']))*100).round(2)\n",
    "\n",
    "total_per_tools_la = ((overall_tools_region_counts['la_2']/(overall_tools_region_counts['la_1']\n",
    "                                                               +overall_tools_region_counts['la_2']))*100).round(2)\n",
    "\n",
    "total_per_tools_me = ((overall_tools_region_counts['me_2']/(overall_tools_region_counts['me_1']\n",
    "                                                               +overall_tools_region_counts['me_2']))*100).round(2)\n",
    "\n",
    "total_per_tools_na = ((overall_tools_region_counts['na_2']/(overall_tools_region_counts['na_1']\n",
    "                                                               +overall_tools_region_counts['na_2']))*100).round(2)\n",
    "\n",
    "total_per_tools_sa = ((overall_tools_region_counts['sa_2']/(overall_tools_region_counts['sa_1']\n",
    "                                                               +overall_tools_region_counts['sa_2']))*100).round(2)\n",
    "\n",
    "total_per_tools_we = ((overall_tools_region_counts['we_2']/(overall_tools_region_counts['we_1']\n",
    "                                                               +overall_tools_region_counts['we_2']))*100).round(2)"
   ]
  },
  {
   "cell_type": "code",
   "execution_count": null,
   "metadata": {},
   "outputs": [],
   "source": [
    "# making a df for the percentages of tools used \n",
    "region_tools_perc = pd.concat([total_per_tools_af, total_per_tools_asia,total_per_tools_aus,total_per_tools_ee,total_per_tools_la,\n",
    "                         total_per_tools_me,total_per_tools_na,\n",
    "                        total_per_tools_sa,total_per_tools_we], axis= 1)\n",
    "region_tools_perc.head()"
   ]
  },
  {
   "cell_type": "markdown",
   "metadata": {},
   "source": [
    "### Final percantages based on tools popularity "
   ]
  },
  {
   "cell_type": "code",
   "execution_count": null,
   "metadata": {},
   "outputs": [],
   "source": [
    "# renaming the columns above \n",
    "region_tools_perc = region_tools_perc.set_axis(['africa', 'asia', 'aus', 'ee', 'la', 'me', 'na', 'sa', 'we'], axis='columns', inplace=False)\n",
    "region_tools_perc.head()"
   ]
  },
  {
   "cell_type": "markdown",
   "metadata": {},
   "source": [
    "## Database popularity based on region"
   ]
  },
  {
   "cell_type": "code",
   "execution_count": null,
   "metadata": {},
   "outputs": [],
   "source": [
    "# stats on database used \n",
    "region_mysql_count = region[\"mysql\"].value_counts()\n",
    "region_postgres_count = region[\"postgres\"].value_counts()\n",
    "region_sqllite_count = region[\"sql_lite\"].value_counts()\n",
    "region_sqlsever_count = region[\"sqlserver\"].value_counts()\n",
    "region_oracle_count = region[\"oracle\"].value_counts()\n",
    "region_microacess_count = region[\"micro_acess\"].value_counts()\n",
    "region_awsdata_count = region[\"aws_data\"].value_counts()\n",
    "region_awsdynamo_emacs_count = region[\"aws_dynamo\"].value_counts()\n",
    "region_azuresql_count = region[\"azure_sql\"].value_counts()\n",
    "region_googlesql_count = region[\"google_sql\"].value_counts()\n",
    "region_databasenone_count = region[\"database_none\"].value_counts()\n",
    "region_databaseother_count = region[\"database_other\"].value_counts()"
   ]
  },
  {
   "cell_type": "code",
   "execution_count": null,
   "metadata": {},
   "outputs": [],
   "source": [
    "# making a df from above stats \n",
    "database_region_counts = pd.concat([\n",
    "region_mysql_count,\n",
    "region_postgres_count,\n",
    "region_sqllite_count,\n",
    "region_sqlsever_count,\n",
    "region_oracle_count,\n",
    "region_microacess_count,\n",
    "region_awsdata_count,\n",
    "region_awsdynamo_emacs_count,\n",
    "region_azuresql_count,\n",
    "region_googlesql_count,\n",
    "region_databasenone_count,\n",
    "region_databaseother_count,\n",
    "], axis= 1)\n",
    "database_region_counts.head()"
   ]
  },
  {
   "cell_type": "code",
   "execution_count": null,
   "metadata": {},
   "outputs": [],
   "source": [
    "# transposing above df\n",
    "database_region_counts = database_region_counts.transpose()\n",
    "database_region_counts.head()"
   ]
  },
  {
   "cell_type": "code",
   "execution_count": null,
   "metadata": {},
   "outputs": [],
   "source": [
    "# renaming the columns \n",
    "database_region_counts.columns = ['africa_1','africa_2',\n",
    "                                     'asia_1','asia_2',\n",
    "                                     'aus_1','aus_2',\n",
    "                                     'ee_1','ee_2',\n",
    "                                     'la_1','la_2',\n",
    "                                     'me_1','me_2',\n",
    "                                     'na_1','na_2',\n",
    "                                     'sa_1','sa_2',\n",
    "                                     'we_1','we_2']\n",
    "database_region_counts.head()"
   ]
  },
  {
   "cell_type": "code",
   "execution_count": null,
   "metadata": {},
   "outputs": [],
   "source": [
    "# perctange of databases used per region\n",
    "total_per_database_af = ((database_region_counts['africa_2']/(database_region_counts['africa_1']\n",
    "                                                               +database_region_counts['africa_2']))*100).round(2)\n",
    "total_per_database_af.head()"
   ]
  },
  {
   "cell_type": "code",
   "execution_count": null,
   "metadata": {},
   "outputs": [],
   "source": [
    "# remaining percantages for the other regions\n",
    "total_per_database_asia = ((database_region_counts['asia_2']/(database_region_counts['asia_1']\n",
    "                                                               +database_region_counts['asia_2']))*100).round(2)\n",
    "\n",
    "total_per_database_aus = ((database_region_counts['aus_2']/(database_region_counts['aus_1']\n",
    "                                                               +database_region_counts['aus_2']))*100).round(2)\n",
    "\n",
    "total_per_database_ee = ((database_region_counts['ee_2']/(database_region_counts['ee_1']\n",
    "                                                               +database_region_counts['ee_2']))*100).round(2)\n",
    "\n",
    "total_per_database_la = ((database_region_counts['la_2']/(database_region_counts['la_1']\n",
    "                                                               +database_region_counts['la_2']))*100).round(2)\n",
    "\n",
    "total_per_database_me = ((database_region_counts['me_2']/(database_region_counts['me_1']\n",
    "                                                               +database_region_counts['me_2']))*100).round(2)\n",
    "\n",
    "total_per_database_na = ((database_region_counts['na_2']/(database_region_counts['na_1']\n",
    "                                                               +database_region_counts['na_2']))*100).round(2)\n",
    "\n",
    "total_per_database_sa = ((database_region_counts['sa_2']/(database_region_counts['sa_1']\n",
    "                                                               +database_region_counts['sa_2']))*100).round(2)\n",
    "\n",
    "total_per_database_we = ((database_region_counts['we_2']/(database_region_counts['we_1']\n",
    "                                                               +database_region_counts['we_2']))*100).round(2)"
   ]
  },
  {
   "cell_type": "code",
   "execution_count": null,
   "metadata": {},
   "outputs": [],
   "source": [
    "# making a df for the percentages of tools used \n",
    "region_database_perc = pd.concat([\n",
    "total_per_database_af,\n",
    "total_per_database_asia,\n",
    "    total_per_database_aus,\n",
    "    total_per_database_ee,\n",
    "    total_per_database_la,\n",
    "    total_per_database_me,\n",
    "    total_per_database_na,\n",
    "    total_per_database_sa,\n",
    "    total_per_database_we,\n",
    "    \n",
    "], axis= 1)\n",
    "region_database_perc.head()"
   ]
  },
  {
   "cell_type": "code",
   "execution_count": null,
   "metadata": {},
   "outputs": [],
   "source": [
    "# renaming the columns above \n",
    "region_database_perc = region_database_perc.set_axis(['africa', 'asia', 'aus', 'ee', 'la', 'me', 'na', 'sa', 'we'], axis='columns', inplace=False)\n",
    "region_database_perc"
   ]
  },
  {
   "cell_type": "code",
   "execution_count": null,
   "metadata": {},
   "outputs": [],
   "source": []
  }
 ],
 "metadata": {
  "kernelspec": {
   "display_name": "Python 3",
   "language": "python",
   "name": "python3"
  },
  "language_info": {
   "codemirror_mode": {
    "name": "ipython",
    "version": 3
   },
   "file_extension": ".py",
   "mimetype": "text/x-python",
   "name": "python",
   "nbconvert_exporter": "python",
   "pygments_lexer": "ipython3",
   "version": "3.6.10"
  }
 },
 "nbformat": 4,
 "nbformat_minor": 4
}
