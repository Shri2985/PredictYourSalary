{
 "cells": [
  {
   "cell_type": "markdown",
   "metadata": {},
   "source": [
    "## Basic Stats for Visualizations with Dataset2 "
   ]
  },
  {
   "cell_type": "code",
   "execution_count": 1,
   "metadata": {},
   "outputs": [],
   "source": [
    "# import dependencies\n",
    "import pandas as pd\n",
    "import numpy as np"
   ]
  },
  {
   "cell_type": "code",
   "execution_count": 11,
   "metadata": {},
   "outputs": [
    {
     "name": "stderr",
     "output_type": "stream",
     "text": [
      "/Users/kasiakalemba/opt/anaconda3/envs/PythonData2020_1/lib/python3.6/site-packages/IPython/core/interactiveshell.py:3063: DtypeWarning: Columns (0,1,2,3,4,5,6,7,8,9,10,11,12,13,14,15,16,17,18,19,20,21,22,23,24,25,26,27,28,29,30,31,32,33,34,35,36,37,38,39,40,41,42,43,44,45,46,47,48,49,50,51,52,53,54,55,56,57,58,59,60,61,62,63,64,65,66,67,68,69,70,71,72,73,74,75,76,77,78,79,80,81,82,83,84,85,86,87,88,89,90,91,92,93,94,95,96,97,98,99,100,101,102,103,104,105,106,107,108,109,110,111,112,113) have mixed types.Specify dtype option on import or set low_memory=False.\n",
      "  interactivity=interactivity, compiler=compiler, result=result)\n"
     ]
    },
    {
     "data": {
      "text/html": [
       "<div>\n",
       "<style scoped>\n",
       "    .dataframe tbody tr th:only-of-type {\n",
       "        vertical-align: middle;\n",
       "    }\n",
       "\n",
       "    .dataframe tbody tr th {\n",
       "        vertical-align: top;\n",
       "    }\n",
       "\n",
       "    .dataframe thead th {\n",
       "        text-align: right;\n",
       "    }\n",
       "</style>\n",
       "<table border=\"1\" class=\"dataframe\">\n",
       "  <thead>\n",
       "    <tr style=\"text-align: right;\">\n",
       "      <th></th>\n",
       "      <th>Unnamed: 0</th>\n",
       "      <th>age</th>\n",
       "      <th>gender</th>\n",
       "      <th>country</th>\n",
       "      <th>education</th>\n",
       "      <th>title</th>\n",
       "      <th>size</th>\n",
       "      <th>data_prof_size</th>\n",
       "      <th>mach_learn_presence</th>\n",
       "      <th>salary</th>\n",
       "      <th>...</th>\n",
       "      <th>aws_data</th>\n",
       "      <th>aws_dynamo</th>\n",
       "      <th>azure_sql</th>\n",
       "      <th>google_sql</th>\n",
       "      <th>database_none</th>\n",
       "      <th>database_other</th>\n",
       "      <th>Unnamed: 110</th>\n",
       "      <th>Unnamed: 111</th>\n",
       "      <th>Unnamed: 112</th>\n",
       "      <th>Unnamed: 113</th>\n",
       "    </tr>\n",
       "  </thead>\n",
       "  <tbody>\n",
       "    <tr>\n",
       "      <th>0</th>\n",
       "      <td>0</td>\n",
       "      <td>23</td>\n",
       "      <td>Male</td>\n",
       "      <td>France</td>\n",
       "      <td>Master’s degree</td>\n",
       "      <td>Software Engineer</td>\n",
       "      <td>medium</td>\n",
       "      <td>0</td>\n",
       "      <td>I do not know</td>\n",
       "      <td>34999.5</td>\n",
       "      <td>...</td>\n",
       "      <td>0</td>\n",
       "      <td>0</td>\n",
       "      <td>0</td>\n",
       "      <td>0</td>\n",
       "      <td>0</td>\n",
       "      <td>0</td>\n",
       "      <td>NaN</td>\n",
       "      <td>NaN</td>\n",
       "      <td>NaN</td>\n",
       "      <td>NaN</td>\n",
       "    </tr>\n",
       "    <tr>\n",
       "      <th>1</th>\n",
       "      <td>1</td>\n",
       "      <td>42</td>\n",
       "      <td>Male</td>\n",
       "      <td>India</td>\n",
       "      <td>Professional degree</td>\n",
       "      <td>Software Engineer</td>\n",
       "      <td>large</td>\n",
       "      <td>20+</td>\n",
       "      <td>We have well established ML methods (i.e., mod...</td>\n",
       "      <td>6249.5</td>\n",
       "      <td>...</td>\n",
       "      <td>0</td>\n",
       "      <td>0</td>\n",
       "      <td>0</td>\n",
       "      <td>0</td>\n",
       "      <td>0</td>\n",
       "      <td>0</td>\n",
       "      <td>NaN</td>\n",
       "      <td>NaN</td>\n",
       "      <td>NaN</td>\n",
       "      <td>NaN</td>\n",
       "    </tr>\n",
       "    <tr>\n",
       "      <th>2</th>\n",
       "      <td>2</td>\n",
       "      <td>42</td>\n",
       "      <td>Male</td>\n",
       "      <td>Australia</td>\n",
       "      <td>Master’s degree</td>\n",
       "      <td>Other</td>\n",
       "      <td>large</td>\n",
       "      <td>20+</td>\n",
       "      <td>I do not know</td>\n",
       "      <td>275000</td>\n",
       "      <td>...</td>\n",
       "      <td>0</td>\n",
       "      <td>0</td>\n",
       "      <td>1</td>\n",
       "      <td>0</td>\n",
       "      <td>0</td>\n",
       "      <td>0</td>\n",
       "      <td>NaN</td>\n",
       "      <td>NaN</td>\n",
       "      <td>NaN</td>\n",
       "      <td>NaN</td>\n",
       "    </tr>\n",
       "    <tr>\n",
       "      <th>3</th>\n",
       "      <td>3</td>\n",
       "      <td>23</td>\n",
       "      <td>Male</td>\n",
       "      <td>India</td>\n",
       "      <td>Bachelor’s degree</td>\n",
       "      <td>Other</td>\n",
       "      <td>small</td>\n",
       "      <td>0</td>\n",
       "      <td>No (we do not use ML methods)</td>\n",
       "      <td>4499.5</td>\n",
       "      <td>...</td>\n",
       "      <td>0</td>\n",
       "      <td>0</td>\n",
       "      <td>0</td>\n",
       "      <td>0</td>\n",
       "      <td>0</td>\n",
       "      <td>0</td>\n",
       "      <td>NaN</td>\n",
       "      <td>NaN</td>\n",
       "      <td>NaN</td>\n",
       "      <td>NaN</td>\n",
       "    </tr>\n",
       "    <tr>\n",
       "      <th>4</th>\n",
       "      <td>4</td>\n",
       "      <td>52</td>\n",
       "      <td>Male</td>\n",
       "      <td>France</td>\n",
       "      <td>Master’s degree</td>\n",
       "      <td>Data Scientist</td>\n",
       "      <td>small</td>\n",
       "      <td>4-Mar</td>\n",
       "      <td>We have well established ML methods (i.e., mod...</td>\n",
       "      <td>64999.5</td>\n",
       "      <td>...</td>\n",
       "      <td>1</td>\n",
       "      <td>0</td>\n",
       "      <td>0</td>\n",
       "      <td>0</td>\n",
       "      <td>0</td>\n",
       "      <td>0</td>\n",
       "      <td>NaN</td>\n",
       "      <td>NaN</td>\n",
       "      <td>NaN</td>\n",
       "      <td>NaN</td>\n",
       "    </tr>\n",
       "  </tbody>\n",
       "</table>\n",
       "<p>5 rows × 114 columns</p>\n",
       "</div>"
      ],
      "text/plain": [
       "  Unnamed: 0 age gender    country            education              title  \\\n",
       "0          0  23   Male     France      Master’s degree  Software Engineer   \n",
       "1          1  42   Male      India  Professional degree  Software Engineer   \n",
       "2          2  42   Male  Australia      Master’s degree              Other   \n",
       "3          3  23   Male      India    Bachelor’s degree              Other   \n",
       "4          4  52   Male     France      Master’s degree     Data Scientist   \n",
       "\n",
       "     size data_prof_size                                mach_learn_presence  \\\n",
       "0  medium              0                                      I do not know   \n",
       "1   large            20+  We have well established ML methods (i.e., mod...   \n",
       "2   large            20+                                      I do not know   \n",
       "3   small              0                      No (we do not use ML methods)   \n",
       "4   small          4-Mar  We have well established ML methods (i.e., mod...   \n",
       "\n",
       "    salary  ... aws_data aws_dynamo azure_sql google_sql database_none  \\\n",
       "0  34999.5  ...        0          0         0          0             0   \n",
       "1   6249.5  ...        0          0         0          0             0   \n",
       "2   275000  ...        0          0         1          0             0   \n",
       "3   4499.5  ...        0          0         0          0             0   \n",
       "4  64999.5  ...        1          0         0          0             0   \n",
       "\n",
       "  database_other Unnamed: 110 Unnamed: 111 Unnamed: 112 Unnamed: 113  \n",
       "0              0          NaN          NaN          NaN          NaN  \n",
       "1              0          NaN          NaN          NaN          NaN  \n",
       "2              0          NaN          NaN          NaN          NaN  \n",
       "3              0          NaN          NaN          NaN          NaN  \n",
       "4              0          NaN          NaN          NaN          NaN  \n",
       "\n",
       "[5 rows x 114 columns]"
      ]
     },
     "execution_count": 11,
     "metadata": {},
     "output_type": "execute_result"
    }
   ],
   "source": [
    "# import clean csv to df\n",
    "salary_df2 = pd.read_csv(\"../exported_data/salary_data2.csv\")\n",
    "salary_df2.head()"
   ]
  },
  {
   "cell_type": "code",
   "execution_count": 14,
   "metadata": {},
   "outputs": [
    {
     "data": {
      "text/html": [
       "<div>\n",
       "<style scoped>\n",
       "    .dataframe tbody tr th:only-of-type {\n",
       "        vertical-align: middle;\n",
       "    }\n",
       "\n",
       "    .dataframe tbody tr th {\n",
       "        vertical-align: top;\n",
       "    }\n",
       "\n",
       "    .dataframe thead th {\n",
       "        text-align: right;\n",
       "    }\n",
       "</style>\n",
       "<table border=\"1\" class=\"dataframe\">\n",
       "  <thead>\n",
       "    <tr style=\"text-align: right;\">\n",
       "      <th></th>\n",
       "      <th>country</th>\n",
       "      <th>region</th>\n",
       "    </tr>\n",
       "  </thead>\n",
       "  <tbody>\n",
       "    <tr>\n",
       "      <th>0</th>\n",
       "      <td>Canada</td>\n",
       "      <td>North America</td>\n",
       "    </tr>\n",
       "    <tr>\n",
       "      <th>1</th>\n",
       "      <td>Russia</td>\n",
       "      <td>Eastern Europe</td>\n",
       "    </tr>\n",
       "    <tr>\n",
       "      <th>2</th>\n",
       "      <td>Indonesia</td>\n",
       "      <td>Asia</td>\n",
       "    </tr>\n",
       "    <tr>\n",
       "      <th>3</th>\n",
       "      <td>Argentina</td>\n",
       "      <td>Latin America</td>\n",
       "    </tr>\n",
       "    <tr>\n",
       "      <th>4</th>\n",
       "      <td>Colombia</td>\n",
       "      <td>Latin America</td>\n",
       "    </tr>\n",
       "  </tbody>\n",
       "</table>\n",
       "</div>"
      ],
      "text/plain": [
       "     country          region\n",
       "0     Canada   North America\n",
       "1     Russia  Eastern Europe\n",
       "2  Indonesia            Asia\n",
       "3  Argentina   Latin America\n",
       "4   Colombia   Latin America"
      ]
     },
     "execution_count": 14,
     "metadata": {},
     "output_type": "execute_result"
    }
   ],
   "source": [
    "# load region data\n",
    "country_to_region_df = pd.read_csv(\"../imported_data/country_to_region.csv\")\n",
    "country_to_region_df= country_to_region_df.set_axis([\"country\", \"region\"], \n",
    "                                axis='columns', inplace=False)\n",
    "country_to_region_df.head()"
   ]
  },
  {
   "cell_type": "markdown",
   "metadata": {},
   "source": [
    "### Merged dataset with the countries region"
   ]
  },
  {
   "cell_type": "code",
   "execution_count": 15,
   "metadata": {},
   "outputs": [
    {
     "data": {
      "text/html": [
       "<div>\n",
       "<style scoped>\n",
       "    .dataframe tbody tr th:only-of-type {\n",
       "        vertical-align: middle;\n",
       "    }\n",
       "\n",
       "    .dataframe tbody tr th {\n",
       "        vertical-align: top;\n",
       "    }\n",
       "\n",
       "    .dataframe thead th {\n",
       "        text-align: right;\n",
       "    }\n",
       "</style>\n",
       "<table border=\"1\" class=\"dataframe\">\n",
       "  <thead>\n",
       "    <tr style=\"text-align: right;\">\n",
       "      <th></th>\n",
       "      <th>Unnamed: 0</th>\n",
       "      <th>age</th>\n",
       "      <th>gender</th>\n",
       "      <th>country</th>\n",
       "      <th>education</th>\n",
       "      <th>title</th>\n",
       "      <th>size</th>\n",
       "      <th>data_prof_size</th>\n",
       "      <th>mach_learn_presence</th>\n",
       "      <th>salary</th>\n",
       "      <th>...</th>\n",
       "      <th>aws_dynamo</th>\n",
       "      <th>azure_sql</th>\n",
       "      <th>google_sql</th>\n",
       "      <th>database_none</th>\n",
       "      <th>database_other</th>\n",
       "      <th>Unnamed: 110</th>\n",
       "      <th>Unnamed: 111</th>\n",
       "      <th>Unnamed: 112</th>\n",
       "      <th>Unnamed: 113</th>\n",
       "      <th>region</th>\n",
       "    </tr>\n",
       "  </thead>\n",
       "  <tbody>\n",
       "    <tr>\n",
       "      <th>0</th>\n",
       "      <td>0</td>\n",
       "      <td>23</td>\n",
       "      <td>Male</td>\n",
       "      <td>France</td>\n",
       "      <td>Master’s degree</td>\n",
       "      <td>Software Engineer</td>\n",
       "      <td>medium</td>\n",
       "      <td>0</td>\n",
       "      <td>I do not know</td>\n",
       "      <td>34999.5</td>\n",
       "      <td>...</td>\n",
       "      <td>0</td>\n",
       "      <td>0</td>\n",
       "      <td>0</td>\n",
       "      <td>0</td>\n",
       "      <td>0</td>\n",
       "      <td>NaN</td>\n",
       "      <td>NaN</td>\n",
       "      <td>NaN</td>\n",
       "      <td>NaN</td>\n",
       "      <td>Western Europe</td>\n",
       "    </tr>\n",
       "    <tr>\n",
       "      <th>1</th>\n",
       "      <td>4</td>\n",
       "      <td>52</td>\n",
       "      <td>Male</td>\n",
       "      <td>France</td>\n",
       "      <td>Master’s degree</td>\n",
       "      <td>Data Scientist</td>\n",
       "      <td>small</td>\n",
       "      <td>4-Mar</td>\n",
       "      <td>We have well established ML methods (i.e., mod...</td>\n",
       "      <td>64999.5</td>\n",
       "      <td>...</td>\n",
       "      <td>0</td>\n",
       "      <td>0</td>\n",
       "      <td>0</td>\n",
       "      <td>0</td>\n",
       "      <td>0</td>\n",
       "      <td>NaN</td>\n",
       "      <td>NaN</td>\n",
       "      <td>NaN</td>\n",
       "      <td>NaN</td>\n",
       "      <td>Western Europe</td>\n",
       "    </tr>\n",
       "    <tr>\n",
       "      <th>2</th>\n",
       "      <td>13</td>\n",
       "      <td>37</td>\n",
       "      <td>Male</td>\n",
       "      <td>France</td>\n",
       "      <td>Master’s degree</td>\n",
       "      <td>Product/Project Manager</td>\n",
       "      <td>large</td>\n",
       "      <td>20+</td>\n",
       "      <td>We recently started using ML methods (i.e., mo...</td>\n",
       "      <td>499.5</td>\n",
       "      <td>...</td>\n",
       "      <td>0</td>\n",
       "      <td>1</td>\n",
       "      <td>0</td>\n",
       "      <td>0</td>\n",
       "      <td>0</td>\n",
       "      <td>NaN</td>\n",
       "      <td>NaN</td>\n",
       "      <td>NaN</td>\n",
       "      <td>NaN</td>\n",
       "      <td>Western Europe</td>\n",
       "    </tr>\n",
       "    <tr>\n",
       "      <th>3</th>\n",
       "      <td>14</td>\n",
       "      <td>27</td>\n",
       "      <td>Male</td>\n",
       "      <td>France</td>\n",
       "      <td>Doctoral degree</td>\n",
       "      <td>Research Scientist</td>\n",
       "      <td>small</td>\n",
       "      <td>4-Mar</td>\n",
       "      <td>We have well established ML methods (i.e., mod...</td>\n",
       "      <td>44999.5</td>\n",
       "      <td>...</td>\n",
       "      <td>0</td>\n",
       "      <td>0</td>\n",
       "      <td>0</td>\n",
       "      <td>0</td>\n",
       "      <td>0</td>\n",
       "      <td>NaN</td>\n",
       "      <td>NaN</td>\n",
       "      <td>NaN</td>\n",
       "      <td>NaN</td>\n",
       "      <td>Western Europe</td>\n",
       "    </tr>\n",
       "    <tr>\n",
       "      <th>4</th>\n",
       "      <td>32</td>\n",
       "      <td>37</td>\n",
       "      <td>Male</td>\n",
       "      <td>France</td>\n",
       "      <td>Master’s degree</td>\n",
       "      <td>Data Engineer</td>\n",
       "      <td>large</td>\n",
       "      <td>4-Mar</td>\n",
       "      <td>We recently started using ML methods (i.e., mo...</td>\n",
       "      <td>44999.5</td>\n",
       "      <td>...</td>\n",
       "      <td>0</td>\n",
       "      <td>0</td>\n",
       "      <td>0</td>\n",
       "      <td>0</td>\n",
       "      <td>0</td>\n",
       "      <td>NaN</td>\n",
       "      <td>NaN</td>\n",
       "      <td>NaN</td>\n",
       "      <td>NaN</td>\n",
       "      <td>Western Europe</td>\n",
       "    </tr>\n",
       "  </tbody>\n",
       "</table>\n",
       "<p>5 rows × 115 columns</p>\n",
       "</div>"
      ],
      "text/plain": [
       "  Unnamed: 0 age gender country        education                    title  \\\n",
       "0          0  23   Male  France  Master’s degree        Software Engineer   \n",
       "1          4  52   Male  France  Master’s degree           Data Scientist   \n",
       "2         13  37   Male  France  Master’s degree  Product/Project Manager   \n",
       "3         14  27   Male  France  Doctoral degree       Research Scientist   \n",
       "4         32  37   Male  France  Master’s degree            Data Engineer   \n",
       "\n",
       "     size data_prof_size                                mach_learn_presence  \\\n",
       "0  medium              0                                      I do not know   \n",
       "1   small          4-Mar  We have well established ML methods (i.e., mod...   \n",
       "2   large            20+  We recently started using ML methods (i.e., mo...   \n",
       "3   small          4-Mar  We have well established ML methods (i.e., mod...   \n",
       "4   large          4-Mar  We recently started using ML methods (i.e., mo...   \n",
       "\n",
       "    salary  ... aws_dynamo azure_sql google_sql database_none database_other  \\\n",
       "0  34999.5  ...          0         0          0             0              0   \n",
       "1  64999.5  ...          0         0          0             0              0   \n",
       "2    499.5  ...          0         1          0             0              0   \n",
       "3  44999.5  ...          0         0          0             0              0   \n",
       "4  44999.5  ...          0         0          0             0              0   \n",
       "\n",
       "  Unnamed: 110 Unnamed: 111 Unnamed: 112 Unnamed: 113          region  \n",
       "0          NaN          NaN          NaN          NaN  Western Europe  \n",
       "1          NaN          NaN          NaN          NaN  Western Europe  \n",
       "2          NaN          NaN          NaN          NaN  Western Europe  \n",
       "3          NaN          NaN          NaN          NaN  Western Europe  \n",
       "4          NaN          NaN          NaN          NaN  Western Europe  \n",
       "\n",
       "[5 rows x 115 columns]"
      ]
     },
     "execution_count": 15,
     "metadata": {},
     "output_type": "execute_result"
    }
   ],
   "source": [
    "# merge the two dfs together\n",
    "merged_df = pd.merge(salary_df2, country_to_region_df, on=\"country\", how=\"inner\")\n",
    "merged_df.head()"
   ]
  },
  {
   "cell_type": "markdown",
   "metadata": {},
   "source": [
    "## Basic Counts "
   ]
  },
  {
   "cell_type": "code",
   "execution_count": 16,
   "metadata": {},
   "outputs": [
    {
     "data": {
      "text/plain": [
       "Asia              3223\n",
       "Western Europe    1788\n",
       "Latin America      896\n",
       "Eastern Europe     892\n",
       "Middle East        410\n",
       "North America      301\n",
       "Australia          247\n",
       "Africa             152\n",
       "South America       51\n",
       "Name: region, dtype: int64"
      ]
     },
     "execution_count": 16,
     "metadata": {},
     "output_type": "execute_result"
    }
   ],
   "source": [
    "# check how many regions there are\n",
    "merged_df['region'].value_counts()"
   ]
  },
  {
   "cell_type": "code",
   "execution_count": 19,
   "metadata": {},
   "outputs": [
    {
     "data": {
      "text/plain": [
       "Data Scientist             4347\n",
       "Software Engineer          2682\n",
       "Other                      1778\n",
       "Data Analyst               1674\n",
       "Research Scientist         1467\n",
       "Product/Project Manager     789\n",
       "Business Analyst            781\n",
       "Data Engineer               650\n",
       "Statistician                301\n",
       "DBA/Database Engineer       162\n",
       "title                         1\n",
       "Name: title, dtype: int64"
      ]
     },
     "execution_count": 19,
     "metadata": {},
     "output_type": "execute_result"
    }
   ],
   "source": [
    "# job title total \n",
    "title_count = salary_df2[\"title\"].value_counts()\n",
    "title_count"
   ]
  },
  {
   "cell_type": "code",
   "execution_count": 20,
   "metadata": {},
   "outputs": [
    {
     "data": {
      "text/plain": [
       "United States of America                                4268\n",
       "India                                                   2477\n",
       "Other                                                    705\n",
       "Brazil                                                   535\n",
       "Japan                                                    480\n",
       "Russia                                                   426\n",
       "Germany                                                  360\n",
       "United Kingdom of Great Britain and Northern Ireland     333\n",
       "Spain                                                    316\n",
       "Canada                                                   301\n",
       "France                                                   279\n",
       "China                                                    235\n",
       "Nigeria                                                  215\n",
       "Australia                                                208\n",
       "Italy                                                    197\n",
       "Turkey                                                   173\n",
       "Taiwan                                                   170\n",
       "Poland                                                   161\n",
       "Ukraine                                                  136\n",
       "Mexico                                                   132\n",
       "Colombia                                                 131\n",
       "Pakistan                                                 121\n",
       "Netherlands                                              120\n",
       "South Korea                                              111\n",
       "Indonesia                                                109\n",
       "Singapore                                                100\n",
       "Argentina                                                 98\n",
       "Portugal                                                  86\n",
       "South Africa                                              82\n",
       "Israel                                                    79\n",
       "Chile                                                     79\n",
       "Viet Nam                                                  73\n",
       "Switzerland                                               72\n",
       "Kenya                                                     70\n",
       "Greece                                                    69\n",
       "Morocco                                                   66\n",
       "Sweden                                                    66\n",
       "Egypt                                                     65\n",
       "Bangladesh                                                60\n",
       "Belgium                                                   54\n",
       "Iran, Islamic Republic of...                              53\n",
       "Peru                                                      51\n",
       "Ireland                                                   50\n",
       "Hong Kong (S.A.R.)                                        48\n",
       "Malaysia                                                  47\n",
       "Republic of Korea                                         46\n",
       "Belarus                                                   46\n",
       "Thailand                                                  44\n",
       "Romania                                                   44\n",
       "Austria                                                   42\n",
       "Hungary                                                   41\n",
       "Philippines                                               41\n",
       "New Zealand                                               39\n",
       "Norway                                                    39\n",
       "Czech Republic                                            38\n",
       "Denmark                                                   38\n",
       "Saudi Arabia                                              37\n",
       "Algeria                                                   36\n",
       "Tunisia                                                   33\n",
       "country                                                    1\n",
       "Name: country, dtype: int64"
      ]
     },
     "execution_count": 20,
     "metadata": {},
     "output_type": "execute_result"
    }
   ],
   "source": [
    "country_counts = salary_df2[\"country\"].value_counts()\n",
    "country_counts "
   ]
  },
  {
   "cell_type": "code",
   "execution_count": null,
   "metadata": {},
   "outputs": [],
   "source": []
  },
  {
   "cell_type": "markdown",
   "metadata": {},
   "source": [
    "## Languages Stats based on the whole datset"
   ]
  },
  {
   "cell_type": "code",
   "execution_count": null,
   "metadata": {},
   "outputs": [],
   "source": [
    "# total language counts\n",
    "python_count = salary_df2[\"python\"].value_counts()\n",
    "r_count = salary_df2[\"r\"].value_counts()\n",
    "sql_count = salary_df2[\"sql\"].value_counts()\n",
    "c_count = salary_df2[\"c\"].value_counts()\n",
    "cplusplus_count = salary_df2[\"c++\"].value_counts()\n",
    "java_count = salary_df2[\"java\"].value_counts()\n",
    "javascript_count = salary_df2[\"javascript\"].value_counts()\n",
    "typescript_count = salary_df2[\"typescript\"].value_counts()\n",
    "bash_count = salary_df2[\"bash\"].value_counts()\n",
    "matlab_count = salary_df2[\"lan_matlab\"].value_counts()\n",
    "lannone_count = salary_df2[\"lan_none\"].value_counts()\n",
    "lanother_count = salary_df2[\"lan_other\"].value_counts()"
   ]
  },
  {
   "cell_type": "code",
   "execution_count": null,
   "metadata": {},
   "outputs": [],
   "source": [
    "overall_lan_counts = pd.concat([python_count, r_count, sql_count, c_count, cplusplus_count, java_count, javascript_count,\n",
    "                typescript_count, bash_count, matlab_count, lannone_count, lanother_count ], axis= 1)\n",
    "overall_lan_counts\n"
   ]
  },
  {
   "cell_type": "code",
   "execution_count": null,
   "metadata": {},
   "outputs": [],
   "source": [
    "overall_lan_counts = overall_lan_counts.transpose()\n",
    "overall_lan_counts.head()"
   ]
  },
  {
   "cell_type": "code",
   "execution_count": null,
   "metadata": {},
   "outputs": [],
   "source": [
    "total_per = ((overall_lan_counts[1]/(overall_lan_counts[0]+overall_lan_counts[1]))*100).round(2)\n",
    "total_per.head()"
   ]
  },
  {
   "cell_type": "code",
   "execution_count": null,
   "metadata": {},
   "outputs": [],
   "source": [
    "overall_lan_counts['percentage to of total'] = total_per"
   ]
  },
  {
   "cell_type": "code",
   "execution_count": null,
   "metadata": {},
   "outputs": [],
   "source": [
    "overall_lan_counts = overall_lan_counts.set_axis(['does not use','use','% of total used'], axis='columns', inplace=False)\n",
    "overall_lan_counts.head()"
   ]
  },
  {
   "cell_type": "code",
   "execution_count": null,
   "metadata": {},
   "outputs": [],
   "source": [
    "# overall_lan_counts.to_csv(\"lan_world.csv\", index=True)"
   ]
  },
  {
   "cell_type": "markdown",
   "metadata": {},
   "source": [
    "## Tools Counts for the world"
   ]
  },
  {
   "cell_type": "code",
   "execution_count": null,
   "metadata": {},
   "outputs": [],
   "source": [
    "ggplot = salary_df2[\"ggplot\"].value_counts()\n",
    "matplotlib = salary_df2[\"matplotlib\"].value_counts()\n",
    "altair = salary_df2[\"altair\"].value_counts()\n",
    "shiny = salary_df2[\"shiny\"].value_counts()\n",
    "d3 = salary_df2[\"d3\"].value_counts()\n",
    "plotly = salary_df2[\"plotly\"].value_counts()\n",
    "bokeh = salary_df2[\"bokeh\"].value_counts()\n",
    "seaborn = salary_df2[\"seaborn\"].value_counts()\n",
    "geoplotlib = salary_df2[\"geoplotlib\"].value_counts()\n",
    "leaflet = salary_df2[\"leaflet\"].value_counts()\n",
    "visnone = salary_df2[\"vis_none\"].value_counts()\n",
    "visother = salary_df2[\"vis_other\"].value_counts()"
   ]
  },
  {
   "cell_type": "code",
   "execution_count": null,
   "metadata": {},
   "outputs": [],
   "source": [
    "overall_tool_counts = pd.concat([\n",
    "ggplot,\n",
    "matplotlib,\n",
    "altair,\n",
    "shiny,\n",
    "d3,\n",
    "plotly,\n",
    "bokeh,\n",
    "seaborn,\n",
    "geoplotlib,\n",
    "leaflet,\n",
    "visnone,\n",
    "visother,\n",
    "    \n",
    "], axis= 1)\n",
    "overall_tool_counts\n"
   ]
  },
  {
   "cell_type": "code",
   "execution_count": null,
   "metadata": {},
   "outputs": [],
   "source": [
    "overall_tool_counts = overall_tool_counts.transpose()\n",
    "overall_tool_counts.head()"
   ]
  },
  {
   "cell_type": "code",
   "execution_count": null,
   "metadata": {},
   "outputs": [],
   "source": [
    "total_per_tool = ((overall_tool_counts[1]/(overall_tool_counts[0]+overall_tool_counts[1]))*100).round(2)\n",
    "total_per_tool.head()"
   ]
  },
  {
   "cell_type": "code",
   "execution_count": null,
   "metadata": {},
   "outputs": [],
   "source": [
    "overall_tool_counts['percentage total'] = total_per_tool"
   ]
  },
  {
   "cell_type": "code",
   "execution_count": null,
   "metadata": {},
   "outputs": [],
   "source": [
    "overall_tool_counts = overall_tool_counts.set_axis(['does not use','use','% of total used'], axis='columns', inplace=False)\n",
    "overall_tool_counts.head()"
   ]
  },
  {
   "cell_type": "code",
   "execution_count": null,
   "metadata": {},
   "outputs": [],
   "source": [
    "# overall_tool_counts.to_csv(\"tools_world.csv\", index=True)"
   ]
  },
  {
   "cell_type": "markdown",
   "metadata": {},
   "source": [
    "## Machine Learning Models"
   ]
  },
  {
   "cell_type": "code",
   "execution_count": null,
   "metadata": {},
   "outputs": [],
   "source": [
    "regression = salary_df2[\"regression\"].value_counts()\n",
    "trees_forests = salary_df2[\"tree_forest\"].value_counts()\n",
    "gradient_boost = salary_df2[\"gradient_boost\"].value_counts()\n",
    "bayesian = salary_df2[\"bayesian\"].value_counts()\n",
    "evolutionary = salary_df2[\"evolutionary\"].value_counts()\n",
    "dnn = salary_df2[\"dnn\"].value_counts()\n",
    "cnn = salary_df2[\"cnn\"].value_counts()\n",
    "gan = salary_df2[\"gan\"].value_counts()\n",
    "rnn = salary_df2[\"rnn\"].value_counts()\n",
    "bert = salary_df2[\"bert\"].value_counts()\n",
    "machnone = salary_df2[\"mach_none\"].value_counts()\n",
    "machother = salary_df2[\"mach_other\"].value_counts()"
   ]
  },
  {
   "cell_type": "code",
   "execution_count": null,
   "metadata": {},
   "outputs": [],
   "source": [
    "overall_mach_counts = pd.concat([\n",
    "regression,\n",
    "trees_forests,\n",
    "gradient_boost,\n",
    "bayesian,\n",
    "evolutionary,\n",
    "dnn,\n",
    "cnn,\n",
    "gan,\n",
    "rnn,\n",
    "bert,\n",
    "machnone,\n",
    "machother,\n",
    "    \n",
    "], axis= 1)\n",
    "overall_mach_counts\n"
   ]
  },
  {
   "cell_type": "code",
   "execution_count": null,
   "metadata": {},
   "outputs": [],
   "source": [
    "overall_mach_counts = overall_mach_counts.transpose()\n",
    "overall_mach_counts.head()"
   ]
  },
  {
   "cell_type": "code",
   "execution_count": null,
   "metadata": {},
   "outputs": [],
   "source": [
    "total_mach_tool = ((overall_mach_counts[1]/(overall_mach_counts[0]+overall_mach_counts[1]))*100).round(2)\n",
    "total_mach_tool.head()"
   ]
  },
  {
   "cell_type": "code",
   "execution_count": null,
   "metadata": {},
   "outputs": [],
   "source": [
    "overall_mach_counts['percentage total'] = total_mach_tool"
   ]
  },
  {
   "cell_type": "code",
   "execution_count": null,
   "metadata": {},
   "outputs": [],
   "source": [
    "overall_mach_counts = overall_mach_counts.set_axis(['does not use','use','% of total used'], axis='columns', inplace=False)\n",
    "overall_mach_counts.head()"
   ]
  },
  {
   "cell_type": "code",
   "execution_count": null,
   "metadata": {},
   "outputs": [],
   "source": [
    "# overall_mach_counts.to_csv(\"mach_world.csv\", index=True)"
   ]
  },
  {
   "cell_type": "markdown",
   "metadata": {},
   "source": [
    "## Looking at basic info based on region"
   ]
  },
  {
   "cell_type": "code",
   "execution_count": null,
   "metadata": {},
   "outputs": [],
   "source": [
    "# look at salary ranges\n",
    "region = merged_df.groupby(\"region\")\n",
    "region_salary = pd.DataFrame(region[\"salary\"].mean()).rename(columns={\"salary\":\"avg salary\"}).round(0)\n",
    "region_salary.head()"
   ]
  },
  {
   "cell_type": "code",
   "execution_count": null,
   "metadata": {},
   "outputs": [],
   "source": [
    "# job title based on region\n",
    "region_title = pd.DataFrame(region[\"title\"].value_counts()).rename(columns={\"title\":\"title counts\"})\n",
    "region_title.head()"
   ]
  },
  {
   "cell_type": "code",
   "execution_count": null,
   "metadata": {},
   "outputs": [],
   "source": [
    "# look at gender stats\n",
    "region_gender = pd.DataFrame(region[\"gender\"].value_counts()).rename(columns={\"gender\":\"gender counts\"})\n",
    "region_gender.head()"
   ]
  },
  {
   "cell_type": "code",
   "execution_count": null,
   "metadata": {},
   "outputs": [],
   "source": [
    "# look at education counts\n",
    "region_education = pd.DataFrame(region[\"education\"].value_counts()).rename(columns={\"education\":\"level of education\"})\n",
    "region_education.head()"
   ]
  },
  {
   "cell_type": "markdown",
   "metadata": {},
   "source": [
    "## Languages knowledge based on region "
   ]
  },
  {
   "cell_type": "code",
   "execution_count": null,
   "metadata": {},
   "outputs": [],
   "source": [
    "# language value counts by region\n",
    "region_python_count = region[\"python\"].value_counts()\n",
    "region_r_count = region[\"r\"].value_counts()\n",
    "region_sql_count = region[\"sql\"].value_counts()\n",
    "region_c_count = region[\"c\"].value_counts()\n",
    "region_cplusplus_count = region[\"c++\"].value_counts()\n",
    "region_java_count = region[\"java\"].value_counts()\n",
    "region_javascript_count = region[\"javascript\"].value_counts()\n",
    "region_typescript_count = region[\"typescript\"].value_counts()\n",
    "region_bash_count = region[\"bash\"].value_counts()\n",
    "region_matlab_count = region[\"lan_matlab\"].value_counts()\n",
    "region_lannone_count = region[\"lan_none\"].value_counts()\n",
    "region_lanother_count = region[\"lan_other\"].value_counts()"
   ]
  },
  {
   "cell_type": "code",
   "execution_count": null,
   "metadata": {},
   "outputs": [],
   "source": [
    "# merge all the columns for the region data\n",
    "overall_lan_region_counts = pd.concat([region_python_count, region_r_count, region_sql_count, region_c_count, \n",
    "                                       region_cplusplus_count, region_java_count, region_javascript_count,\n",
    "                region_typescript_count, region_bash_count,region_matlab_count, region_lannone_count, region_lanother_count ], axis= 1)\n",
    "overall_lan_region_counts.head()\n"
   ]
  },
  {
   "cell_type": "code",
   "execution_count": null,
   "metadata": {},
   "outputs": [],
   "source": [
    "# transpose the datset \n",
    "overall_lan_region_counts = overall_lan_region_counts.transpose()\n",
    "overall_lan_region_counts.head()"
   ]
  },
  {
   "cell_type": "code",
   "execution_count": null,
   "metadata": {},
   "outputs": [],
   "source": [
    "# rename the region columns\n",
    "overall_lan_region_counts.columns = ['africa_1','africa_2',\n",
    "                                     'asia_1','asia_2',\n",
    "                                     'aus_1','aus_2',\n",
    "                                     'ee_1','ee_2',\n",
    "                                     'la_1','la_2',\n",
    "                                     'me_1','me_2',\n",
    "                                     'na_1','na_2',\n",
    "                                     'sa_1','sa_2',\n",
    "                                     'we_1','we_2']\n",
    "overall_lan_region_counts.head()"
   ]
  },
  {
   "cell_type": "code",
   "execution_count": null,
   "metadata": {},
   "outputs": [],
   "source": [
    "# percantage by region calculation test\n",
    "total_per_af = ((overall_lan_region_counts['africa_2']/(overall_lan_region_counts['africa_1']\n",
    "                                                            +overall_lan_region_counts['africa_2']))*100).round(2)\n",
    "total_per_af.head()"
   ]
  },
  {
   "cell_type": "code",
   "execution_count": null,
   "metadata": {},
   "outputs": [],
   "source": [
    "# percantage by region for remaining regions\n",
    "total_per_asia = ((overall_lan_region_counts['asia_2']/(overall_lan_region_counts['asia_1']\n",
    "                                                               +overall_lan_region_counts['asia_2']))*100).round(2)\n",
    "\n",
    "total_per_aus = ((overall_lan_region_counts['aus_2']/(overall_lan_region_counts['aus_1']\n",
    "                                                               +overall_lan_region_counts['aus_2']))*100).round(2)\n",
    "\n",
    "total_per_ee = ((overall_lan_region_counts['ee_2']/(overall_lan_region_counts['ee_1']\n",
    "                                                               +overall_lan_region_counts['ee_2']))*100).round(2)\n",
    "\n",
    "total_per_la = ((overall_lan_region_counts['la_2']/(overall_lan_region_counts['la_1']\n",
    "                                                               +overall_lan_region_counts['la_2']))*100).round(2)\n",
    "\n",
    "total_per_me = ((overall_lan_region_counts['me_2']/(overall_lan_region_counts['me_1']\n",
    "                                                               +overall_lan_region_counts['me_2']))*100).round(2)\n",
    "\n",
    "total_per_na = ((overall_lan_region_counts['na_2']/(overall_lan_region_counts['na_1']\n",
    "                                                               +overall_lan_region_counts['na_2']))*100).round(2)\n",
    "\n",
    "total_per_sa = ((overall_lan_region_counts['sa_2']/(overall_lan_region_counts['sa_1']\n",
    "                                                               +overall_lan_region_counts['sa_2']))*100).round(2)\n",
    "\n",
    "total_per_we = ((overall_lan_region_counts['we_2']/(overall_lan_region_counts['we_1']\n",
    "                                                               +overall_lan_region_counts['we_2']))*100).round(2)"
   ]
  },
  {
   "cell_type": "code",
   "execution_count": null,
   "metadata": {},
   "outputs": [],
   "source": [
    "# merging the percentages into a df\n",
    "region_perc = pd.concat([total_per_af, total_per_asia,total_per_aus,total_per_ee,total_per_la,total_per_me,total_per_na,\n",
    "                        total_per_sa,total_per_we], axis= 1)\n",
    "region_perc.head()"
   ]
  },
  {
   "cell_type": "markdown",
   "metadata": {},
   "source": [
    "### Final percentages of language per total column "
   ]
  },
  {
   "cell_type": "code",
   "execution_count": null,
   "metadata": {},
   "outputs": [],
   "source": [
    "# remaining the column types\n",
    "region_perc = region_perc.set_axis(['africa', 'asia', 'aus', 'ee', 'la', 'me', 'na', 'sa', 'we'], axis='columns', inplace=False)\n",
    "region_perc.head()"
   ]
  },
  {
   "cell_type": "markdown",
   "metadata": {},
   "source": [
    "## Tools Stats per region"
   ]
  },
  {
   "cell_type": "code",
   "execution_count": null,
   "metadata": {},
   "outputs": [],
   "source": [
    "# stats on tools used \n",
    "region_jupyter_count = region[\"jupyter\"].value_counts()\n",
    "region_rstudio_count = region[\"rstudio\"].value_counts()\n",
    "region_pycharm_count = region[\"pycharm\"].value_counts()\n",
    "region_atom_count = region[\"atom\"].value_counts()\n",
    "region_matlab_count = region[\"matlab\"].value_counts()\n",
    "region_vsc_count = region[\"vsc\"].value_counts()\n",
    "region_spyder_count = region[\"spyder\"].value_counts()\n",
    "region_vim_emacs_count = region[\"vim_emacs\"].value_counts()\n",
    "region_notepadplus_count = region[\"notepad++\"].value_counts()\n",
    "region_sublime_count = region[\"sublime\"].value_counts()\n",
    "region_envnone_count = region[\"env_none\"].value_counts()\n",
    "region_envother_count = region[\"env_other\"].value_counts()"
   ]
  },
  {
   "cell_type": "code",
   "execution_count": null,
   "metadata": {},
   "outputs": [],
   "source": [
    "# making a df from above stats \n",
    "overall_tools_region_counts = pd.concat([\n",
    "region_jupyter_count,\n",
    "region_rstudio_count, \n",
    "region_pycharm_count, \n",
    "region_atom_count,\n",
    "region_matlab_count,\n",
    "region_vsc_count,\n",
    "region_spyder_count,\n",
    "region_vim_emacs_count,\n",
    "region_notepadplus_count,\n",
    "region_sublime_count,\n",
    "region_envnone_count,\n",
    "region_envother_count, ], axis= 1)\n",
    "overall_tools_region_counts.head()"
   ]
  },
  {
   "cell_type": "code",
   "execution_count": null,
   "metadata": {},
   "outputs": [],
   "source": [
    "# transposing the data above \n",
    "overall_tools_region_counts = overall_tools_region_counts.transpose()\n",
    "overall_tools_region_counts.head()"
   ]
  },
  {
   "cell_type": "code",
   "execution_count": null,
   "metadata": {},
   "outputs": [],
   "source": [
    "# renaming the columns \n",
    "overall_tools_region_counts.columns = ['africa_1','africa_2',\n",
    "                                     'asia_1','asia_2',\n",
    "                                     'aus_1','aus_2',\n",
    "                                     'ee_1','ee_2',\n",
    "                                     'la_1','la_2',\n",
    "                                     'me_1','me_2',\n",
    "                                     'na_1','na_2',\n",
    "                                     'sa_1','sa_2',\n",
    "                                     'we_1','we_2']\n",
    "overall_tools_region_counts.head()"
   ]
  },
  {
   "cell_type": "code",
   "execution_count": null,
   "metadata": {},
   "outputs": [],
   "source": [
    "# perctange of tools used per region\n",
    "total_per_tools_af = ((overall_tools_region_counts['africa_2']/(overall_tools_region_counts['africa_1']\n",
    "                                                               +overall_tools_region_counts['africa_2']))*100).round(2)\n",
    "total_per_tools_af.head()"
   ]
  },
  {
   "cell_type": "code",
   "execution_count": null,
   "metadata": {},
   "outputs": [],
   "source": [
    "# remaining percantages for the other regions\n",
    "total_per_tools_asia = ((overall_tools_region_counts['asia_2']/(overall_tools_region_counts['asia_1']\n",
    "                                                               +overall_tools_region_counts['asia_2']))*100).round(2)\n",
    "\n",
    "total_per_tools_aus = ((overall_tools_region_counts['aus_2']/(overall_tools_region_counts['aus_1']\n",
    "                                                               +overall_tools_region_counts['aus_2']))*100).round(2)\n",
    "\n",
    "total_per_tools_ee = ((overall_tools_region_counts['ee_2']/(overall_tools_region_counts['ee_1']\n",
    "                                                               +overall_tools_region_counts['ee_2']))*100).round(2)\n",
    "\n",
    "total_per_tools_la = ((overall_tools_region_counts['la_2']/(overall_tools_region_counts['la_1']\n",
    "                                                               +overall_tools_region_counts['la_2']))*100).round(2)\n",
    "\n",
    "total_per_tools_me = ((overall_tools_region_counts['me_2']/(overall_tools_region_counts['me_1']\n",
    "                                                               +overall_tools_region_counts['me_2']))*100).round(2)\n",
    "\n",
    "total_per_tools_na = ((overall_tools_region_counts['na_2']/(overall_tools_region_counts['na_1']\n",
    "                                                               +overall_tools_region_counts['na_2']))*100).round(2)\n",
    "\n",
    "total_per_tools_sa = ((overall_tools_region_counts['sa_2']/(overall_tools_region_counts['sa_1']\n",
    "                                                               +overall_tools_region_counts['sa_2']))*100).round(2)\n",
    "\n",
    "total_per_tools_we = ((overall_tools_region_counts['we_2']/(overall_tools_region_counts['we_1']\n",
    "                                                               +overall_tools_region_counts['we_2']))*100).round(2)"
   ]
  },
  {
   "cell_type": "code",
   "execution_count": null,
   "metadata": {},
   "outputs": [],
   "source": [
    "# making a df for the percentages of tools used \n",
    "region_tools_perc = pd.concat([total_per_tools_af, total_per_tools_asia,total_per_tools_aus,total_per_tools_ee,total_per_tools_la,\n",
    "                         total_per_tools_me,total_per_tools_na,\n",
    "                        total_per_tools_sa,total_per_tools_we], axis= 1)\n",
    "region_tools_perc.head()"
   ]
  },
  {
   "cell_type": "markdown",
   "metadata": {},
   "source": [
    "### Final percantages based on tools popularity "
   ]
  },
  {
   "cell_type": "code",
   "execution_count": null,
   "metadata": {},
   "outputs": [],
   "source": [
    "# renaming the columns above \n",
    "region_tools_perc = region_tools_perc.set_axis(['africa', 'asia', 'aus', 'ee', 'la', 'me', 'na', 'sa', 'we'], axis='columns', inplace=False)\n",
    "region_tools_perc.head()"
   ]
  },
  {
   "cell_type": "markdown",
   "metadata": {},
   "source": [
    "## Database popularity based on region"
   ]
  },
  {
   "cell_type": "code",
   "execution_count": null,
   "metadata": {},
   "outputs": [],
   "source": [
    "# stats on database used \n",
    "region_mysql_count = region[\"mysql\"].value_counts()\n",
    "region_postgres_count = region[\"postgres\"].value_counts()\n",
    "region_sqllite_count = region[\"sql_lite\"].value_counts()\n",
    "region_sqlsever_count = region[\"sqlserver\"].value_counts()\n",
    "region_oracle_count = region[\"oracle\"].value_counts()\n",
    "region_microacess_count = region[\"micro_acess\"].value_counts()\n",
    "region_awsdata_count = region[\"aws_data\"].value_counts()\n",
    "region_awsdynamo_emacs_count = region[\"aws_dynamo\"].value_counts()\n",
    "region_azuresql_count = region[\"azure_sql\"].value_counts()\n",
    "region_googlesql_count = region[\"google_sql\"].value_counts()\n",
    "region_databasenone_count = region[\"database_none\"].value_counts()\n",
    "region_databaseother_count = region[\"database_other\"].value_counts()"
   ]
  },
  {
   "cell_type": "code",
   "execution_count": null,
   "metadata": {},
   "outputs": [],
   "source": [
    "# making a df from above stats \n",
    "database_region_counts = pd.concat([\n",
    "region_mysql_count,\n",
    "region_postgres_count,\n",
    "region_sqllite_count,\n",
    "region_sqlsever_count,\n",
    "region_oracle_count,\n",
    "region_microacess_count,\n",
    "region_awsdata_count,\n",
    "region_awsdynamo_emacs_count,\n",
    "region_azuresql_count,\n",
    "region_googlesql_count,\n",
    "region_databasenone_count,\n",
    "region_databaseother_count,\n",
    "], axis= 1)\n",
    "database_region_counts.head()"
   ]
  },
  {
   "cell_type": "code",
   "execution_count": null,
   "metadata": {},
   "outputs": [],
   "source": [
    "# transposing above df\n",
    "database_region_counts = database_region_counts.transpose()\n",
    "database_region_counts.head()"
   ]
  },
  {
   "cell_type": "code",
   "execution_count": null,
   "metadata": {},
   "outputs": [],
   "source": [
    "# renaming the columns \n",
    "database_region_counts.columns = ['africa_1','africa_2',\n",
    "                                     'asia_1','asia_2',\n",
    "                                     'aus_1','aus_2',\n",
    "                                     'ee_1','ee_2',\n",
    "                                     'la_1','la_2',\n",
    "                                     'me_1','me_2',\n",
    "                                     'na_1','na_2',\n",
    "                                     'sa_1','sa_2',\n",
    "                                     'we_1','we_2']\n",
    "database_region_counts.head()"
   ]
  },
  {
   "cell_type": "code",
   "execution_count": null,
   "metadata": {},
   "outputs": [],
   "source": [
    "# perctange of databases used per region\n",
    "total_per_database_af = ((database_region_counts['africa_2']/(database_region_counts['africa_1']\n",
    "                                                               +database_region_counts['africa_2']))*100).round(2)\n",
    "total_per_database_af.head()"
   ]
  },
  {
   "cell_type": "code",
   "execution_count": null,
   "metadata": {},
   "outputs": [],
   "source": [
    "# remaining percantages for the other regions\n",
    "total_per_database_asia = ((database_region_counts['asia_2']/(database_region_counts['asia_1']\n",
    "                                                               +database_region_counts['asia_2']))*100).round(2)\n",
    "\n",
    "total_per_database_aus = ((database_region_counts['aus_2']/(database_region_counts['aus_1']\n",
    "                                                               +database_region_counts['aus_2']))*100).round(2)\n",
    "\n",
    "total_per_database_ee = ((database_region_counts['ee_2']/(database_region_counts['ee_1']\n",
    "                                                               +database_region_counts['ee_2']))*100).round(2)\n",
    "\n",
    "total_per_database_la = ((database_region_counts['la_2']/(database_region_counts['la_1']\n",
    "                                                               +database_region_counts['la_2']))*100).round(2)\n",
    "\n",
    "total_per_database_me = ((database_region_counts['me_2']/(database_region_counts['me_1']\n",
    "                                                               +database_region_counts['me_2']))*100).round(2)\n",
    "\n",
    "total_per_database_na = ((database_region_counts['na_2']/(database_region_counts['na_1']\n",
    "                                                               +database_region_counts['na_2']))*100).round(2)\n",
    "\n",
    "total_per_database_sa = ((database_region_counts['sa_2']/(database_region_counts['sa_1']\n",
    "                                                               +database_region_counts['sa_2']))*100).round(2)\n",
    "\n",
    "total_per_database_we = ((database_region_counts['we_2']/(database_region_counts['we_1']\n",
    "                                                               +database_region_counts['we_2']))*100).round(2)"
   ]
  },
  {
   "cell_type": "code",
   "execution_count": null,
   "metadata": {},
   "outputs": [],
   "source": [
    "# making a df for the percentages of tools used \n",
    "region_database_perc = pd.concat([\n",
    "total_per_database_af,\n",
    "total_per_database_asia,\n",
    "    total_per_database_aus,\n",
    "    total_per_database_ee,\n",
    "    total_per_database_la,\n",
    "    total_per_database_me,\n",
    "    total_per_database_na,\n",
    "    total_per_database_sa,\n",
    "    total_per_database_we,\n",
    "    \n",
    "], axis= 1)\n",
    "region_database_perc.head()"
   ]
  },
  {
   "cell_type": "code",
   "execution_count": null,
   "metadata": {},
   "outputs": [],
   "source": [
    "# renaming the columns above \n",
    "region_database_perc = region_database_perc.set_axis(['africa', 'asia', 'aus', 'ee', 'la', 'me', 'na', 'sa', 'we'], axis='columns', inplace=False)\n",
    "region_database_perc"
   ]
  },
  {
   "cell_type": "markdown",
   "metadata": {},
   "source": [
    "## Database 1 counts"
   ]
  },
  {
   "cell_type": "code",
   "execution_count": 21,
   "metadata": {},
   "outputs": [
    {
     "data": {
      "text/html": [
       "<div>\n",
       "<style scoped>\n",
       "    .dataframe tbody tr th:only-of-type {\n",
       "        vertical-align: middle;\n",
       "    }\n",
       "\n",
       "    .dataframe tbody tr th {\n",
       "        vertical-align: top;\n",
       "    }\n",
       "\n",
       "    .dataframe thead th {\n",
       "        text-align: right;\n",
       "    }\n",
       "</style>\n",
       "<table border=\"1\" class=\"dataframe\">\n",
       "  <thead>\n",
       "    <tr style=\"text-align: right;\">\n",
       "      <th></th>\n",
       "      <th>Unnamed: 0</th>\n",
       "      <th>id</th>\n",
       "      <th>salaryusd</th>\n",
       "      <th>country</th>\n",
       "      <th>primarydatabase</th>\n",
       "      <th>yearswiththisdatabase</th>\n",
       "      <th>employmentstatus</th>\n",
       "      <th>jobtitle</th>\n",
       "      <th>managestaff</th>\n",
       "      <th>yearswiththistypeofjob</th>\n",
       "      <th>otherpeopleonyourteam</th>\n",
       "      <th>education</th>\n",
       "      <th>educationiscomputerrelated</th>\n",
       "      <th>certifications</th>\n",
       "      <th>hoursworkedperweek</th>\n",
       "      <th>telecommutedaysperweek</th>\n",
       "      <th>employmentsector</th>\n",
       "      <th>region</th>\n",
       "    </tr>\n",
       "  </thead>\n",
       "  <tbody>\n",
       "    <tr>\n",
       "      <th>0</th>\n",
       "      <td>0</td>\n",
       "      <td>0</td>\n",
       "      <td>200000.0</td>\n",
       "      <td>United States</td>\n",
       "      <td>Microsoft SQL Server</td>\n",
       "      <td>10.0</td>\n",
       "      <td>Full time employee</td>\n",
       "      <td>DBA</td>\n",
       "      <td>No</td>\n",
       "      <td>5.0</td>\n",
       "      <td>2</td>\n",
       "      <td>Masters</td>\n",
       "      <td>No</td>\n",
       "      <td>Yes, and they're currently valid</td>\n",
       "      <td>45.0</td>\n",
       "      <td>1</td>\n",
       "      <td>Private business</td>\n",
       "      <td>North America</td>\n",
       "    </tr>\n",
       "    <tr>\n",
       "      <th>1</th>\n",
       "      <td>1</td>\n",
       "      <td>1</td>\n",
       "      <td>137500.0</td>\n",
       "      <td>United States</td>\n",
       "      <td>Microsoft SQL Server</td>\n",
       "      <td>16.0</td>\n",
       "      <td>Full time employee</td>\n",
       "      <td>DBA</td>\n",
       "      <td>No</td>\n",
       "      <td>6.0</td>\n",
       "      <td>4</td>\n",
       "      <td>None (no degree completed)</td>\n",
       "      <td>NaN</td>\n",
       "      <td>Yes, and they're currently valid</td>\n",
       "      <td>55.0</td>\n",
       "      <td>5 or more</td>\n",
       "      <td>Private business</td>\n",
       "      <td>North America</td>\n",
       "    </tr>\n",
       "    <tr>\n",
       "      <th>2</th>\n",
       "      <td>2</td>\n",
       "      <td>2</td>\n",
       "      <td>85000.0</td>\n",
       "      <td>United States</td>\n",
       "      <td>Microsoft SQL Server</td>\n",
       "      <td>8.0</td>\n",
       "      <td>Full time employee</td>\n",
       "      <td>DBA</td>\n",
       "      <td>No</td>\n",
       "      <td>2.0</td>\n",
       "      <td>None</td>\n",
       "      <td>Bachelors (4 years)</td>\n",
       "      <td>Yes</td>\n",
       "      <td>No, I never have</td>\n",
       "      <td>50.0</td>\n",
       "      <td>None, or less than 1 day per week</td>\n",
       "      <td>Private business</td>\n",
       "      <td>North America</td>\n",
       "    </tr>\n",
       "    <tr>\n",
       "      <th>3</th>\n",
       "      <td>3</td>\n",
       "      <td>3</td>\n",
       "      <td>96000.0</td>\n",
       "      <td>United States</td>\n",
       "      <td>Microsoft SQL Server</td>\n",
       "      <td>5.0</td>\n",
       "      <td>Full time employee</td>\n",
       "      <td>DBA</td>\n",
       "      <td>No</td>\n",
       "      <td>5.0</td>\n",
       "      <td>None</td>\n",
       "      <td>Masters</td>\n",
       "      <td>No</td>\n",
       "      <td>No, I never have</td>\n",
       "      <td>45.0</td>\n",
       "      <td>1</td>\n",
       "      <td>Private business</td>\n",
       "      <td>North America</td>\n",
       "    </tr>\n",
       "    <tr>\n",
       "      <th>4</th>\n",
       "      <td>4</td>\n",
       "      <td>4</td>\n",
       "      <td>66000.0</td>\n",
       "      <td>United States</td>\n",
       "      <td>Microsoft SQL Server</td>\n",
       "      <td>10.0</td>\n",
       "      <td>Full time employee</td>\n",
       "      <td>Developer</td>\n",
       "      <td>No</td>\n",
       "      <td>10.0</td>\n",
       "      <td>None</td>\n",
       "      <td>Associates (2 years)</td>\n",
       "      <td>NaN</td>\n",
       "      <td>No, I never have</td>\n",
       "      <td>60.0</td>\n",
       "      <td>5 or more</td>\n",
       "      <td>Private business</td>\n",
       "      <td>North America</td>\n",
       "    </tr>\n",
       "  </tbody>\n",
       "</table>\n",
       "</div>"
      ],
      "text/plain": [
       "   Unnamed: 0  id  salaryusd        country       primarydatabase  \\\n",
       "0           0   0   200000.0  United States  Microsoft SQL Server   \n",
       "1           1   1   137500.0  United States  Microsoft SQL Server   \n",
       "2           2   2    85000.0  United States  Microsoft SQL Server   \n",
       "3           3   3    96000.0  United States  Microsoft SQL Server   \n",
       "4           4   4    66000.0  United States  Microsoft SQL Server   \n",
       "\n",
       "   yearswiththisdatabase    employmentstatus   jobtitle managestaff  \\\n",
       "0                   10.0  Full time employee        DBA          No   \n",
       "1                   16.0  Full time employee        DBA          No   \n",
       "2                    8.0  Full time employee        DBA          No   \n",
       "3                    5.0  Full time employee        DBA          No   \n",
       "4                   10.0  Full time employee  Developer          No   \n",
       "\n",
       "   yearswiththistypeofjob otherpeopleonyourteam                   education  \\\n",
       "0                     5.0                     2                     Masters   \n",
       "1                     6.0                     4  None (no degree completed)   \n",
       "2                     2.0                  None         Bachelors (4 years)   \n",
       "3                     5.0                  None                     Masters   \n",
       "4                    10.0                  None        Associates (2 years)   \n",
       "\n",
       "  educationiscomputerrelated                    certifications  \\\n",
       "0                         No  Yes, and they're currently valid   \n",
       "1                        NaN  Yes, and they're currently valid   \n",
       "2                        Yes                  No, I never have   \n",
       "3                         No                  No, I never have   \n",
       "4                        NaN                  No, I never have   \n",
       "\n",
       "   hoursworkedperweek             telecommutedaysperweek  employmentsector  \\\n",
       "0                45.0                                  1  Private business   \n",
       "1                55.0                          5 or more  Private business   \n",
       "2                50.0  None, or less than 1 day per week  Private business   \n",
       "3                45.0                                  1  Private business   \n",
       "4                60.0                          5 or more  Private business   \n",
       "\n",
       "          region  \n",
       "0  North America  \n",
       "1  North America  \n",
       "2  North America  \n",
       "3  North America  \n",
       "4  North America  "
      ]
     },
     "execution_count": 21,
     "metadata": {},
     "output_type": "execute_result"
    }
   ],
   "source": [
    "# import clean csv to df\n",
    "salary_df1 = pd.read_csv(\"../exported_data/salary_data1.csv\")\n",
    "salary_df1.head()"
   ]
  },
  {
   "cell_type": "code",
   "execution_count": 24,
   "metadata": {},
   "outputs": [
    {
     "data": {
      "text/plain": [
       "DBA          3485\n",
       "Developer    1615\n",
       "Architect     523\n",
       "Manager       386\n",
       "Analyst       348\n",
       "Engineer      294\n",
       "Name: jobtitle, dtype: int64"
      ]
     },
     "execution_count": 24,
     "metadata": {},
     "output_type": "execute_result"
    }
   ],
   "source": [
    "job1_count = salary_df1[\"jobtitle\"].value_counts()\n",
    "job1_count"
   ]
  },
  {
   "cell_type": "code",
   "execution_count": null,
   "metadata": {},
   "outputs": [],
   "source": []
  }
 ],
 "metadata": {
  "kernelspec": {
   "display_name": "Python 3",
   "language": "python",
   "name": "python3"
  },
  "language_info": {
   "codemirror_mode": {
    "name": "ipython",
    "version": 3
   },
   "file_extension": ".py",
   "mimetype": "text/x-python",
   "name": "python",
   "nbconvert_exporter": "python",
   "pygments_lexer": "ipython3",
   "version": "3.6.10"
  }
 },
 "nbformat": 4,
 "nbformat_minor": 4
}
